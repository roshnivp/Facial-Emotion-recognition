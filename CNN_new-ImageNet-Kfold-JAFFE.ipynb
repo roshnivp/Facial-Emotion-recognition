{
 "cells": [
  {
   "cell_type": "markdown",
   "metadata": {
    "deletable": true,
    "editable": true
   },
   "source": [
    "\n",
    "\n",
    "### Convolutional Layer\n",
    "The following chart shows the basic idea of processing an image in the first convolutional layer. The input image depicts the number 7 and four copies of the image are shown here, so we can see more clearly how the filter is being moved to different positions of the image. For each position of the filter, the dot-product is being calculated between the filter and the image pixels under the filter, which results in a single pixel in the output image. So moving the filter across the entire input image results in a new image being generated.\n",
    "The red filter-weights means that the filter has a positive reaction to black pixels in the input image, while blue pixels means the filter has a negative reaction to black pixels.\n",
    "In this case it appears that the filter recognizes the horizontal line of the 7-digit, as can be seen from its stronger reaction to that line in the output image."
   ]
  },
  {
   "cell_type": "markdown",
   "metadata": {
    "deletable": true,
    "editable": true
   },
   "source": [
    "\n",
    "### Imports"
   ]
  },
  {
   "cell_type": "code",
   "execution_count": 158,
   "metadata": {
    "collapsed": true,
    "deletable": true,
    "editable": true
   },
   "outputs": [],
   "source": [
    "%matplotlib inline\n",
    "import matplotlib.pyplot as plt\n",
    "import tensorflow as tf\n",
    "import numpy as np\n",
    "from sklearn.metrics import confusion_matrix\n",
    "from sklearn.cross_validation import train_test_split\n",
    "import time\n",
    "from datetime import timedelta\n",
    "import math"
   ]
  },
  {
   "cell_type": "code",
   "execution_count": 159,
   "metadata": {
    "collapsed": false,
    "deletable": true,
    "editable": true
   },
   "outputs": [
    {
     "data": {
      "text/plain": [
       "'1.2.1'"
      ]
     },
     "execution_count": 159,
     "metadata": {},
     "output_type": "execute_result"
    }
   ],
   "source": [
    "tf.__version__\n"
   ]
  },
  {
   "cell_type": "markdown",
   "metadata": {
    "deletable": true,
    "editable": true
   },
   "source": [
    "### Configuration of Neural Network\n",
    "The configuration of the Convolutional Neural Network is defined here for convenience, so you can easily find and change these numbers and re-run the Notebook."
   ]
  },
  {
   "cell_type": "code",
   "execution_count": 160,
   "metadata": {
    "collapsed": true,
    "deletable": true,
    "editable": true
   },
   "outputs": [],
   "source": [
    "# Convolutional Layer 1.\n",
    "filter_size1 = 5          # Convolution filters are 5 x 5 pixels.\n",
    "num_filters1 = 42         # There are 42 of these filters.\n",
    "\n",
    "# Convolutional Layer 2.\n",
    "filter_size2 = 3          # Convolution filters are 4 x 4 pixels.\n",
    "num_filters2 = 20         # There are 20 of these filters.\n",
    "\n",
    "# Convolutional Layer 3.\n",
    "filter_size3 = 3          # Convolution filters are 5 x 5 pixels.\n",
    "num_filters3 = 100 \n",
    "\n",
    "# Convolutional Layer 4.\n",
    "filter_size4 = 3          # Convolution filters are 5 x 5 pixels.\n",
    "num_filters4 = 10 \n",
    "\n",
    "# Convolutional Layer 5.\n",
    "filter_size5 = 3          # Convolution filters are 5 x 5 pixels.\n",
    "num_filters5 = 10 \n",
    "\n",
    "# Convolutional Layer 6.\n",
    "filter_size6 = 5          # Convolution filters are 5 x 5 pixels.\n",
    "num_filters6 = 1 \n",
    "\n",
    "# Fully-connected layer.\n",
    "fc_size = 100             # Number of neurons in fully-connected layer."
   ]
  },
  {
   "cell_type": "code",
   "execution_count": 161,
   "metadata": {
    "collapsed": true,
    "deletable": true,
    "editable": true
   },
   "outputs": [],
   "source": [
    "def convertToOneHot(labels, num_classes):\n",
    "        one_hot = np.zeros((len(labels), num_classes))\n",
    "\n",
    "        for i in range(len(labels)):\n",
    "                j =int(labels[i][0])\n",
    "                one_hot[i][j] = 1\n",
    "        return np.array(one_hot)\n",
    "        #print(one_hot)\n"
   ]
  },
  {
   "cell_type": "code",
   "execution_count": 162,
   "metadata": {
    "collapsed": false,
    "deletable": true,
    "editable": true
   },
   "outputs": [],
   "source": [
    "new_array =[]\n",
    "with open(\"data_jaffe/Labels/labels_new.txt\", \"r\") as f:\n",
    "    data =f.readlines()\n",
    "    line =data[0]\n",
    "    line =line.strip()\n",
    "    val =line.split()\n",
    "    for values in val:\n",
    "       new_array.append(values)\n",
    "  "
   ]
  },
  {
   "cell_type": "code",
   "execution_count": 163,
   "metadata": {
    "collapsed": false,
    "deletable": true,
    "editable": true
   },
   "outputs": [],
   "source": [
    "\n",
    "labels = convertToOneHot(new_array,7)"
   ]
  },
  {
   "cell_type": "code",
   "execution_count": 164,
   "metadata": {
    "collapsed": false,
    "deletable": true,
    "editable": true
   },
   "outputs": [
    {
     "data": {
      "text/plain": [
       "(2130, 7)"
      ]
     },
     "execution_count": 164,
     "metadata": {},
     "output_type": "execute_result"
    }
   ],
   "source": [
    "labels.shape"
   ]
  },
  {
   "cell_type": "code",
   "execution_count": 165,
   "metadata": {
    "collapsed": true,
    "deletable": true,
    "editable": true
   },
   "outputs": [],
   "source": [
    "import scipy.misc"
   ]
  },
  {
   "cell_type": "code",
   "execution_count": 166,
   "metadata": {
    "collapsed": false,
    "deletable": true,
    "editable": true
   },
   "outputs": [
    {
     "data": {
      "text/plain": [
       "<function scipy.misc.pilutil.imread>"
      ]
     },
     "execution_count": 166,
     "metadata": {},
     "output_type": "execute_result"
    }
   ],
   "source": [
    "scipy.misc.imread"
   ]
  },
  {
   "cell_type": "code",
   "execution_count": 167,
   "metadata": {
    "collapsed": true,
    "deletable": true,
    "editable": true
   },
   "outputs": [],
   "source": [
    "from PIL import Image\n",
    "import glob,os\n",
    "\n",
    "def image_vector(img_path):\n",
    "    image =[]\n",
    "    for infile in glob.glob( os.path.join(img_path, \"*.tiff\") ):\n",
    "                img = Image.open(infile)\n",
    "                new_list =list(img.getdata())\n",
    "                image.append(new_list)\n",
    "    return np.array(image)"
   ]
  },
  {
   "cell_type": "code",
   "execution_count": 168,
   "metadata": {
    "collapsed": true,
    "deletable": true,
    "editable": true
   },
   "outputs": [],
   "source": [
    "image_path = 'data_jaffe/Synthetic_Cropped'\n",
    "images =image_vector(image_path)"
   ]
  },
  {
   "cell_type": "code",
   "execution_count": 169,
   "metadata": {
    "collapsed": true,
    "deletable": true,
    "editable": true
   },
   "outputs": [],
   "source": [
    "#train_images,test_images,train_labels,test_labels = X_train, X_test, y_train, y_test = train_test_split(images, labels, test_size=0.2)"
   ]
  },
  {
   "cell_type": "code",
   "execution_count": 170,
   "metadata": {
    "collapsed": true,
    "deletable": true,
    "editable": true
   },
   "outputs": [],
   "source": [
    "a =images[:1064]"
   ]
  },
  {
   "cell_type": "code",
   "execution_count": 171,
   "metadata": {
    "collapsed": true,
    "deletable": true,
    "editable": true
   },
   "outputs": [],
   "source": [
    "b= images[1596:]"
   ]
  },
  {
   "cell_type": "code",
   "execution_count": 172,
   "metadata": {
    "collapsed": false,
    "deletable": true,
    "editable": true
   },
   "outputs": [],
   "source": [
    "train_images =np.concatenate((a,b)) \n",
    "#np.concatenate((a,b))\n",
    "#images[:784]\n"
   ]
  },
  {
   "cell_type": "code",
   "execution_count": 173,
   "metadata": {
    "collapsed": true,
    "deletable": true,
    "editable": true
   },
   "outputs": [],
   "source": [
    "test_images = images[1064:1596]"
   ]
  },
  {
   "cell_type": "code",
   "execution_count": 174,
   "metadata": {
    "collapsed": true,
    "deletable": true,
    "editable": true
   },
   "outputs": [],
   "source": [
    "c =labels[:1064,:]"
   ]
  },
  {
   "cell_type": "code",
   "execution_count": 175,
   "metadata": {
    "collapsed": true,
    "deletable": true,
    "editable": true
   },
   "outputs": [],
   "source": [
    "d = labels[1596:,:]"
   ]
  },
  {
   "cell_type": "code",
   "execution_count": 176,
   "metadata": {
    "collapsed": false,
    "deletable": true,
    "editable": true
   },
   "outputs": [],
   "source": [
    "train_labels = np.concatenate((c,d))\n",
    "#np.concatenate((c,d))\n",
    "#labels[:784,:]\n"
   ]
  },
  {
   "cell_type": "code",
   "execution_count": 177,
   "metadata": {
    "collapsed": true,
    "deletable": true,
    "editable": true
   },
   "outputs": [],
   "source": [
    "test_labels =labels[1064:1596,:]"
   ]
  },
  {
   "cell_type": "code",
   "execution_count": 178,
   "metadata": {
    "collapsed": true,
    "deletable": true,
    "editable": true
   },
   "outputs": [],
   "source": [
    "test_cls = np.argmax(test_labels, axis=1)\n"
   ]
  },
  {
   "cell_type": "code",
   "execution_count": 179,
   "metadata": {
    "collapsed": false,
    "deletable": true,
    "editable": true
   },
   "outputs": [
    {
     "data": {
      "text/plain": [
       "array([3, 4, 4, 4, 5, 5, 5, 6, 6, 6, 6, 1, 1, 1, 1, 0, 0, 0, 2, 2, 2, 3, 3,\n",
       "       3, 4, 4, 4, 5, 5, 5, 5, 6, 6, 6, 1, 1, 1, 0, 0, 0, 2, 2, 2, 3, 3, 3,\n",
       "       4, 4, 4, 5, 5, 6, 6, 6, 1, 1, 1, 1, 0, 0, 0, 2, 2, 2, 2, 3, 3, 3, 4,\n",
       "       4, 4, 5, 5, 5, 6, 6, 6, 1, 1, 0, 0, 0, 2, 2, 2, 3, 3, 3, 4, 4, 4, 5,\n",
       "       5, 5, 6, 6, 6, 1, 1, 1, 0, 0, 0, 2, 2, 2, 3, 3, 3, 4, 4, 4, 5, 5, 5,\n",
       "       6, 6, 6, 1, 1, 1, 0, 0, 0, 2, 2, 2, 3, 3, 3, 4, 4, 4, 5, 5, 6, 6, 6,\n",
       "       1, 1, 1, 0, 0, 0, 2, 2, 2, 3, 3, 3, 4, 4, 4, 5, 5, 5, 6, 6, 6, 1, 1,\n",
       "       1, 0, 0, 0, 2, 2, 2, 3, 3, 3, 4, 4, 4, 5, 5, 5, 6, 6, 6, 1, 1, 1, 0,\n",
       "       0, 0, 2, 2, 2, 3, 3, 3, 4, 4, 4, 5, 5, 5, 6, 6, 6, 6, 1, 1, 1, 0, 0,\n",
       "       0, 2, 2, 2, 3, 3, 3, 4, 4, 4, 5, 5, 5, 6, 6, 6, 6, 1, 1, 1, 1, 0, 0,\n",
       "       0, 2, 2, 2, 3, 3, 3, 4, 4, 4, 5, 5, 5, 5, 6, 6, 6, 1, 1, 1, 0, 0, 0,\n",
       "       2, 2, 2, 3, 3, 3, 4, 4, 4, 5, 5, 6, 6, 6, 1, 1, 1, 1, 0, 0, 0, 2, 2,\n",
       "       2, 2, 3, 3, 3, 4, 4, 4, 5, 5, 5, 6, 6, 6, 1, 1, 0, 0, 0, 2, 2, 2, 3,\n",
       "       3, 3, 4, 4, 4, 5, 5, 5, 6, 6, 6, 1, 1, 1, 0, 0, 0, 2, 2, 2, 3, 3, 3,\n",
       "       4, 4, 4, 5, 5, 5, 6, 6, 6, 1, 1, 1, 0, 0, 0, 2, 2, 2, 3, 3, 3, 4, 4,\n",
       "       4, 5, 5, 6, 6, 6, 1, 1, 1, 0, 0, 0, 2, 2, 2, 3, 3, 3, 4, 4, 4, 5, 5,\n",
       "       5, 6, 6, 6, 1, 1, 1, 0, 0, 0, 2, 2, 2, 3, 3, 3, 4, 4, 4, 5, 5, 5, 6,\n",
       "       6, 6, 1, 1, 1, 0, 0, 0, 2, 2, 2, 3, 3, 3, 4, 4, 4, 5, 5, 5, 6, 6, 6,\n",
       "       6, 1, 1, 1, 0, 0, 0, 2, 2, 2, 3, 3, 3, 4, 4, 4, 5, 5, 5, 6, 6, 6, 6,\n",
       "       1, 1, 1, 1, 0, 0, 0, 2, 2, 2, 3, 3, 3, 4, 4, 4, 5, 5, 5, 5, 6, 6, 6,\n",
       "       1, 1, 1, 0, 0, 0, 2, 2, 2, 3, 3, 3, 4, 4, 4, 5, 5, 6, 6, 6, 1, 1, 1,\n",
       "       1, 0, 0, 0, 2, 2, 2, 2, 3, 3, 3, 4, 4, 4, 5, 5, 5, 6, 6, 6, 1, 1, 0,\n",
       "       0, 0, 2, 2, 2, 3, 3, 3, 4, 4, 4, 5, 5, 5, 6, 6, 6, 1, 1, 1, 0, 0, 0,\n",
       "       2, 2, 2])"
      ]
     },
     "execution_count": 179,
     "metadata": {},
     "output_type": "execute_result"
    }
   ],
   "source": [
    "test_cls"
   ]
  },
  {
   "cell_type": "code",
   "execution_count": 180,
   "metadata": {
    "collapsed": false,
    "deletable": true,
    "editable": true
   },
   "outputs": [
    {
     "data": {
      "text/plain": [
       "(532, 65536)"
      ]
     },
     "execution_count": 180,
     "metadata": {},
     "output_type": "execute_result"
    }
   ],
   "source": [
    "test_images.shape"
   ]
  },
  {
   "cell_type": "code",
   "execution_count": 181,
   "metadata": {
    "collapsed": false,
    "deletable": true,
    "editable": true
   },
   "outputs": [
    {
     "data": {
      "text/plain": [
       "(1598, 65536)"
      ]
     },
     "execution_count": 181,
     "metadata": {},
     "output_type": "execute_result"
    }
   ],
   "source": [
    "train_images.shape"
   ]
  },
  {
   "cell_type": "code",
   "execution_count": 182,
   "metadata": {
    "collapsed": false,
    "deletable": true,
    "editable": true
   },
   "outputs": [
    {
     "data": {
      "text/plain": [
       "(532, 7)"
      ]
     },
     "execution_count": 182,
     "metadata": {},
     "output_type": "execute_result"
    }
   ],
   "source": [
    "test_labels.shape"
   ]
  },
  {
   "cell_type": "code",
   "execution_count": 183,
   "metadata": {
    "collapsed": false,
    "deletable": true,
    "editable": true,
    "scrolled": true
   },
   "outputs": [
    {
     "name": "stdout",
     "output_type": "stream",
     "text": [
      "[[ 0.  0.  0.  0.  1.  0.  0.]\n",
      " [ 0.  0.  0.  0.  1.  0.  0.]\n",
      " [ 0.  0.  0.  0.  1.  0.  0.]\n",
      " [ 0.  0.  0.  0.  0.  1.  0.]\n",
      " [ 0.  0.  0.  0.  0.  1.  0.]]\n"
     ]
    }
   ],
   "source": [
    "print(train_labels[:5,:])"
   ]
  },
  {
   "cell_type": "code",
   "execution_count": 184,
   "metadata": {
    "collapsed": false,
    "deletable": true,
    "editable": true
   },
   "outputs": [
    {
     "name": "stdout",
     "output_type": "stream",
     "text": [
      "[[ 0.  0.  0.  1.  0.  0.  0.]\n",
      " [ 0.  0.  0.  0.  1.  0.  0.]\n",
      " [ 0.  0.  0.  0.  1.  0.  0.]\n",
      " [ 0.  0.  0.  0.  1.  0.  0.]\n",
      " [ 0.  0.  0.  0.  0.  1.  0.]]\n"
     ]
    }
   ],
   "source": [
    "print(test_labels[:5,:])"
   ]
  },
  {
   "cell_type": "markdown",
   "metadata": {
    "deletable": true,
    "editable": true
   },
   "source": [
    "### Data Dimensions\n",
    "The data dimensions are used in several places in the source-code below. They are defined once so we can use these variables instead of numbers throughout the source-code below.\n",
    "\n"
   ]
  },
  {
   "cell_type": "code",
   "execution_count": 185,
   "metadata": {
    "collapsed": true,
    "deletable": true,
    "editable": true
   },
   "outputs": [],
   "source": [
    "# We know that MNIST images are 256 pixels in each dimension.\n",
    "img_size = 256\n",
    "\n",
    "# Images are stored in one-dimensional arrays of this length.\n",
    "img_size_flat = img_size * img_size\n",
    "\n",
    "# Tuple with height and width of images used to reshape arrays.\n",
    "img_shape = (img_size, img_size)\n",
    "\n",
    "# Number of colour channels for the images: 1 channel for gray-scale.\n",
    "num_channels = 1\n",
    "\n",
    "# Number of classes, one class for each of 10 digits.\n",
    "num_classes = 7"
   ]
  },
  {
   "cell_type": "code",
   "execution_count": 186,
   "metadata": {
    "collapsed": true,
    "deletable": true,
    "editable": true
   },
   "outputs": [],
   "source": [
    "# Helper function\n",
    "def plot_images(images, cls_true, cls_pred=None):\n",
    "    assert len(images) == len(cls_true) == 9\n",
    "    \n",
    "    # Create figure with 3x3 sub-plots.\n",
    "    fig, axes = plt.subplots(3, 3)\n",
    "    fig.subplots_adjust(hspace=0.3, wspace=0.3)\n",
    "\n",
    "    for i, ax in enumerate(axes.flat):\n",
    "        # Plot image.\n",
    "        ax.imshow(images[i].reshape(img_shape), cmap='binary')\n",
    "\n",
    "        # Show true and predicted classes.\n",
    "        if cls_pred is None:\n",
    "            xlabel = \"True: {0}\".format(cls_true[i])\n",
    "        else:\n",
    "            xlabel = \"True: {0}, Pred: {1}\".format(cls_true[i], cls_pred[i])\n",
    "\n",
    "        # Show the classes as the label on the x-axis.\n",
    "        ax.set_xlabel(xlabel)\n",
    "        \n",
    "        # Remove ticks from the plot.\n",
    "        ax.set_xticks([])\n",
    "        ax.set_yticks([])\n",
    "    \n",
    "    # Ensure the plot is shown correctly with multiple plots\n",
    "    # in a single Notebook cell.\n",
    "    plt.show()"
   ]
  },
  {
   "cell_type": "code",
   "execution_count": 187,
   "metadata": {
    "collapsed": false,
    "deletable": true,
    "editable": true
   },
   "outputs": [
    {
     "data": {
      "image/png": "[encoded data removed]",
      "text/plain": [
       "<matplotlib.figure.Figure at 0x108a8ff50>"
      ]
     },
     "metadata": {},
     "output_type": "display_data"
    }
   ],
   "source": [
    "#plot images\n",
    "# Get the first images from the test-set.\n",
    "images = test_images[0:9]\n",
    "\n",
    "# Get the true classes for those images.\n",
    "cls_true =test_cls[0:9]\n",
    "\n",
    "# Plot the images and labels using our helper-function above.\n",
    "plot_images(images=images, cls_true=cls_true)"
   ]
  },
  {
   "cell_type": "markdown",
   "metadata": {
    "deletable": true,
    "editable": true
   },
   "source": [
    "### TensorFlow Graph\n",
    "The entire purpose of TensorFlow is to have a so-called computational graph that can be executed much more efficiently than if the same calculations were to be performed directly in Python. TensorFlow can be more efficient than NumPy because TensorFlow knows the entire computation graph that must be executed, while NumPy only knows the computation of a single mathematical operation at a time.\n",
    "TensorFlow can also automatically calculate the gradients that are needed to optimize the variables of the graph so as to make the model perform better. This is because the graph is a combination of simple mathematical expressions so the gradient of the entire graph can be calculated using the chain-rule for derivatives.\n",
    "TensorFlow can also take advantage of multi-core CPUs as well as GPUs - and Google has even built special chips just for TensorFlow which are called TPUs (Tensor Processing Units) and are even faster than GPUs.\n",
    "A TensorFlow graph consists of the following parts which will be detailed below:\n",
    "Placeholder variables used for inputting data to the graph.\n",
    "Variables that are going to be optimized so as to make the convolutional network perform better.\n",
    "The mathematical formulas for the convolutional network.\n",
    "A cost measure that can be used to guide the optimization of the variables.\n",
    "An optimization method which updates the variables.\n",
    "In addition, the TensorFlow graph may also contain various debugging statements e.g. for logging data to be displayed using TensorBoard, which is not covered in this tutorial.\n",
    "### Helper-functions for creating new variables\n",
    "Functions for creating new TensorFlow variables in the given shape and initializing them with random values. Note that the initialization is not actually done at this point, it is merely being defined in the TensorFlow graph."
   ]
  },
  {
   "cell_type": "code",
   "execution_count": 188,
   "metadata": {
    "collapsed": true,
    "deletable": true,
    "editable": true
   },
   "outputs": [],
   "source": [
    "def new_weights(shape):\n",
    "    return tf.Variable(tf.truncated_normal(shape, stddev=0.05))"
   ]
  },
  {
   "cell_type": "code",
   "execution_count": 189,
   "metadata": {
    "collapsed": true,
    "deletable": true,
    "editable": true
   },
   "outputs": [],
   "source": [
    "def new_biases(length):\n",
    "    return tf.Variable(tf.constant(0.05, shape=[length]))"
   ]
  },
  {
   "cell_type": "markdown",
   "metadata": {
    "deletable": true,
    "editable": true
   },
   "source": [
    "### Helper-function for creating a new Convolutional Layer\n",
    "This function creates a new convolutional layer in the computational graph for TensorFlow. Nothing is actually calculated here, we are just adding the mathematical formulas to the TensorFlow graph.\n",
    "It is assumed that the input is a 4-dim tensor with the following dimensions:\n",
    "\n",
    "1. Image number.\n",
    "2. Y-axis of each image.\n",
    "3. X-axis of each image.\n",
    "4. Channels of each image.\n",
    "\n",
    "Note that the input channels may either be colour-channels, or it may be filter-channels if the input is produced from a previous convolutional layer.\n",
    "The output is another 4-dim tensor with the following dimensions:\n",
    "1. number, same as input.\n",
    "2. Y-axis of each image. If 2x2 pooling is used, then the height and width of the input images is divided by 2.\n",
    "3. X-axis of each image. Ditto.\n",
    "4. Channels produced by the convolutional filters."
   ]
  },
  {
   "cell_type": "code",
   "execution_count": 190,
   "metadata": {
    "collapsed": true,
    "deletable": true,
    "editable": true
   },
   "outputs": [],
   "source": [
    "def new_conv_layer(input,              # The previous layer.\n",
    "                   num_input_channels, # Num. channels in prev. layer.\n",
    "                   filter_size,        # Width and height of each filter.\n",
    "                   num_filters,        # Number of filters.\n",
    "                   use_pooling=True):  # Use 2x2 max-pooling.\n",
    "\n",
    "    # Shape of the filter-weights for the convolution.\n",
    "    # This format is determined by the TensorFlow API.\n",
    "    shape = [filter_size, filter_size, num_input_channels, num_filters]\n",
    "\n",
    "    # Create new weights aka. filters with the given shape.\n",
    "    weights = new_weights(shape=shape)\n",
    "\n",
    "    # Create new biases, one for each filter.\n",
    "    biases = new_biases(length=num_filters)\n",
    "\n",
    "    # Create the TensorFlow operation for convolution.\n",
    "    # Note the strides are set to 1 in all dimensions.\n",
    "    # The first and last stride must always be 1,\n",
    "    # because the first is for the image-number and\n",
    "    # the last is for the input-channel.\n",
    "    # But e.g. strides=[1, 2, 2, 1] would mean that the filter\n",
    "    # is moved 2 pixels across the x- and y-axis of the image.\n",
    "    # The padding is set to 'SAME' which means the input image\n",
    "    # is padded with zeroes so the size of the output is the same.\n",
    "    layer = tf.nn.conv2d(input=input,\n",
    "                         filter=weights,\n",
    "                         strides=[1, 1, 2, 1],\n",
    "                         padding='SAME')\n",
    "\n",
    "    # Add the biases to the results of the convolution.\n",
    "    # A bias-value is added to each filter-channel.\n",
    "    layer += biases\n",
    "\n",
    "    # Use pooling to down-sample the image resolution?\n",
    "    if use_pooling:\n",
    "        # This is 2x2 max-pooling, which means that we\n",
    "        # consider 2x2 windows and select the largest value\n",
    "        # in each window. Then we move 2 pixels to the next window.\n",
    "        layer = tf.nn.max_pool(value=layer,\n",
    "                               ksize=[1, 3, 3, 1],\n",
    "                               strides=[1, 2, 1, 1],\n",
    "                               padding='SAME')\n",
    "\n",
    "    # Rectified Linear Unit (ReLU).\n",
    "    # It calculates max(x, 0) for each input pixel x.\n",
    "    # This adds some non-linearity to the formula and allows us\n",
    "    # to learn more complicated functions.\n",
    "    layer = tf.nn.relu(layer)\n",
    "\n",
    "    # Note that ReLU is normally executed before the pooling,\n",
    "    # but since relu(max_pool(x)) == max_pool(relu(x)) we can\n",
    "    # save 75% of the relu-operations by max-pooling first.\n",
    "\n",
    "    # We return both the resulting layer and the filter-weights\n",
    "    # because we will plot the weights later.\n",
    "    return layer, weights\n"
   ]
  },
  {
   "cell_type": "markdown",
   "metadata": {
    "deletable": true,
    "editable": true
   },
   "source": [
    "### Helper-function for flattening a layer\n",
    "A convolutional layer produces an output tensor with 4 dimensions. We will add fully-connected layers after the convolution layers, so we need to reduce the 4-dim tensor to 2-dim which can be used as input to the fully-connected layer.\n",
    "\n"
   ]
  },
  {
   "cell_type": "code",
   "execution_count": 191,
   "metadata": {
    "collapsed": true,
    "deletable": true,
    "editable": true
   },
   "outputs": [],
   "source": [
    "def flatten_layer(layer):\n",
    "    # Get the shape of the input layer.\n",
    "    layer_shape = layer.get_shape()\n",
    "\n",
    "    # The shape of the input layer is assumed to be:\n",
    "    # layer_shape == [num_images, img_height, img_width, num_channels]\n",
    "\n",
    "    # The number of features is: img_height * img_width * num_channels\n",
    "    # We can use a function from TensorFlow to calculate this.\n",
    "    num_features = layer_shape[1:4].num_elements()\n",
    "    \n",
    "    # Reshape the layer to [num_images, num_features].\n",
    "    # Note that we just set the size of the second dimension\n",
    "    # to num_features and the size of the first dimension to -1\n",
    "    # which means the size in that dimension is calculated\n",
    "    # so the total size of the tensor is unchanged from the reshaping.\n",
    "    layer_flat = tf.reshape(layer, [-1, num_features])\n",
    "\n",
    "    # The shape of the flattened layer is now:\n",
    "    # [num_images, img_height * img_width * num_channels]\n",
    "\n",
    "    # Return both the flattened layer and the number of features.\n",
    "    return layer_flat, num_features"
   ]
  },
  {
   "cell_type": "markdown",
   "metadata": {
    "deletable": true,
    "editable": true
   },
   "source": [
    "### Helper-function for creating a new Fully-Connected Layer\n",
    "This function creates a new fully-connected layer in the computational graph for TensorFlow. Nothing is actually calculated here, we are just adding the mathematical formulas to the TensorFlow graph.\n",
    "It is assumed that the input is a 2-dim tensor of shape [num_images, num_inputs]. The output is a 2-dim tensor of shape [num_images, num_outputs]."
   ]
  },
  {
   "cell_type": "code",
   "execution_count": 192,
   "metadata": {
    "collapsed": true,
    "deletable": true,
    "editable": true
   },
   "outputs": [],
   "source": [
    "def new_fc_layer(input,          # The previous layer.\n",
    "                 num_inputs,     # Num. inputs from prev. layer.\n",
    "                 num_outputs,    # Num. outputs.\n",
    "                 use_relu=True): # Use Rectified Linear Unit (ReLU)?\n",
    "\n",
    "    # Create new weights and biases.\n",
    "    weights = new_weights(shape=[num_inputs, num_outputs])\n",
    "    biases = new_biases(length=num_outputs)\n",
    "\n",
    "    # Calculate the layer as the matrix multiplication of\n",
    "    # the input and weights, and then add the bias-values.\n",
    "    layer = tf.matmul(input, weights) + biases\n",
    "\n",
    "    # Use ReLU?\n",
    "    if use_relu:\n",
    "        layer = tf.nn.relu(layer)\n",
    "\n",
    "    return layer"
   ]
  },
  {
   "cell_type": "markdown",
   "metadata": {
    "deletable": true,
    "editable": true
   },
   "source": [
    "### Placeholder variables\n",
    "Placeholder variables serve as the input to the TensorFlow computational graph that we may change each time we execute the graph. We call this feeding the placeholder variables and it is demonstrated further below.\n",
    "First we define the placeholder variable for the input images. This allows us to change the images that are input to the TensorFlow graph. This is a so-called tensor, which just means that it is a multi-dimensional vector or matrix. The data-type is set to float32 and the shape is set to [None, img_size_flat], where None means that the tensor may hold an arbitrary number of images with each image being a vector of length img_size_flat.\n",
    "\n"
   ]
  },
  {
   "cell_type": "code",
   "execution_count": 193,
   "metadata": {
    "collapsed": true,
    "deletable": true,
    "editable": true
   },
   "outputs": [],
   "source": [
    "x = tf.placeholder(tf.float32, shape=[None, img_size_flat], name='x')"
   ]
  },
  {
   "cell_type": "code",
   "execution_count": 194,
   "metadata": {
    "collapsed": true,
    "deletable": true,
    "editable": true
   },
   "outputs": [],
   "source": [
    "#The convolutional layers expect x to be encoded as a 4-dim tensor so we have to reshape it so its shape is instead \n",
    "#[num_images, img_height, img_width, num_channels]. Note that img_height == img_width == img_size and num_images can be inferred automatically by using -1 for the size of the first dimension. So the reshape operation is:\n",
    "\n",
    "x_image = tf.reshape(x, [-1, img_size, img_size, num_channels])"
   ]
  },
  {
   "cell_type": "code",
   "execution_count": 195,
   "metadata": {
    "collapsed": true,
    "deletable": true,
    "editable": true
   },
   "outputs": [],
   "source": [
    "#Next we have the placeholder variable for the true labels associated with the images that were input in the placeholder \n",
    "#variable x. The shape of this placeholder variable is [None, num_classes] which means it may hold an arbitrary number of labels and each label is a vector of length num_classes which is 10 in this case.\n",
    "y_true = tf.placeholder(tf.float32, shape=[None, 7], name='y_true')"
   ]
  },
  {
   "cell_type": "code",
   "execution_count": 196,
   "metadata": {
    "collapsed": true,
    "deletable": true,
    "editable": true
   },
   "outputs": [],
   "source": [
    "#We could also have a placeholder variable for the class-number, but we will instead calculate it using argmax. \n",
    "#Note that this is a TensorFlow operator so nothing is calculated at this point.\n",
    "\n",
    "y_true_cls = tf.argmax(y_true, dimension=1)"
   ]
  },
  {
   "cell_type": "code",
   "execution_count": 197,
   "metadata": {
    "collapsed": false,
    "deletable": true,
    "editable": true
   },
   "outputs": [
    {
     "data": {
      "text/plain": [
       "<tf.Tensor 'strided_slice_2:0' shape=(?,) dtype=int64>"
      ]
     },
     "execution_count": 197,
     "metadata": {},
     "output_type": "execute_result"
    }
   ],
   "source": [
    "y_true_cls[:5]"
   ]
  },
  {
   "cell_type": "markdown",
   "metadata": {
    "deletable": true,
    "editable": true
   },
   "source": [
    "### Convolutional Layer 1\n",
    "Create the first convolutional layer. It takes x_image as input and creates num_filters1 different filters, each having width and height equal to filter_size1. Finally we wish to down-sample the image so it is half the size by using 2x2 max-pooling.\n",
    "\n"
   ]
  },
  {
   "cell_type": "code",
   "execution_count": 198,
   "metadata": {
    "collapsed": true,
    "deletable": true,
    "editable": true
   },
   "outputs": [],
   "source": [
    "layer_conv1, weights_conv1 = \\\n",
    "    new_conv_layer(input=x_image,\n",
    "                   num_input_channels=num_channels,\n",
    "                   filter_size=filter_size1,\n",
    "                   num_filters=num_filters1,\n",
    "                   use_pooling=True)\n"
   ]
  },
  {
   "cell_type": "markdown",
   "metadata": {
    "deletable": true,
    "editable": true
   },
   "source": [
    "Check the shape of the tensor that will be output by the convolutional layer. It is (?, 86, 86, 42) which means that there is an arbitrary number of images (this is the ?), each image is 86 pixels wide and 86 pixels high, and there are 42 different channels, one channel for each of the filters."
   ]
  },
  {
   "cell_type": "code",
   "execution_count": 199,
   "metadata": {
    "collapsed": false,
    "deletable": true,
    "editable": true
   },
   "outputs": [
    {
     "data": {
      "text/plain": [
       "<tf.Tensor 'Relu_7:0' shape=(?, 128, 128, 42) dtype=float32>"
      ]
     },
     "execution_count": 199,
     "metadata": {},
     "output_type": "execute_result"
    }
   ],
   "source": [
    "layer_conv1\n"
   ]
  },
  {
   "cell_type": "code",
   "execution_count": 200,
   "metadata": {
    "collapsed": true,
    "deletable": true,
    "editable": true
   },
   "outputs": [],
   "source": [
    "layer_conv1 =tf.nn.lrn(input=layer_conv1, depth_radius=None, bias=None, alpha=None, beta=None, name=None)"
   ]
  },
  {
   "cell_type": "code",
   "execution_count": 201,
   "metadata": {
    "collapsed": true,
    "deletable": true,
    "editable": true
   },
   "outputs": [],
   "source": [
    "def new_conv_layer(input,              # The previous layer.\n",
    "                   num_input_channels, # Num. channels in prev. layer.\n",
    "                   filter_size,        # Width and height of each filter.\n",
    "                   num_filters,        # Number of filters.\n",
    "                   use_pooling=True):  # Use 2x2 max-pooling.\n",
    "\n",
    "    # Shape of the filter-weights for the convolution.\n",
    "    # This format is determined by the TensorFlow API.\n",
    "    shape = [filter_size, filter_size, num_input_channels, num_filters]\n",
    "\n",
    "    # Create new weights aka. filters with the given shape.\n",
    "    weights = new_weights(shape=shape)\n",
    "\n",
    "    # Create new biases, one for each filter.\n",
    "    biases = new_biases(length=num_filters)\n",
    "\n",
    "    # Create the TensorFlow operation for convolution.\n",
    "    # Note the strides are set to 1 in all dimensions.\n",
    "    # The first and last stride must always be 1,\n",
    "    # because the first is for the image-number and\n",
    "    # the last is for the input-channel.\n",
    "    # But e.g. strides=[1, 2, 2, 1] would mean that the filter\n",
    "    # is moved 2 pixels across the x- and y-axis of the image.\n",
    "    # The padding is set to 'SAME' which means the input image\n",
    "    # is padded with zeroes so the size of the output is the same.\n",
    "    layer = tf.nn.conv2d(input=input,\n",
    "                         filter=weights,\n",
    "                         strides=[1, 1, 1, 1],\n",
    "                         padding='SAME')\n",
    "\n",
    "    # Add the biases to the results of the convolution.\n",
    "    # A bias-value is added to each filter-channel.\n",
    "    layer += biases\n",
    "\n",
    "    # Use pooling to down-sample the image resolution?\n",
    "    if use_pooling:\n",
    "        # This is 2x2 max-pooling, which means that we\n",
    "        # consider 2x2 windows and select the largest value\n",
    "        # in each window. Then we move 2 pixels to the next window.\n",
    "        layer = tf.nn.max_pool(value=layer,\n",
    "                               ksize=[1, 3, 3, 1],\n",
    "                               strides=[1, 2, 1, 1],\n",
    "                               padding='SAME')\n",
    "\n",
    "    # Rectified Linear Unit (ReLU).\n",
    "    # It calculates max(x, 0) for each input pixel x.\n",
    "    # This adds some non-linearity to the formula and allows us\n",
    "    # to learn more complicated functions.\n",
    "    layer = tf.nn.relu(layer)\n",
    "\n",
    "    # Note that ReLU is normally executed before the pooling,\n",
    "    # but since relu(max_pool(x)) == max_pool(relu(x)) we can\n",
    "    # save 75% of the relu-operations by max-pooling first.\n",
    "\n",
    "    # We return both the resulting layer and the filter-weights\n",
    "    # because we will plot the weights later.\n",
    "    return layer, weights\n"
   ]
  },
  {
   "cell_type": "markdown",
   "metadata": {
    "deletable": true,
    "editable": true
   },
   "source": [
    "### Convolutional Layer 2\n",
    "Create the second convolutional layer, which takes as input the output from the first convolutional layer. The number of input channels corresponds to the number of filters in the first convolutional layer.\n",
    "\n",
    "\n"
   ]
  },
  {
   "cell_type": "code",
   "execution_count": 202,
   "metadata": {
    "collapsed": true,
    "deletable": true,
    "editable": true
   },
   "outputs": [],
   "source": [
    "layer_conv2, weights_conv2 = \\\n",
    "    new_conv_layer(input=layer_conv1,\n",
    "                   num_input_channels=num_filters1,\n",
    "                   filter_size=filter_size2,\n",
    "                   num_filters=num_filters2,\n",
    "                   use_pooling=True)"
   ]
  },
  {
   "cell_type": "markdown",
   "metadata": {
    "deletable": true,
    "editable": true
   },
   "source": [
    " Check the shape of the tensor that will be output from this convolutional layer. The shape is (?, 29, 29, 20) where the ? again means that there is an arbitrary number of images, with each image having width and height of 29 pixels, and there are 20 channels, one for each filter.\n",
    "\n",
    "\n"
   ]
  },
  {
   "cell_type": "code",
   "execution_count": 203,
   "metadata": {
    "collapsed": false,
    "deletable": true,
    "editable": true
   },
   "outputs": [
    {
     "data": {
      "text/plain": [
       "<tf.Tensor 'Relu_8:0' shape=(?, 64, 128, 20) dtype=float32>"
      ]
     },
     "execution_count": 203,
     "metadata": {},
     "output_type": "execute_result"
    }
   ],
   "source": [
    "layer_conv2  \n"
   ]
  },
  {
   "cell_type": "code",
   "execution_count": 204,
   "metadata": {
    "collapsed": true,
    "deletable": true,
    "editable": true
   },
   "outputs": [],
   "source": [
    "layer_conv2 =tf.nn.lrn(input=layer_conv2, depth_radius=None, bias=None, alpha=None, beta=None, name=None)\n",
    " "
   ]
  },
  {
   "cell_type": "markdown",
   "metadata": {
    "deletable": true,
    "editable": true
   },
   "source": [
    "### Convolutional Layer 3\n",
    "Create the second convolutional layer, which takes as input the output from the second convolutional layer. The number of input channels corresponds to the number of filters in the second convolutional layer.\n"
   ]
  },
  {
   "cell_type": "code",
   "execution_count": 205,
   "metadata": {
    "collapsed": false,
    "deletable": true,
    "editable": true
   },
   "outputs": [],
   "source": [
    "layer_conv3, weights_conv3 = \\\n",
    "    new_conv_layer(input=layer_conv2,\n",
    "                   num_input_channels=num_filters2,\n",
    "                   filter_size=filter_size3,\n",
    "                   num_filters=num_filters3,\n",
    "                   use_pooling=False)"
   ]
  },
  {
   "cell_type": "code",
   "execution_count": 206,
   "metadata": {
    "collapsed": false,
    "deletable": true,
    "editable": true,
    "scrolled": true
   },
   "outputs": [
    {
     "data": {
      "text/plain": [
       "<tf.Tensor 'Relu_9:0' shape=(?, 64, 128, 100) dtype=float32>"
      ]
     },
     "execution_count": 206,
     "metadata": {},
     "output_type": "execute_result"
    }
   ],
   "source": [
    "layer_conv3"
   ]
  },
  {
   "cell_type": "markdown",
   "metadata": {
    "deletable": true,
    "editable": true
   },
   "source": [
    "### Convolutional Layer 4\n"
   ]
  },
  {
   "cell_type": "code",
   "execution_count": 207,
   "metadata": {
    "collapsed": false,
    "deletable": true,
    "editable": true
   },
   "outputs": [],
   "source": [
    "layer_conv4, weights_conv4 = \\\n",
    "    new_conv_layer(input=layer_conv3,\n",
    "                   num_input_channels=num_filters3,\n",
    "                   filter_size=filter_size4,\n",
    "                   num_filters=num_filters4,\n",
    "                   use_pooling=False)"
   ]
  },
  {
   "cell_type": "code",
   "execution_count": 208,
   "metadata": {
    "collapsed": false,
    "deletable": true,
    "editable": true
   },
   "outputs": [
    {
     "data": {
      "text/plain": [
       "<tf.Tensor 'Relu_10:0' shape=(?, 64, 128, 10) dtype=float32>"
      ]
     },
     "execution_count": 208,
     "metadata": {},
     "output_type": "execute_result"
    }
   ],
   "source": [
    "layer_conv4"
   ]
  },
  {
   "cell_type": "markdown",
   "metadata": {
    "deletable": true,
    "editable": true
   },
   "source": [
    "### Convolutional Layer 5\n"
   ]
  },
  {
   "cell_type": "code",
   "execution_count": 209,
   "metadata": {
    "collapsed": false,
    "deletable": true,
    "editable": true
   },
   "outputs": [],
   "source": [
    "layer_conv5, weights_conv5 = \\\n",
    "    new_conv_layer(input=layer_conv4,\n",
    "                   num_input_channels=num_filters4,\n",
    "                   filter_size=filter_size5,\n",
    "                   num_filters=num_filters5,\n",
    "                   use_pooling=True)"
   ]
  },
  {
   "cell_type": "code",
   "execution_count": 210,
   "metadata": {
    "collapsed": false,
    "deletable": true,
    "editable": true
   },
   "outputs": [
    {
     "data": {
      "text/plain": [
       "<tf.Tensor 'Relu_10:0' shape=(?, 64, 128, 10) dtype=float32>"
      ]
     },
     "execution_count": 210,
     "metadata": {},
     "output_type": "execute_result"
    }
   ],
   "source": [
    "layer_conv4"
   ]
  },
  {
   "cell_type": "markdown",
   "metadata": {
    "collapsed": true,
    "deletable": true,
    "editable": true
   },
   "source": [
    "### Convolution layer 6"
   ]
  },
  {
   "cell_type": "code",
   "execution_count": 211,
   "metadata": {
    "collapsed": false,
    "deletable": true,
    "editable": true
   },
   "outputs": [],
   "source": [
    "layer_conv6, weights_conv6 = \\\n",
    "    new_conv_layer(input=layer_conv5,\n",
    "                   num_input_channels=num_filters5,\n",
    "                   filter_size=filter_size6,\n",
    "                   num_filters=num_filters6,\n",
    "                   use_pooling=False)"
   ]
  },
  {
   "cell_type": "markdown",
   "metadata": {
    "deletable": true,
    "editable": true
   },
   "source": [
    "### Flatten Layer\n",
    "The convolutional layers output 4-dim tensors. We now wish to use these as input in a fully-connected network, which requires for the tensors to be reshaped or flattened to 2-dim tensors."
   ]
  },
  {
   "cell_type": "code",
   "execution_count": 212,
   "metadata": {
    "collapsed": true,
    "deletable": true,
    "editable": true
   },
   "outputs": [],
   "source": [
    "layer_flat, num_features = flatten_layer(layer_conv6)\n"
   ]
  },
  {
   "cell_type": "markdown",
   "metadata": {
    "deletable": true,
    "editable": true
   },
   "source": [
    "Check that the tensors now have shape (?, 4200) which means there's an arbitrary number of images which have been flattened to vectors of length 4200 each. Note that 4200 = 10 x 10 x 42."
   ]
  },
  {
   "cell_type": "code",
   "execution_count": 213,
   "metadata": {
    "collapsed": false,
    "deletable": true,
    "editable": true
   },
   "outputs": [
    {
     "data": {
      "text/plain": [
       "<tf.Tensor 'Reshape_6:0' shape=(?, 4096) dtype=float32>"
      ]
     },
     "execution_count": 213,
     "metadata": {},
     "output_type": "execute_result"
    }
   ],
   "source": [
    "layer_flat"
   ]
  },
  {
   "cell_type": "code",
   "execution_count": 214,
   "metadata": {
    "collapsed": false,
    "deletable": true,
    "editable": true
   },
   "outputs": [
    {
     "data": {
      "text/plain": [
       "4096"
      ]
     },
     "execution_count": 214,
     "metadata": {},
     "output_type": "execute_result"
    }
   ],
   "source": [
    "num_features\n"
   ]
  },
  {
   "cell_type": "markdown",
   "metadata": {
    "deletable": true,
    "editable": true
   },
   "source": [
    "### Fully-Connected Layer 1\n",
    "Add a fully-connected layer to the network. The input is the flattened layer from the previous convolution. The number of neurons or nodes in the fully-connected layer is fc_size. ReLU is used so we can learn non-linear relations.\n",
    "\n",
    "\n"
   ]
  },
  {
   "cell_type": "code",
   "execution_count": 215,
   "metadata": {
    "collapsed": true,
    "deletable": true,
    "editable": true
   },
   "outputs": [],
   "source": [
    "layer_fc1 = new_fc_layer(input=layer_flat,\n",
    "                         num_inputs=num_features,\n",
    "                         num_outputs=fc_size,\n",
    "                         use_relu=True)"
   ]
  },
  {
   "cell_type": "markdown",
   "metadata": {
    "deletable": true,
    "editable": true
   },
   "source": [
    "Check that the output of the fully-connected layer is a tensor with shape (?, 128) where the ? means there is an arbitrary number of images and fc_size == 128.\n",
    "\n"
   ]
  },
  {
   "cell_type": "code",
   "execution_count": 216,
   "metadata": {
    "collapsed": false,
    "deletable": true,
    "editable": true
   },
   "outputs": [
    {
     "data": {
      "text/plain": [
       "<tf.Tensor 'Relu_13:0' shape=(?, 100) dtype=float32>"
      ]
     },
     "execution_count": 216,
     "metadata": {},
     "output_type": "execute_result"
    }
   ],
   "source": [
    "layer_fc1"
   ]
  },
  {
   "cell_type": "markdown",
   "metadata": {
    "deletable": true,
    "editable": true
   },
   "source": [
    "### Fully-Connected Layer 2"
   ]
  },
  {
   "cell_type": "code",
   "execution_count": 217,
   "metadata": {
    "collapsed": false,
    "deletable": true,
    "editable": true
   },
   "outputs": [],
   "source": [
    "layer_fc2 = new_fc_layer(input=layer_fc1,\n",
    "                         num_inputs=fc_size,\n",
    "                         num_outputs=num_classes,\n",
    "                         use_relu=False)"
   ]
  },
  {
   "cell_type": "code",
   "execution_count": 218,
   "metadata": {
    "collapsed": false,
    "deletable": true,
    "editable": true
   },
   "outputs": [
    {
     "data": {
      "text/plain": [
       "<tf.Tensor 'add_15:0' shape=(?, 7) dtype=float32>"
      ]
     },
     "execution_count": 218,
     "metadata": {},
     "output_type": "execute_result"
    }
   ],
   "source": [
    "layer_fc2\n"
   ]
  },
  {
   "cell_type": "markdown",
   "metadata": {
    "deletable": true,
    "editable": true
   },
   "source": [
    "### Predicted Class\n",
    "The second fully-connected layer estimates how likely it is that the input image belongs to each of the 10 classes. However, these estimates are a bit rough and difficult to interpret because the numbers may be very small or large, so we want to normalize them so that each element is limited between zero and one and the 10 elements sum to one. This is calculated using the so-called softmax function and the result is stored in y_pred.\n",
    "\n",
    "\n"
   ]
  },
  {
   "cell_type": "code",
   "execution_count": 219,
   "metadata": {
    "collapsed": true,
    "deletable": true,
    "editable": true
   },
   "outputs": [],
   "source": [
    "y_pred = tf.nn.softmax(layer_fc2)"
   ]
  },
  {
   "cell_type": "code",
   "execution_count": 220,
   "metadata": {
    "collapsed": true,
    "deletable": true,
    "editable": true
   },
   "outputs": [],
   "source": [
    "#The class-number is the index of the largest element.\n",
    "y_pred_cls = tf.argmax(y_pred, dimension=1)"
   ]
  },
  {
   "cell_type": "code",
   "execution_count": 221,
   "metadata": {
    "collapsed": false,
    "deletable": true,
    "editable": true
   },
   "outputs": [
    {
     "data": {
      "text/plain": [
       "<tf.Tensor 'strided_slice_3:0' shape=(?,) dtype=int64>"
      ]
     },
     "execution_count": 221,
     "metadata": {},
     "output_type": "execute_result"
    }
   ],
   "source": [
    "y_pred_cls[:5]"
   ]
  },
  {
   "cell_type": "markdown",
   "metadata": {
    "deletable": true,
    "editable": true
   },
   "source": [
    "### Cost-function to be optimized\n",
    "To make the model better at classifying the input images, we must somehow change the variables for all the network layers. To do this we first need to know how well the model currently performs by comparing the predicted output of the model y_pred to the desired output y_true.\n",
    "The cross-entropy is a performance measure used in classification. The cross-entropy is a continuous function that is always positive and if the predicted output of the model exactly matches the desired output then the cross-entropy equals zero. The goal of optimization is therefore to minimize the cross-entropy so it gets as close to zero as possible by changing the variables of the network layers.\n",
    "TensorFlow has a built-in function for calculating the cross-entropy. Note that the function calculates the softmax internally so we must use the output of layer_fc2 directly rather than y_pred which has already had the softmax applied."
   ]
  },
  {
   "cell_type": "code",
   "execution_count": 222,
   "metadata": {
    "collapsed": true,
    "deletable": true,
    "editable": true
   },
   "outputs": [],
   "source": [
    "cross_entropy = tf.nn.softmax_cross_entropy_with_logits(logits=layer_fc2,\n",
    "                                                        labels=y_true)"
   ]
  },
  {
   "cell_type": "markdown",
   "metadata": {
    "deletable": true,
    "editable": true
   },
   "source": [
    "We have now calculated the cross-entropy for each of the image classifications so we have a measure of how well the model performs on each image individually. But in order to use the cross-entropy to guide the optimization of the model's variables we need a single scalar value, so we simply take the average of the cross-entropy for all the image classifications."
   ]
  },
  {
   "cell_type": "code",
   "execution_count": 223,
   "metadata": {
    "collapsed": true,
    "deletable": true,
    "editable": true
   },
   "outputs": [],
   "source": [
    "cost = tf.reduce_mean(cross_entropy)\n"
   ]
  },
  {
   "cell_type": "markdown",
   "metadata": {
    "deletable": true,
    "editable": true
   },
   "source": [
    "### Optimization Method\n",
    "Now that we have a cost measure that must be minimized, we can then create an optimizer. In this case it is the AdamOptimizer which is an advanced form of Gradient Descent.\n",
    "Note that optimization is not performed at this point. In fact, nothing is calculated at all, we just add the optimizer-object to the TensorFlow graph for later execution.\n",
    "\n"
   ]
  },
  {
   "cell_type": "code",
   "execution_count": 224,
   "metadata": {
    "collapsed": true,
    "deletable": true,
    "editable": true
   },
   "outputs": [],
   "source": [
    "optimizer = tf.train.AdamOptimizer(learning_rate=1e-4).minimize(cost)"
   ]
  },
  {
   "cell_type": "markdown",
   "metadata": {
    "deletable": true,
    "editable": true
   },
   "source": [
    "### Performance Measures\n",
    "We need a few more performance measures to display the progress to the user.\n",
    "This is a vector of booleans whether the predicted class equals the true class of each image."
   ]
  },
  {
   "cell_type": "code",
   "execution_count": 225,
   "metadata": {
    "collapsed": true,
    "deletable": true,
    "editable": true
   },
   "outputs": [],
   "source": [
    "correct_prediction = tf.equal(y_pred_cls, y_true_cls)\n"
   ]
  },
  {
   "cell_type": "code",
   "execution_count": 226,
   "metadata": {
    "collapsed": true,
    "deletable": true,
    "editable": true
   },
   "outputs": [],
   "source": [
    "accuracy = tf.reduce_mean(tf.cast(correct_prediction, tf.float32))\n"
   ]
  },
  {
   "cell_type": "markdown",
   "metadata": {
    "deletable": true,
    "editable": true
   },
   "source": [
    "### TensorFlow Run\n",
    "Create TensorFlow session\n",
    "Once the TensorFlow graph has been created, we have to create a TensorFlow session which is used to execute the graph."
   ]
  },
  {
   "cell_type": "code",
   "execution_count": 227,
   "metadata": {
    "collapsed": true,
    "deletable": true,
    "editable": true
   },
   "outputs": [],
   "source": [
    "session = tf.Session()\n"
   ]
  },
  {
   "cell_type": "code",
   "execution_count": 228,
   "metadata": {
    "collapsed": true,
    "deletable": true,
    "editable": true
   },
   "outputs": [],
   "source": [
    "#initialize variables\n",
    "#The variables for weights and biases must be initialized before we start optimizing them.\n",
    "\n",
    "session.run(tf.global_variables_initializer())"
   ]
  },
  {
   "cell_type": "markdown",
   "metadata": {
    "deletable": true,
    "editable": true
   },
   "source": [
    "### Helper-function to perform optimization iterations\n",
    "There are 55,000 images in the training-set. It takes a long time to calculate the gradient of the model using all these images. We therefore only use a small batch of images in each iteration of the optimizer.\n",
    "If your computer crashes or becomes very slow because you run out of RAM, then you may try and lower this number, but you may then need to perform more optimization iterations.\n",
    "\n"
   ]
  },
  {
   "cell_type": "code",
   "execution_count": 229,
   "metadata": {
    "collapsed": true,
    "deletable": true,
    "editable": true
   },
   "outputs": [],
   "source": [
    "train_batch_size = 500\n"
   ]
  },
  {
   "cell_type": "markdown",
   "metadata": {
    "deletable": true,
    "editable": true
   },
   "source": [
    "Function for performing a number of optimization iterations so as to gradually improve the variables of the network layers. In each iteration, a new batch of data is selected from the training-set and then TensorFlow executes the optimizer using those training samples. The progress is printed every 100 iterations.\n",
    "\n"
   ]
  },
  {
   "cell_type": "code",
   "execution_count": 230,
   "metadata": {
    "collapsed": true,
    "deletable": true,
    "editable": true
   },
   "outputs": [],
   "source": [
    "# Counter for total number of iterations performed so far.\n",
    "total_iterations = 0\n",
    "\n",
    "def optimize(num_iterations):\n",
    "    # Ensure we update the global variable rather than a local copy.\n",
    "    global total_iterations\n",
    "    num_train = len(train_images)\n",
    "    \n",
    "    \n",
    "    \n",
    "    # Start-time used for printing time-usage below.\n",
    "    start_time = time.time()\n",
    "    i = 0\n",
    "    \n",
    "    for k in range(total_iterations,\n",
    "                   total_iterations + num_iterations):\n",
    "\n",
    "        # Get a batch of training examples.\n",
    "        # x_batch now holds a batch of images and\n",
    "        # y_true_batch are the true labels for those images.\n",
    "#         idx = np.random.randint(3000, size=150)\n",
    "#         x_batch = train_images[idx,:]\n",
    "#         y_true_batch = train_labels[idx,:]\n",
    "\n",
    "        while i < num_train:\n",
    "        # The ending index for the next batch is denoted j.\n",
    "            j = min(i + test_batch_size, num_train)\n",
    "        \n",
    "        \n",
    "            x_batch = train_images[i:j, :]\n",
    "\n",
    "            y_true_batch = train_labels[i:j, :]\n",
    "\n",
    "            # Put the batch into a dict with the proper names\n",
    "            # for placeholder variables in the TensorFlow graph.\n",
    "            feed_dict_train = {x: x_batch,\n",
    "                               y_true: y_true_batch}\n",
    "\n",
    "            # Run the optimizer using this batch of training data.\n",
    "            # TensorFlow assigns the variables in feed_dict_train\n",
    "            # to the placeholder variables and then runs the optimizer.\n",
    "            session.run(optimizer, feed_dict=feed_dict_train)\n",
    "\n",
    "            # Print status every 100 iterations.\n",
    "            if k % 100 == 0:\n",
    "                # Calculate the accuracy on the training-set.\n",
    "                acc = session.run(accuracy, feed_dict=feed_dict_train)\n",
    "\n",
    "                # Message for printing.\n",
    "                msg = \"Optimization Iteration: {0:>6}, Training Accuracy: {1:>6.1%}\"\n",
    "\n",
    "                # Print it.\n",
    "                print(msg.format(k + 1, acc))\n",
    "            i = j\n",
    "    # Update the total number of iterations performed.\n",
    "    total_iterations += num_iterations\n",
    "\n",
    "    # Ending time.\n",
    "    end_time = time.time()\n",
    "\n",
    "    # Difference between start and end-times.\n",
    "    time_dif = end_time - start_time\n",
    "    # Calculate the accuracy on the training-set.\n",
    "   # accuracy = session.run(accuracy, feed_dict=feed_dict_train)\n",
    "    # Print the time-usage.\n",
    "     \n",
    "    print(\"Time usage: \" + str(timedelta(seconds=int(round(time_dif)))))\n",
    "    #print(\"Training Accuracy:\"+str(accuracy))\n"
   ]
  },
  {
   "cell_type": "markdown",
   "metadata": {
    "deletable": true,
    "editable": true
   },
   "source": [
    "### Helper-function to plot example errors\n",
    "Function for plotting examples of images from the test-set that have been mis-classified.\n",
    "\n"
   ]
  },
  {
   "cell_type": "code",
   "execution_count": 231,
   "metadata": {
    "collapsed": true,
    "deletable": true,
    "editable": true
   },
   "outputs": [],
   "source": [
    "def plot_example_errors(cls_pred, correct):\n",
    "    # This function is called from print_test_accuracy() below.\n",
    "\n",
    "    # cls_pred is an array of the predicted class-number for\n",
    "    # all images in the test-set.\n",
    "\n",
    "    # correct is a boolean array whether the predicted class\n",
    "    # is equal to the true class for each image in the test-set.\n",
    "\n",
    "    # Negate the boolean array.\n",
    "    incorrect = (correct == False)\n",
    "    \n",
    "    # Get the images from the test-set that have been\n",
    "    # incorrectly classified.\n",
    "    images = test_images[incorrect]\n",
    "    \n",
    "    # Get the predicted classes for those images.\n",
    "    cls_pred = cls_pred[incorrect]\n",
    "\n",
    "    # Get the true classes for those images.\n",
    "    cls_true = test_cls[incorrect]\n",
    "    \n",
    "    # Plot the first 9 images.\n",
    "#     plot_images(images=images[0:9],\n",
    "#                 cls_true=cls_true[0:9],\n",
    "#                 cls_pred=cls_pred[0:9])\n"
   ]
  },
  {
   "cell_type": "markdown",
   "metadata": {
    "deletable": true,
    "editable": true
   },
   "source": [
    "### Helper-function to plot confusion matrix\n",
    "\n"
   ]
  },
  {
   "cell_type": "code",
   "execution_count": 232,
   "metadata": {
    "collapsed": true,
    "deletable": true,
    "editable": true
   },
   "outputs": [],
   "source": [
    "def plot_confusion_matrix(cls_pred):\n",
    "    # This is called from print_test_accuracy() below.\n",
    "\n",
    "    # cls_pred is an array of the predicted class-number for\n",
    "    # all images in the test-set.\n",
    "\n",
    "    # Get the true classifications for the test-set.\n",
    "    cls_true = test_cls\n",
    "    \n",
    "    # Get the confusion matrix using sklearn.\n",
    "    cm = confusion_matrix(y_true=cls_true,\n",
    "                          y_pred=cls_pred)\n",
    "\n",
    "    # Print the confusion matrix as text.\n",
    "    print(cm)\n",
    "\n",
    "    # Plot the confusion matrix as an image.\n",
    "    plt.matshow(cm)\n",
    "\n",
    "    # Make various adjustments to the plot.\n",
    "    plt.colorbar()\n",
    "    tick_marks = np.arange(num_classes)\n",
    "    plt.xticks(tick_marks, range(num_classes))\n",
    "    plt.yticks(tick_marks, range(num_classes))\n",
    "    plt.xlabel('Predicted')\n",
    "    plt.ylabel('True')\n",
    "\n",
    "    # Ensure the plot is shown correctly with multiple plots\n",
    "    # in a single Notebook cell.\n",
    "    plt.show()\n"
   ]
  },
  {
   "cell_type": "markdown",
   "metadata": {
    "deletable": true,
    "editable": true
   },
   "source": [
    "### Helper-function for showing the performance\n",
    "Function for printing the classification accuracy on the test-set.\n",
    "It takes a while to compute the classification for all the images in the test-set, that's why the results are re-used by calling the above functions directly from this function, so the classifications don't have to be recalculated by each function.\n",
    "Note that this function can use a lot of computer memory, which is why the test-set is split into smaller batches. If you have little RAM in your computer and it crashes, then you can try and lower the batch-size.\n",
    "\n"
   ]
  },
  {
   "cell_type": "code",
   "execution_count": 233,
   "metadata": {
    "collapsed": true,
    "deletable": true,
    "editable": true
   },
   "outputs": [],
   "source": [
    "# Split the test-set into smaller batches of this size.\n",
    "test_batch_size =43\n",
    "\n",
    "def print_test_accuracy(show_example_errors=False,\n",
    "                        show_confusion_matrix=False):\n",
    "\n",
    "    # Number of images in the test-set.\n",
    "    num_test = len(test_images)\n",
    "\n",
    "    # Allocate an array for the predicted classes which\n",
    "    # will be calculated in batches and filled into this array.\n",
    "    cls_pred = np.zeros(shape=num_test, dtype=np.int)\n",
    "\n",
    "    # Now calculate the predicted classes for the batches.\n",
    "    # We will just iterate through all the batches.\n",
    "    # There might be a more clever and Pythonic way of doing this.\n",
    "\n",
    "    # The starting index for the next batch is denoted i.\n",
    "    i = 0\n",
    "\n",
    "    while i < num_test:\n",
    "        # The ending index for the next batch is denoted j.\n",
    "        j = min(i + test_batch_size, num_test)\n",
    "\n",
    "        # Get the images from the test-set between index i and j.\n",
    "        images =test_images[i:j, :]\n",
    "\n",
    "        # Get the associated labels.\n",
    "        labels = test_labels[i:j, :]\n",
    "\n",
    "        # Create a feed-dict with these images and labels.\n",
    "        feed_dict = {x: images,\n",
    "                     y_true: labels}\n",
    "\n",
    "        # Calculate the predicted class using TensorFlow.\n",
    "        cls_pred[i:j] = session.run(y_pred_cls, feed_dict=feed_dict)\n",
    "\n",
    "        # Set the start-index for the next batch to the\n",
    "        # end-index of the current batch.\n",
    "        i = j\n",
    "\n",
    "    # Convenience variable for the true class-numbers of the test-set.\n",
    "    cls_true = test_cls\n",
    "\n",
    "    # Create a boolean array whether each image is correctly classified.\n",
    "    correct = (cls_true == cls_pred)\n",
    "\n",
    "    # Calculate the number of correctly classified images.\n",
    "    # When summing a boolean array, False means 0 and True means 1.\n",
    "    correct_sum = correct.sum()\n",
    "\n",
    "    # Classification accuracy is the number of correctly classified\n",
    "    # images divided by the total number of images in the test-set.\n",
    "    acc = float(correct_sum) / num_test\n",
    "\n",
    "    # Print the accuracy.\n",
    "    msg = \"Accuracy on Test-Set: {0:.1%} ({1} / {2})\"\n",
    "    print(msg.format(acc, correct_sum, num_test))\n",
    "\n",
    "    # Plot some examples of mis-classifications, if desired.\n",
    "    if show_example_errors:\n",
    "        print(\"Example errors:\")\n",
    "        plot_example_errors(cls_pred=cls_pred, correct=correct)\n",
    "\n",
    "    # Plot the confusion matrix, if desired.\n",
    "    if show_confusion_matrix:\n",
    "        print(\"Confusion Matrix:\")\n",
    "        plot_confusion_matrix(cls_pred=cls_pred)\n"
   ]
  },
  {
   "cell_type": "markdown",
   "metadata": {
    "deletable": true,
    "editable": true
   },
   "source": [
    "### Performance before any optimization\n",
    "The accuracy on the test-set is very low because the model variables have only been initialized and not optimized at all, so it just classifies the images randomly."
   ]
  },
  {
   "cell_type": "code",
   "execution_count": 234,
   "metadata": {
    "collapsed": false,
    "deletable": true,
    "editable": true
   },
   "outputs": [
    {
     "name": "stdout",
     "output_type": "stream",
     "text": [
      "Accuracy on Test-Set: 14.1% (75 / 532)\n",
      "Example errors:\n"
     ]
    }
   ],
   "source": [
    "print_test_accuracy(show_example_errors=True)\n"
   ]
  },
  {
   "cell_type": "markdown",
   "metadata": {
    "collapsed": false,
    "deletable": true,
    "editable": true
   },
   "source": [
    "## Performance after 1 optimization iteration\n",
    "optimize(num_iterations=1)\n"
   ]
  },
  {
   "cell_type": "code",
   "execution_count": 279,
   "metadata": {
    "collapsed": false,
    "deletable": true,
    "editable": true,
    "scrolled": true
   },
   "outputs": [
    {
     "name": "stdout",
     "output_type": "stream",
     "text": [
      "Optimization Iteration: 162001, Training Accuracy:  90.7%\n",
      "Optimization Iteration: 162001, Training Accuracy:  90.7%\n",
      "Optimization Iteration: 162001, Training Accuracy:  95.3%\n",
      "Optimization Iteration: 162001, Training Accuracy:  90.7%\n",
      "Optimization Iteration: 162001, Training Accuracy:  95.3%\n",
      "Optimization Iteration: 162001, Training Accuracy: 100.0%\n",
      "Optimization Iteration: 162001, Training Accuracy:  93.0%\n",
      "Optimization Iteration: 162001, Training Accuracy:  97.7%\n",
      "Optimization Iteration: 162001, Training Accuracy:  93.0%\n",
      "Optimization Iteration: 162001, Training Accuracy:  95.3%\n",
      "Optimization Iteration: 162001, Training Accuracy:  95.3%\n",
      "Optimization Iteration: 162001, Training Accuracy:  90.7%\n",
      "Optimization Iteration: 162001, Training Accuracy:  97.7%\n",
      "Optimization Iteration: 162001, Training Accuracy:  93.0%\n",
      "Optimization Iteration: 162001, Training Accuracy: 100.0%\n",
      "Optimization Iteration: 162001, Training Accuracy: 100.0%\n",
      "Optimization Iteration: 162001, Training Accuracy:  93.0%\n",
      "Optimization Iteration: 162001, Training Accuracy: 100.0%\n",
      "Optimization Iteration: 162001, Training Accuracy: 100.0%\n",
      "Optimization Iteration: 162001, Training Accuracy:  97.7%\n",
      "Optimization Iteration: 162001, Training Accuracy:  97.7%\n",
      "Optimization Iteration: 162001, Training Accuracy:  95.3%\n",
      "Optimization Iteration: 162001, Training Accuracy: 100.0%\n",
      "Optimization Iteration: 162001, Training Accuracy:  95.3%\n",
      "Optimization Iteration: 162001, Training Accuracy:  95.3%\n",
      "Optimization Iteration: 162001, Training Accuracy:  86.0%\n",
      "Optimization Iteration: 162001, Training Accuracy:  88.4%\n",
      "Optimization Iteration: 162001, Training Accuracy:  95.3%\n",
      "Optimization Iteration: 162001, Training Accuracy:  93.0%\n",
      "Optimization Iteration: 162001, Training Accuracy:  95.3%\n",
      "Optimization Iteration: 162001, Training Accuracy: 100.0%\n",
      "Optimization Iteration: 162001, Training Accuracy:  86.0%\n",
      "Optimization Iteration: 162001, Training Accuracy:  90.7%\n",
      "Optimization Iteration: 162001, Training Accuracy:  93.0%\n",
      "Optimization Iteration: 162001, Training Accuracy:  88.4%\n",
      "Optimization Iteration: 162001, Training Accuracy:  86.0%\n",
      "Optimization Iteration: 162001, Training Accuracy:  81.4%\n",
      "Optimization Iteration: 162001, Training Accuracy: 100.0%\n",
      "Time usage: 0:04:10\n"
     ]
    }
   ],
   "source": [
    "optimize(num_iterations=10000)"
   ]
  },
  {
   "cell_type": "code",
   "execution_count": 280,
   "metadata": {
    "collapsed": false,
    "deletable": true,
    "editable": true
   },
   "outputs": [
    {
     "name": "stdout",
     "output_type": "stream",
     "text": [
      "Accuracy on Test-Set: 70.5% (375 / 532)\n"
     ]
    }
   ],
   "source": [
    "print_test_accuracy()\n"
   ]
  },
  {
   "cell_type": "code",
   "execution_count": 281,
   "metadata": {
    "collapsed": false,
    "deletable": true,
    "editable": true
   },
   "outputs": [
    {
     "name": "stdout",
     "output_type": "stream",
     "text": [
      "Optimization Iteration: 172001, Training Accuracy:  88.4%\n",
      "Optimization Iteration: 172001, Training Accuracy:  93.0%\n",
      "Optimization Iteration: 172001, Training Accuracy:  93.0%\n",
      "Optimization Iteration: 172001, Training Accuracy:  90.7%\n",
      "Optimization Iteration: 172001, Training Accuracy:  95.3%\n",
      "Optimization Iteration: 172001, Training Accuracy:  97.7%\n",
      "Optimization Iteration: 172001, Training Accuracy:  95.3%\n",
      "Optimization Iteration: 172001, Training Accuracy:  97.7%\n",
      "Optimization Iteration: 172001, Training Accuracy:  93.0%\n",
      "Optimization Iteration: 172001, Training Accuracy: 100.0%\n",
      "Optimization Iteration: 172001, Training Accuracy:  93.0%\n",
      "Optimization Iteration: 172001, Training Accuracy:  86.0%\n",
      "Optimization Iteration: 172001, Training Accuracy:  97.7%\n",
      "Optimization Iteration: 172001, Training Accuracy:  95.3%\n",
      "Optimization Iteration: 172001, Training Accuracy: 100.0%\n",
      "Optimization Iteration: 172001, Training Accuracy: 100.0%\n",
      "Optimization Iteration: 172001, Training Accuracy:  95.3%\n",
      "Optimization Iteration: 172001, Training Accuracy: 100.0%\n",
      "Optimization Iteration: 172001, Training Accuracy:  93.0%\n",
      "Optimization Iteration: 172001, Training Accuracy: 100.0%\n",
      "Optimization Iteration: 172001, Training Accuracy:  93.0%\n",
      "Optimization Iteration: 172001, Training Accuracy:  90.7%\n",
      "Optimization Iteration: 172001, Training Accuracy:  97.7%\n",
      "Optimization Iteration: 172001, Training Accuracy: 100.0%\n",
      "Optimization Iteration: 172001, Training Accuracy:  97.7%\n",
      "Optimization Iteration: 172001, Training Accuracy:  86.0%\n",
      "Optimization Iteration: 172001, Training Accuracy:  88.4%\n",
      "Optimization Iteration: 172001, Training Accuracy:  88.4%\n",
      "Optimization Iteration: 172001, Training Accuracy:  86.0%\n",
      "Optimization Iteration: 172001, Training Accuracy:  90.7%\n",
      "Optimization Iteration: 172001, Training Accuracy:  95.3%\n",
      "Optimization Iteration: 172001, Training Accuracy:  97.7%\n",
      "Optimization Iteration: 172001, Training Accuracy:  97.7%\n",
      "Optimization Iteration: 172001, Training Accuracy: 100.0%\n",
      "Optimization Iteration: 172001, Training Accuracy:  90.7%\n",
      "Optimization Iteration: 172001, Training Accuracy:  93.0%\n",
      "Optimization Iteration: 172001, Training Accuracy:  86.0%\n",
      "Optimization Iteration: 172001, Training Accuracy: 100.0%\n",
      "Time usage: 0:05:01\n"
     ]
    }
   ],
   "source": [
    "#100 iteration\n",
    "optimize(num_iterations=5000) # We already performed 1 iteration above.\n"
   ]
  },
  {
   "cell_type": "code",
   "execution_count": 282,
   "metadata": {
    "collapsed": false,
    "deletable": true,
    "editable": true
   },
   "outputs": [
    {
     "name": "stdout",
     "output_type": "stream",
     "text": [
      "Accuracy on Test-Set: 69.5% (370 / 532)\n",
      "Example errors:\n",
      "Confusion Matrix:\n",
      "[[57  0 18  0  0  0  0]\n",
      " [ 4 57 17  0  0  0  0]\n",
      " [ 0  1 77  0  0  0  0]\n",
      " [ 8  0  4 61  0  0  0]\n",
      " [ 2  0 13  0 60  0  0]\n",
      " [ 1  0 18  0  3 51  0]\n",
      " [ 4  0 63  5  1  0  7]]\n"
     ]
    },
    {
     "data": {
      "image/png": "[encoded data removed]",
      "text/plain": [
       "<matplotlib.figure.Figure at 0x115f72050>"
      ]
     },
     "metadata": {},
     "output_type": "display_data"
    }
   ],
   "source": [
    "print_test_accuracy(show_example_errors=True,show_confusion_matrix=True)\n"
   ]
  },
  {
   "cell_type": "code",
   "execution_count": 283,
   "metadata": {
    "collapsed": false,
    "deletable": true,
    "editable": true,
    "scrolled": true
   },
   "outputs": [
    {
     "name": "stdout",
     "output_type": "stream",
     "text": [
      "Optimization Iteration: 177001, Training Accuracy:  88.4%\n",
      "Optimization Iteration: 177001, Training Accuracy:  83.7%\n",
      "Optimization Iteration: 177001, Training Accuracy:  88.4%\n",
      "Optimization Iteration: 177001, Training Accuracy:  83.7%\n",
      "Optimization Iteration: 177001, Training Accuracy:  88.4%\n",
      "Optimization Iteration: 177001, Training Accuracy: 100.0%\n",
      "Optimization Iteration: 177001, Training Accuracy:  93.0%\n",
      "Optimization Iteration: 177001, Training Accuracy: 100.0%\n",
      "Optimization Iteration: 177001, Training Accuracy: 100.0%\n",
      "Optimization Iteration: 177001, Training Accuracy: 100.0%\n",
      "Optimization Iteration: 177001, Training Accuracy:  97.7%\n",
      "Optimization Iteration: 177001, Training Accuracy:  93.0%\n",
      "Optimization Iteration: 177001, Training Accuracy:  97.7%\n",
      "Optimization Iteration: 177001, Training Accuracy:  83.7%\n",
      "Optimization Iteration: 177001, Training Accuracy:  95.3%\n",
      "Optimization Iteration: 177001, Training Accuracy: 100.0%\n",
      "Optimization Iteration: 177001, Training Accuracy:  95.3%\n",
      "Optimization Iteration: 177001, Training Accuracy:  97.7%\n",
      "Optimization Iteration: 177001, Training Accuracy:  97.7%\n",
      "Optimization Iteration: 177001, Training Accuracy:  97.7%\n",
      "Optimization Iteration: 177001, Training Accuracy: 100.0%\n",
      "Optimization Iteration: 177001, Training Accuracy:  95.3%\n",
      "Optimization Iteration: 177001, Training Accuracy:  93.0%\n",
      "Optimization Iteration: 177001, Training Accuracy:  95.3%\n",
      "Optimization Iteration: 177001, Training Accuracy:  97.7%\n",
      "Optimization Iteration: 177001, Training Accuracy:  95.3%\n",
      "Optimization Iteration: 177001, Training Accuracy:  97.7%\n",
      "Optimization Iteration: 177001, Training Accuracy:  97.7%\n",
      "Optimization Iteration: 177001, Training Accuracy: 100.0%\n",
      "Optimization Iteration: 177001, Training Accuracy:  93.0%\n",
      "Optimization Iteration: 177001, Training Accuracy:  95.3%\n",
      "Optimization Iteration: 177001, Training Accuracy: 100.0%\n",
      "Optimization Iteration: 177001, Training Accuracy: 100.0%\n",
      "Optimization Iteration: 177001, Training Accuracy:  97.7%\n",
      "Optimization Iteration: 177001, Training Accuracy:  95.3%\n",
      "Optimization Iteration: 177001, Training Accuracy:  97.7%\n",
      "Optimization Iteration: 177001, Training Accuracy:  97.7%\n",
      "Optimization Iteration: 177001, Training Accuracy: 100.0%\n",
      "Time usage: 0:05:57\n"
     ]
    }
   ],
   "source": [
    "#1000 iteration\n",
    "optimize(num_iterations=10000) # We performed 100 iterations above.\n"
   ]
  },
  {
   "cell_type": "code",
   "execution_count": 284,
   "metadata": {
    "collapsed": false,
    "deletable": true,
    "editable": true
   },
   "outputs": [
    {
     "name": "stdout",
     "output_type": "stream",
     "text": [
      "Accuracy on Test-Set: 79.7% (424 / 532)\n",
      "Example errors:\n",
      "Confusion Matrix:\n",
      "[[64  0 11  0  0  0  0]\n",
      " [ 9 61  8  0  0  0  0]\n",
      " [ 0  2 76  0  0  0  0]\n",
      " [ 7  0  1 64  0  1  0]\n",
      " [ 2  0  5  0 68  0  0]\n",
      " [ 0  0  8  0  3 62  0]\n",
      " [ 5  0 36  4  0  6 29]]\n"
     ]
    },
    {
     "data": {
      "image/png": "[encoded data removed]",
      "text/plain": [
       "<matplotlib.figure.Figure at 0x116187750>"
      ]
     },
     "metadata": {},
     "output_type": "display_data"
    }
   ],
   "source": [
    "print_test_accuracy(show_example_errors=True,show_confusion_matrix=True)\n"
   ]
  },
  {
   "cell_type": "code",
   "execution_count": 285,
   "metadata": {
    "collapsed": false,
    "deletable": true,
    "editable": true
   },
   "outputs": [
    {
     "name": "stdout",
     "output_type": "stream",
     "text": [
      "Optimization Iteration: 187001, Training Accuracy:  95.3%\n",
      "Optimization Iteration: 187001, Training Accuracy:  90.7%\n",
      "Optimization Iteration: 187001, Training Accuracy:  93.0%\n",
      "Optimization Iteration: 187001, Training Accuracy:  88.4%\n",
      "Optimization Iteration: 187001, Training Accuracy:  95.3%\n",
      "Optimization Iteration: 187001, Training Accuracy: 100.0%\n",
      "Optimization Iteration: 187001, Training Accuracy: 100.0%\n",
      "Optimization Iteration: 187001, Training Accuracy: 100.0%\n",
      "Optimization Iteration: 187001, Training Accuracy: 100.0%\n",
      "Optimization Iteration: 187001, Training Accuracy: 100.0%\n",
      "Optimization Iteration: 187001, Training Accuracy: 100.0%\n",
      "Optimization Iteration: 187001, Training Accuracy:  95.3%\n",
      "Optimization Iteration: 187001, Training Accuracy: 100.0%\n",
      "Optimization Iteration: 187001, Training Accuracy:  95.3%\n",
      "Optimization Iteration: 187001, Training Accuracy: 100.0%\n",
      "Optimization Iteration: 187001, Training Accuracy: 100.0%\n",
      "Optimization Iteration: 187001, Training Accuracy:  93.0%\n",
      "Optimization Iteration: 187001, Training Accuracy:  97.7%\n",
      "Optimization Iteration: 187001, Training Accuracy:  97.7%\n",
      "Optimization Iteration: 187001, Training Accuracy: 100.0%\n",
      "Optimization Iteration: 187001, Training Accuracy: 100.0%\n",
      "Optimization Iteration: 187001, Training Accuracy:  97.7%\n",
      "Optimization Iteration: 187001, Training Accuracy: 100.0%\n",
      "Optimization Iteration: 187001, Training Accuracy: 100.0%\n",
      "Optimization Iteration: 187001, Training Accuracy: 100.0%\n",
      "Optimization Iteration: 187001, Training Accuracy:  97.7%\n",
      "Optimization Iteration: 187001, Training Accuracy: 100.0%\n",
      "Optimization Iteration: 187001, Training Accuracy:  97.7%\n",
      "Optimization Iteration: 187001, Training Accuracy: 100.0%\n",
      "Optimization Iteration: 187001, Training Accuracy:  95.3%\n",
      "Optimization Iteration: 187001, Training Accuracy: 100.0%\n",
      "Optimization Iteration: 187001, Training Accuracy: 100.0%\n",
      "Optimization Iteration: 187001, Training Accuracy: 100.0%\n",
      "Optimization Iteration: 187001, Training Accuracy: 100.0%\n",
      "Optimization Iteration: 187001, Training Accuracy: 100.0%\n",
      "Optimization Iteration: 187001, Training Accuracy:  97.7%\n",
      "Optimization Iteration: 187001, Training Accuracy: 100.0%\n",
      "Optimization Iteration: 187001, Training Accuracy: 100.0%\n",
      "Time usage: 0:06:16\n"
     ]
    }
   ],
   "source": [
    "optimize(num_iterations=2000) # We performed 1000 iterations above.\n"
   ]
  },
  {
   "cell_type": "code",
   "execution_count": 286,
   "metadata": {
    "collapsed": false,
    "deletable": true,
    "editable": true
   },
   "outputs": [
    {
     "name": "stdout",
     "output_type": "stream",
     "text": [
      "Accuracy on Test-Set: 82.9% (441 / 532)\n",
      "Example errors:\n",
      "Confusion Matrix:\n",
      "[[66  0  9  0  0  0  0]\n",
      " [10 60  8  0  0  0  0]\n",
      " [ 0  1 77  0  0  0  0]\n",
      " [10  1  1 60  0  1  0]\n",
      " [ 0  0  2  0 73  0  0]\n",
      " [ 0  0  0  0  4 69  0]\n",
      " [ 7  0 28  2  0  7 36]]\n"
     ]
    },
    {
     "data": {
      "image/png": "[encoded data removed]",
      "text/plain": [
       "<matplotlib.figure.Figure at 0x114d81e90>"
      ]
     },
     "metadata": {},
     "output_type": "display_data"
    }
   ],
   "source": [
    "print_test_accuracy(show_example_errors=True,show_confusion_matrix=True)"
   ]
  },
  {
   "cell_type": "code",
   "execution_count": 287,
   "metadata": {
    "collapsed": false,
    "deletable": true,
    "editable": true,
    "scrolled": true
   },
   "outputs": [
    {
     "name": "stdout",
     "output_type": "stream",
     "text": [
      "Optimization Iteration: 189001, Training Accuracy:  97.7%\n",
      "Optimization Iteration: 189001, Training Accuracy:  90.7%\n",
      "Optimization Iteration: 189001, Training Accuracy:  97.7%\n",
      "Optimization Iteration: 189001, Training Accuracy:  88.4%\n",
      "Optimization Iteration: 189001, Training Accuracy:  97.7%\n",
      "Optimization Iteration: 189001, Training Accuracy: 100.0%\n",
      "Optimization Iteration: 189001, Training Accuracy: 100.0%\n",
      "Optimization Iteration: 189001, Training Accuracy: 100.0%\n",
      "Optimization Iteration: 189001, Training Accuracy: 100.0%\n",
      "Optimization Iteration: 189001, Training Accuracy: 100.0%\n",
      "Optimization Iteration: 189001, Training Accuracy: 100.0%\n",
      "Optimization Iteration: 189001, Training Accuracy:  97.7%\n",
      "Optimization Iteration: 189001, Training Accuracy: 100.0%\n",
      "Optimization Iteration: 189001, Training Accuracy: 100.0%\n",
      "Optimization Iteration: 189001, Training Accuracy: 100.0%\n",
      "Optimization Iteration: 189001, Training Accuracy: 100.0%\n",
      "Optimization Iteration: 189001, Training Accuracy:  97.7%\n",
      "Optimization Iteration: 189001, Training Accuracy: 100.0%\n",
      "Optimization Iteration: 189001, Training Accuracy: 100.0%\n",
      "Optimization Iteration: 189001, Training Accuracy: 100.0%\n",
      "Optimization Iteration: 189001, Training Accuracy: 100.0%\n",
      "Optimization Iteration: 189001, Training Accuracy:  97.7%\n",
      "Optimization Iteration: 189001, Training Accuracy: 100.0%\n",
      "Optimization Iteration: 189001, Training Accuracy: 100.0%\n",
      "Optimization Iteration: 189001, Training Accuracy: 100.0%\n",
      "Optimization Iteration: 189001, Training Accuracy:  97.7%\n",
      "Optimization Iteration: 189001, Training Accuracy: 100.0%\n",
      "Optimization Iteration: 189001, Training Accuracy:  97.7%\n",
      "Optimization Iteration: 189001, Training Accuracy:  97.7%\n",
      "Optimization Iteration: 189001, Training Accuracy:  97.7%\n",
      "Optimization Iteration: 189001, Training Accuracy: 100.0%\n",
      "Optimization Iteration: 189001, Training Accuracy: 100.0%\n",
      "Optimization Iteration: 189001, Training Accuracy: 100.0%\n",
      "Optimization Iteration: 189001, Training Accuracy: 100.0%\n",
      "Optimization Iteration: 189001, Training Accuracy: 100.0%\n",
      "Optimization Iteration: 189001, Training Accuracy:  97.7%\n",
      "Optimization Iteration: 189001, Training Accuracy:  97.7%\n",
      "Optimization Iteration: 189001, Training Accuracy: 100.0%\n",
      "Time usage: 0:05:57\n"
     ]
    }
   ],
   "source": [
    "optimize(num_iterations=5000) # We performed 1000 iterations above.\n"
   ]
  },
  {
   "cell_type": "code",
   "execution_count": 288,
   "metadata": {
    "collapsed": false,
    "deletable": true,
    "editable": true
   },
   "outputs": [
    {
     "name": "stdout",
     "output_type": "stream",
     "text": [
      "Accuracy on Test-Set: 81.0% (431 / 532)\n",
      "Example errors:\n",
      "Confusion Matrix:\n",
      "[[69  0  6  0  0  0  0]\n",
      " [ 8 64  6  0  0  0  0]\n",
      " [ 0  2 72  0  4  0  0]\n",
      " [15  1  0 55  1  1  0]\n",
      " [ 0  0  0  0 75  0  0]\n",
      " [ 0  0  0  0  9 64  0]\n",
      " [14  0 22  0  3  9 32]]\n"
     ]
    },
    {
     "data": {
      "image/png": "[encoded data removed]",
      "text/plain": [
       "<matplotlib.figure.Figure at 0x109c72510>"
      ]
     },
     "metadata": {},
     "output_type": "display_data"
    }
   ],
   "source": [
    "print_test_accuracy(show_example_errors=True,show_confusion_matrix=True)"
   ]
  },
  {
   "cell_type": "code",
   "execution_count": 289,
   "metadata": {
    "collapsed": false,
    "deletable": true,
    "editable": true,
    "scrolled": true
   },
   "outputs": [
    {
     "name": "stdout",
     "output_type": "stream",
     "text": [
      "Optimization Iteration: 194001, Training Accuracy:  97.7%\n",
      "Optimization Iteration: 194001, Training Accuracy:  93.0%\n",
      "Optimization Iteration: 194001, Training Accuracy:  97.7%\n",
      "Optimization Iteration: 194001, Training Accuracy:  95.3%\n",
      "Optimization Iteration: 194001, Training Accuracy:  97.7%\n",
      "Optimization Iteration: 194001, Training Accuracy: 100.0%\n",
      "Optimization Iteration: 194001, Training Accuracy: 100.0%\n",
      "Optimization Iteration: 194001, Training Accuracy: 100.0%\n",
      "Optimization Iteration: 194001, Training Accuracy: 100.0%\n",
      "Optimization Iteration: 194001, Training Accuracy: 100.0%\n",
      "Optimization Iteration: 194001, Training Accuracy: 100.0%\n",
      "Optimization Iteration: 194001, Training Accuracy: 100.0%\n",
      "Optimization Iteration: 194001, Training Accuracy: 100.0%\n",
      "Optimization Iteration: 194001, Training Accuracy: 100.0%\n",
      "Optimization Iteration: 194001, Training Accuracy: 100.0%\n",
      "Optimization Iteration: 194001, Training Accuracy: 100.0%\n",
      "Optimization Iteration: 194001, Training Accuracy:  97.7%\n",
      "Optimization Iteration: 194001, Training Accuracy: 100.0%\n",
      "Optimization Iteration: 194001, Training Accuracy: 100.0%\n",
      "Optimization Iteration: 194001, Training Accuracy: 100.0%\n",
      "Optimization Iteration: 194001, Training Accuracy: 100.0%\n",
      "Optimization Iteration: 194001, Training Accuracy:  97.7%\n",
      "Optimization Iteration: 194001, Training Accuracy: 100.0%\n",
      "Optimization Iteration: 194001, Training Accuracy: 100.0%\n",
      "Optimization Iteration: 194001, Training Accuracy: 100.0%\n",
      "Optimization Iteration: 194001, Training Accuracy:  97.7%\n",
      "Optimization Iteration: 194001, Training Accuracy: 100.0%\n",
      "Optimization Iteration: 194001, Training Accuracy: 100.0%\n",
      "Optimization Iteration: 194001, Training Accuracy:  97.7%\n",
      "Optimization Iteration: 194001, Training Accuracy:  97.7%\n",
      "Optimization Iteration: 194001, Training Accuracy: 100.0%\n",
      "Optimization Iteration: 194001, Training Accuracy: 100.0%\n",
      "Optimization Iteration: 194001, Training Accuracy: 100.0%\n",
      "Optimization Iteration: 194001, Training Accuracy: 100.0%\n",
      "Optimization Iteration: 194001, Training Accuracy:  97.7%\n",
      "Optimization Iteration: 194001, Training Accuracy:  97.7%\n",
      "Optimization Iteration: 194001, Training Accuracy: 100.0%\n",
      "Optimization Iteration: 194001, Training Accuracy: 100.0%\n",
      "Time usage: 0:05:51\n"
     ]
    }
   ],
   "source": [
    "optimize(num_iterations=10000) # We performed 1000 iterations above.\n"
   ]
  },
  {
   "cell_type": "code",
   "execution_count": 290,
   "metadata": {
    "collapsed": false,
    "deletable": true,
    "editable": true
   },
   "outputs": [
    {
     "name": "stdout",
     "output_type": "stream",
     "text": [
      "Accuracy on Test-Set: 78.6% (418 / 532)\n",
      "Example errors:\n",
      "Confusion Matrix:\n",
      "[[72  0  3  0  0  0  0]\n",
      " [10 61  5  0  2  0  0]\n",
      " [ 1  1 71  0  5  0  0]\n",
      " [25  0  0 44  3  1  0]\n",
      " [ 0  0  0  0 75  0  0]\n",
      " [ 0  0  0  0 11 62  0]\n",
      " [18  0 17  0  6  6 33]]\n"
     ]
    },
    {
     "data": {
      "image/png": "[encoded data removed]",
      "text/plain": [
       "<matplotlib.figure.Figure at 0x115479410>"
      ]
     },
     "metadata": {},
     "output_type": "display_data"
    }
   ],
   "source": [
    "print_test_accuracy(show_example_errors=True,show_confusion_matrix=True)"
   ]
  },
  {
   "cell_type": "code",
   "execution_count": 291,
   "metadata": {
    "collapsed": false,
    "deletable": true,
    "editable": true
   },
   "outputs": [
    {
     "name": "stdout",
     "output_type": "stream",
     "text": [
      "Optimization Iteration: 204001, Training Accuracy:  95.3%\n",
      "Optimization Iteration: 204001, Training Accuracy:  93.0%\n",
      "Optimization Iteration: 204001, Training Accuracy:  97.7%\n",
      "Optimization Iteration: 204001, Training Accuracy:  97.7%\n",
      "Optimization Iteration: 204001, Training Accuracy:  97.7%\n",
      "Optimization Iteration: 204001, Training Accuracy: 100.0%\n",
      "Optimization Iteration: 204001, Training Accuracy: 100.0%\n",
      "Optimization Iteration: 204001, Training Accuracy: 100.0%\n",
      "Optimization Iteration: 204001, Training Accuracy: 100.0%\n",
      "Optimization Iteration: 204001, Training Accuracy: 100.0%\n",
      "Optimization Iteration: 204001, Training Accuracy: 100.0%\n",
      "Optimization Iteration: 204001, Training Accuracy:  97.7%\n",
      "Optimization Iteration: 204001, Training Accuracy: 100.0%\n",
      "Optimization Iteration: 204001, Training Accuracy:  97.7%\n",
      "Optimization Iteration: 204001, Training Accuracy: 100.0%\n",
      "Optimization Iteration: 204001, Training Accuracy: 100.0%\n",
      "Optimization Iteration: 204001, Training Accuracy:  97.7%\n",
      "Optimization Iteration: 204001, Training Accuracy: 100.0%\n",
      "Optimization Iteration: 204001, Training Accuracy: 100.0%\n",
      "Optimization Iteration: 204001, Training Accuracy: 100.0%\n",
      "Optimization Iteration: 204001, Training Accuracy: 100.0%\n",
      "Optimization Iteration: 204001, Training Accuracy:  97.7%\n",
      "Optimization Iteration: 204001, Training Accuracy: 100.0%\n",
      "Optimization Iteration: 204001, Training Accuracy: 100.0%\n",
      "Optimization Iteration: 204001, Training Accuracy:  97.7%\n",
      "Optimization Iteration: 204001, Training Accuracy:  97.7%\n",
      "Optimization Iteration: 204001, Training Accuracy: 100.0%\n",
      "Optimization Iteration: 204001, Training Accuracy: 100.0%\n",
      "Optimization Iteration: 204001, Training Accuracy:  97.7%\n",
      "Optimization Iteration: 204001, Training Accuracy:  97.7%\n",
      "Optimization Iteration: 204001, Training Accuracy: 100.0%\n",
      "Optimization Iteration: 204001, Training Accuracy: 100.0%\n",
      "Optimization Iteration: 204001, Training Accuracy: 100.0%\n",
      "Optimization Iteration: 204001, Training Accuracy:  97.7%\n",
      "Optimization Iteration: 204001, Training Accuracy:  97.7%\n",
      "Optimization Iteration: 204001, Training Accuracy: 100.0%\n",
      "Optimization Iteration: 204001, Training Accuracy: 100.0%\n",
      "Optimization Iteration: 204001, Training Accuracy: 100.0%\n",
      "Time usage: 0:06:23\n"
     ]
    }
   ],
   "source": [
    "optimize(num_iterations=2000) # We performed 1000 iterations above.\n"
   ]
  },
  {
   "cell_type": "code",
   "execution_count": 292,
   "metadata": {
    "collapsed": false,
    "deletable": true,
    "editable": true
   },
   "outputs": [
    {
     "name": "stdout",
     "output_type": "stream",
     "text": [
      "Accuracy on Test-Set: 76.7% (408 / 532)\n",
      "Example errors:\n",
      "Confusion Matrix:\n",
      "[[73  0  1  0  1  0  0]\n",
      " [ 9 63  3  0  3  0  0]\n",
      " [ 3  1 66  0  8  0  0]\n",
      " [25  0  0 44  3  1  0]\n",
      " [ 0  0  0  0 75  0  0]\n",
      " [ 0  0  0  0 19 54  0]\n",
      " [23  0 11  0 10  3 33]]\n"
     ]
    },
    {
     "data": {
      "image/png": "[encoded data removed]",
      "text/plain": [
       "<matplotlib.figure.Figure at 0x116fd32d0>"
      ]
     },
     "metadata": {},
     "output_type": "display_data"
    }
   ],
   "source": [
    " print_test_accuracy(show_example_errors=True,show_confusion_matrix=True)"
   ]
  },
  {
   "cell_type": "code",
   "execution_count": 293,
   "metadata": {
    "collapsed": false,
    "deletable": true,
    "editable": true
   },
   "outputs": [
    {
     "name": "stdout",
     "output_type": "stream",
     "text": [
      "Optimization Iteration: 206001, Training Accuracy:  97.7%\n",
      "Optimization Iteration: 206001, Training Accuracy:  93.0%\n",
      "Optimization Iteration: 206001, Training Accuracy:  97.7%\n",
      "Optimization Iteration: 206001, Training Accuracy: 100.0%\n",
      "Optimization Iteration: 206001, Training Accuracy: 100.0%\n",
      "Optimization Iteration: 206001, Training Accuracy: 100.0%\n",
      "Optimization Iteration: 206001, Training Accuracy: 100.0%\n",
      "Optimization Iteration: 206001, Training Accuracy: 100.0%\n",
      "Optimization Iteration: 206001, Training Accuracy: 100.0%\n",
      "Optimization Iteration: 206001, Training Accuracy: 100.0%\n",
      "Optimization Iteration: 206001, Training Accuracy: 100.0%\n",
      "Optimization Iteration: 206001, Training Accuracy:  97.7%\n",
      "Optimization Iteration: 206001, Training Accuracy: 100.0%\n",
      "Optimization Iteration: 206001, Training Accuracy: 100.0%\n",
      "Optimization Iteration: 206001, Training Accuracy: 100.0%\n",
      "Optimization Iteration: 206001, Training Accuracy: 100.0%\n",
      "Optimization Iteration: 206001, Training Accuracy:  97.7%\n",
      "Optimization Iteration: 206001, Training Accuracy: 100.0%\n",
      "Optimization Iteration: 206001, Training Accuracy: 100.0%\n",
      "Optimization Iteration: 206001, Training Accuracy: 100.0%\n",
      "Optimization Iteration: 206001, Training Accuracy: 100.0%\n",
      "Optimization Iteration: 206001, Training Accuracy:  97.7%\n",
      "Optimization Iteration: 206001, Training Accuracy: 100.0%\n",
      "Optimization Iteration: 206001, Training Accuracy: 100.0%\n",
      "Optimization Iteration: 206001, Training Accuracy:  97.7%\n",
      "Optimization Iteration: 206001, Training Accuracy:  97.7%\n",
      "Optimization Iteration: 206001, Training Accuracy: 100.0%\n",
      "Optimization Iteration: 206001, Training Accuracy: 100.0%\n",
      "Optimization Iteration: 206001, Training Accuracy:  97.7%\n",
      "Optimization Iteration: 206001, Training Accuracy:  97.7%\n",
      "Optimization Iteration: 206001, Training Accuracy: 100.0%\n",
      "Optimization Iteration: 206001, Training Accuracy: 100.0%\n",
      "Optimization Iteration: 206001, Training Accuracy: 100.0%\n",
      "Optimization Iteration: 206001, Training Accuracy:  97.7%\n",
      "Optimization Iteration: 206001, Training Accuracy:  97.7%\n",
      "Optimization Iteration: 206001, Training Accuracy: 100.0%\n",
      "Optimization Iteration: 206001, Training Accuracy: 100.0%\n",
      "Optimization Iteration: 206001, Training Accuracy: 100.0%\n",
      "Time usage: 0:06:56\n"
     ]
    }
   ],
   "source": [
    "optimize(num_iterations=2000)"
   ]
  },
  {
   "cell_type": "code",
   "execution_count": 294,
   "metadata": {
    "collapsed": false,
    "deletable": true,
    "editable": true
   },
   "outputs": [
    {
     "name": "stdout",
     "output_type": "stream",
     "text": [
      "Accuracy on Test-Set: 75.2% (400 / 532)\n",
      "Example errors:\n",
      "Confusion Matrix:\n",
      "[[73  0  1  0  1  0  0]\n",
      " [12 62  1  0  3  0  0]\n",
      " [ 7  1 62  0  8  0  0]\n",
      " [25  0  0 44  3  1  0]\n",
      " [ 0  0  0  0 75  0  0]\n",
      " [ 0  0  0  0 22 51  0]\n",
      " [23  0 11  0 11  2 33]]\n"
     ]
    },
    {
     "data": {
      "image/png": "[encoded data removed]",
      "text/plain": [
       "<matplotlib.figure.Figure at 0x115474f90>"
      ]
     },
     "metadata": {},
     "output_type": "display_data"
    }
   ],
   "source": [
    " print_test_accuracy(show_example_errors=True,show_confusion_matrix=True)"
   ]
  },
  {
   "cell_type": "code",
   "execution_count": 295,
   "metadata": {
    "collapsed": false,
    "deletable": true,
    "editable": true
   },
   "outputs": [
    {
     "name": "stdout",
     "output_type": "stream",
     "text": [
      "Optimization Iteration: 208001, Training Accuracy: 100.0%\n",
      "Optimization Iteration: 208001, Training Accuracy:  93.0%\n",
      "Optimization Iteration: 208001, Training Accuracy:  97.7%\n",
      "Optimization Iteration: 208001, Training Accuracy:  97.7%\n",
      "Optimization Iteration: 208001, Training Accuracy:  97.7%\n",
      "Optimization Iteration: 208001, Training Accuracy: 100.0%\n",
      "Optimization Iteration: 208001, Training Accuracy: 100.0%\n",
      "Optimization Iteration: 208001, Training Accuracy: 100.0%\n",
      "Optimization Iteration: 208001, Training Accuracy: 100.0%\n",
      "Optimization Iteration: 208001, Training Accuracy: 100.0%\n",
      "Optimization Iteration: 208001, Training Accuracy: 100.0%\n",
      "Optimization Iteration: 208001, Training Accuracy:  97.7%\n",
      "Optimization Iteration: 208001, Training Accuracy: 100.0%\n",
      "Optimization Iteration: 208001, Training Accuracy: 100.0%\n",
      "Optimization Iteration: 208001, Training Accuracy: 100.0%\n",
      "Optimization Iteration: 208001, Training Accuracy: 100.0%\n",
      "Optimization Iteration: 208001, Training Accuracy:  97.7%\n",
      "Optimization Iteration: 208001, Training Accuracy: 100.0%\n",
      "Optimization Iteration: 208001, Training Accuracy: 100.0%\n",
      "Optimization Iteration: 208001, Training Accuracy: 100.0%\n",
      "Optimization Iteration: 208001, Training Accuracy: 100.0%\n",
      "Optimization Iteration: 208001, Training Accuracy:  97.7%\n",
      "Optimization Iteration: 208001, Training Accuracy: 100.0%\n",
      "Optimization Iteration: 208001, Training Accuracy: 100.0%\n",
      "Optimization Iteration: 208001, Training Accuracy:  97.7%\n",
      "Optimization Iteration: 208001, Training Accuracy:  97.7%\n",
      "Optimization Iteration: 208001, Training Accuracy: 100.0%\n",
      "Optimization Iteration: 208001, Training Accuracy: 100.0%\n",
      "Optimization Iteration: 208001, Training Accuracy:  97.7%\n",
      "Optimization Iteration: 208001, Training Accuracy:  97.7%\n",
      "Optimization Iteration: 208001, Training Accuracy: 100.0%\n",
      "Optimization Iteration: 208001, Training Accuracy: 100.0%\n",
      "Optimization Iteration: 208001, Training Accuracy: 100.0%\n",
      "Optimization Iteration: 208001, Training Accuracy:  97.7%\n",
      "Optimization Iteration: 208001, Training Accuracy:  97.7%\n",
      "Optimization Iteration: 208001, Training Accuracy:  97.7%\n",
      "Optimization Iteration: 208001, Training Accuracy: 100.0%\n",
      "Optimization Iteration: 208001, Training Accuracy: 100.0%\n",
      "Time usage: 0:07:17\n"
     ]
    }
   ],
   "source": [
    "optimize(num_iterations=2000)"
   ]
  },
  {
   "cell_type": "code",
   "execution_count": 296,
   "metadata": {
    "collapsed": false,
    "deletable": true,
    "editable": true
   },
   "outputs": [
    {
     "name": "stdout",
     "output_type": "stream",
     "text": [
      "Accuracy on Test-Set: 74.8% (398 / 532)\n",
      "Example errors:\n",
      "Confusion Matrix:\n",
      "[[73  0  1  0  1  0  0]\n",
      " [14 60  1  0  3  0  0]\n",
      " [ 7  1 62  0  8  0  0]\n",
      " [25  0  0 44  3  1  0]\n",
      " [ 0  0  0  0 75  0  0]\n",
      " [ 0  0  0  0 22 51  0]\n",
      " [25  0  8  1 12  1 33]]\n"
     ]
    },
    {
     "data": {
      "image/png": "[encoded data removed]",
      "text/plain": [
       "<matplotlib.figure.Figure at 0x1152fb110>"
      ]
     },
     "metadata": {},
     "output_type": "display_data"
    }
   ],
   "source": [
    "print_test_accuracy(show_example_errors=True,show_confusion_matrix=True)"
   ]
  },
  {
   "cell_type": "code",
   "execution_count": 297,
   "metadata": {
    "collapsed": false,
    "deletable": true,
    "editable": true
   },
   "outputs": [
    {
     "name": "stdout",
     "output_type": "stream",
     "text": [
      "Optimization Iteration: 210001, Training Accuracy: 100.0%\n",
      "Optimization Iteration: 210001, Training Accuracy:  97.7%\n",
      "Optimization Iteration: 210001, Training Accuracy:  97.7%\n",
      "Optimization Iteration: 210001, Training Accuracy:  97.7%\n",
      "Optimization Iteration: 210001, Training Accuracy:  97.7%\n",
      "Optimization Iteration: 210001, Training Accuracy: 100.0%\n",
      "Optimization Iteration: 210001, Training Accuracy: 100.0%\n",
      "Optimization Iteration: 210001, Training Accuracy: 100.0%\n",
      "Optimization Iteration: 210001, Training Accuracy: 100.0%\n",
      "Optimization Iteration: 210001, Training Accuracy: 100.0%\n",
      "Optimization Iteration: 210001, Training Accuracy: 100.0%\n",
      "Optimization Iteration: 210001, Training Accuracy:  97.7%\n",
      "Optimization Iteration: 210001, Training Accuracy: 100.0%\n",
      "Optimization Iteration: 210001, Training Accuracy: 100.0%\n",
      "Optimization Iteration: 210001, Training Accuracy: 100.0%\n",
      "Optimization Iteration: 210001, Training Accuracy: 100.0%\n",
      "Optimization Iteration: 210001, Training Accuracy:  97.7%\n",
      "Optimization Iteration: 210001, Training Accuracy: 100.0%\n",
      "Optimization Iteration: 210001, Training Accuracy: 100.0%\n",
      "Optimization Iteration: 210001, Training Accuracy: 100.0%\n",
      "Optimization Iteration: 210001, Training Accuracy: 100.0%\n",
      "Optimization Iteration: 210001, Training Accuracy:  97.7%\n",
      "Optimization Iteration: 210001, Training Accuracy: 100.0%\n",
      "Optimization Iteration: 210001, Training Accuracy: 100.0%\n",
      "Optimization Iteration: 210001, Training Accuracy:  97.7%\n",
      "Optimization Iteration: 210001, Training Accuracy:  97.7%\n",
      "Optimization Iteration: 210001, Training Accuracy:  97.7%\n",
      "Optimization Iteration: 210001, Training Accuracy: 100.0%\n",
      "Optimization Iteration: 210001, Training Accuracy:  97.7%\n",
      "Optimization Iteration: 210001, Training Accuracy:  97.7%\n",
      "Optimization Iteration: 210001, Training Accuracy: 100.0%\n",
      "Optimization Iteration: 210001, Training Accuracy: 100.0%\n",
      "Optimization Iteration: 210001, Training Accuracy:  97.7%\n",
      "Optimization Iteration: 210001, Training Accuracy:  97.7%\n",
      "Optimization Iteration: 210001, Training Accuracy:  97.7%\n",
      "Optimization Iteration: 210001, Training Accuracy: 100.0%\n",
      "Optimization Iteration: 210001, Training Accuracy: 100.0%\n",
      "Optimization Iteration: 210001, Training Accuracy: 100.0%\n",
      "Time usage: 0:07:08\n"
     ]
    }
   ],
   "source": [
    "optimize(num_iterations=2000)"
   ]
  },
  {
   "cell_type": "code",
   "execution_count": 298,
   "metadata": {
    "collapsed": false,
    "deletable": true,
    "editable": true
   },
   "outputs": [
    {
     "name": "stdout",
     "output_type": "stream",
     "text": [
      "Accuracy on Test-Set: 73.1% (389 / 532)\n",
      "Example errors:\n",
      "Confusion Matrix:\n",
      "[[73  0  1  0  1  0  0]\n",
      " [14 60  1  0  3  0  0]\n",
      " [ 8  1 57  0 12  0  0]\n",
      " [24  0  0 45  4  0  0]\n",
      " [ 0  0  0  0 75  0  0]\n",
      " [ 0  0  0  0 24 49  0]\n",
      " [26  0 10  1 12  1 30]]\n"
     ]
    },
    {
     "data": {
      "image/png": "[encoded data removed]",
      "text/plain": [
       "<matplotlib.figure.Figure at 0x108c45510>"
      ]
     },
     "metadata": {},
     "output_type": "display_data"
    }
   ],
   "source": [
    "print_test_accuracy(show_example_errors=True,show_confusion_matrix=True)"
   ]
  },
  {
   "cell_type": "code",
   "execution_count": 299,
   "metadata": {
    "collapsed": false,
    "deletable": true,
    "editable": true
   },
   "outputs": [
    {
     "name": "stdout",
     "output_type": "stream",
     "text": [
      "Optimization Iteration: 212001, Training Accuracy: 100.0%\n",
      "Optimization Iteration: 212001, Training Accuracy:  97.7%\n",
      "Optimization Iteration: 212001, Training Accuracy:  97.7%\n",
      "Optimization Iteration: 212001, Training Accuracy:  97.7%\n",
      "Optimization Iteration: 212001, Training Accuracy:  97.7%\n",
      "Optimization Iteration: 212001, Training Accuracy: 100.0%\n",
      "Optimization Iteration: 212001, Training Accuracy: 100.0%\n",
      "Optimization Iteration: 212001, Training Accuracy: 100.0%\n",
      "Optimization Iteration: 212001, Training Accuracy: 100.0%\n",
      "Optimization Iteration: 212001, Training Accuracy: 100.0%\n",
      "Optimization Iteration: 212001, Training Accuracy: 100.0%\n",
      "Optimization Iteration: 212001, Training Accuracy:  97.7%\n",
      "Optimization Iteration: 212001, Training Accuracy: 100.0%\n",
      "Optimization Iteration: 212001, Training Accuracy: 100.0%\n",
      "Optimization Iteration: 212001, Training Accuracy: 100.0%\n",
      "Optimization Iteration: 212001, Training Accuracy: 100.0%\n",
      "Optimization Iteration: 212001, Training Accuracy:  97.7%\n",
      "Optimization Iteration: 212001, Training Accuracy: 100.0%\n",
      "Optimization Iteration: 212001, Training Accuracy: 100.0%\n",
      "Optimization Iteration: 212001, Training Accuracy: 100.0%\n",
      "Optimization Iteration: 212001, Training Accuracy: 100.0%\n",
      "Optimization Iteration: 212001, Training Accuracy:  97.7%\n",
      "Optimization Iteration: 212001, Training Accuracy: 100.0%\n",
      "Optimization Iteration: 212001, Training Accuracy: 100.0%\n",
      "Optimization Iteration: 212001, Training Accuracy:  97.7%\n",
      "Optimization Iteration: 212001, Training Accuracy:  97.7%\n",
      "Optimization Iteration: 212001, Training Accuracy:  97.7%\n",
      "Optimization Iteration: 212001, Training Accuracy: 100.0%\n",
      "Optimization Iteration: 212001, Training Accuracy:  97.7%\n",
      "Optimization Iteration: 212001, Training Accuracy:  97.7%\n",
      "Optimization Iteration: 212001, Training Accuracy: 100.0%\n",
      "Optimization Iteration: 212001, Training Accuracy: 100.0%\n",
      "Optimization Iteration: 212001, Training Accuracy: 100.0%\n",
      "Optimization Iteration: 212001, Training Accuracy: 100.0%\n",
      "Optimization Iteration: 212001, Training Accuracy:  97.7%\n",
      "Optimization Iteration: 212001, Training Accuracy: 100.0%\n",
      "Optimization Iteration: 212001, Training Accuracy: 100.0%\n",
      "Optimization Iteration: 212001, Training Accuracy: 100.0%\n",
      "Time usage: 0:07:20\n"
     ]
    }
   ],
   "source": [
    "optimize(num_iterations=2000)"
   ]
  },
  {
   "cell_type": "code",
   "execution_count": 300,
   "metadata": {
    "collapsed": false,
    "deletable": true,
    "editable": true
   },
   "outputs": [
    {
     "name": "stdout",
     "output_type": "stream",
     "text": [
      "Accuracy on Test-Set: 74.2% (395 / 532)\n",
      "Example errors:\n",
      "Confusion Matrix:\n",
      "[[74  0  1  0  0  0  0]\n",
      " [12 62  1  0  3  0  0]\n",
      " [10  2 56  0 10  0  0]\n",
      " [23  0  0 46  4  0  0]\n",
      " [ 0  0  0  0 75  0  0]\n",
      " [ 0  0  0  0 22 51  0]\n",
      " [27  0  9  1 11  1 31]]\n"
     ]
    },
    {
     "data": {
      "image/png": "[encoded data removed]",
      "text/plain": [
       "<matplotlib.figure.Figure at 0x115202ed0>"
      ]
     },
     "metadata": {},
     "output_type": "display_data"
    }
   ],
   "source": [
    " print_test_accuracy(show_example_errors=True,show_confusion_matrix=True)"
   ]
  },
  {
   "cell_type": "code",
   "execution_count": 301,
   "metadata": {
    "collapsed": false,
    "deletable": true,
    "editable": true
   },
   "outputs": [
    {
     "name": "stdout",
     "output_type": "stream",
     "text": [
      "Optimization Iteration: 214001, Training Accuracy: 100.0%\n",
      "Optimization Iteration: 214001, Training Accuracy:  97.7%\n",
      "Optimization Iteration: 214001, Training Accuracy:  97.7%\n",
      "Optimization Iteration: 214001, Training Accuracy: 100.0%\n",
      "Optimization Iteration: 214001, Training Accuracy:  97.7%\n",
      "Optimization Iteration: 214001, Training Accuracy: 100.0%\n",
      "Optimization Iteration: 214001, Training Accuracy: 100.0%\n",
      "Optimization Iteration: 214001, Training Accuracy: 100.0%\n",
      "Optimization Iteration: 214001, Training Accuracy: 100.0%\n",
      "Optimization Iteration: 214001, Training Accuracy: 100.0%\n",
      "Optimization Iteration: 214001, Training Accuracy: 100.0%\n",
      "Optimization Iteration: 214001, Training Accuracy:  97.7%\n",
      "Optimization Iteration: 214001, Training Accuracy: 100.0%\n",
      "Optimization Iteration: 214001, Training Accuracy:  97.7%\n",
      "Optimization Iteration: 214001, Training Accuracy: 100.0%\n",
      "Optimization Iteration: 214001, Training Accuracy: 100.0%\n",
      "Optimization Iteration: 214001, Training Accuracy: 100.0%\n",
      "Optimization Iteration: 214001, Training Accuracy: 100.0%\n",
      "Optimization Iteration: 214001, Training Accuracy: 100.0%\n",
      "Optimization Iteration: 214001, Training Accuracy: 100.0%\n",
      "Optimization Iteration: 214001, Training Accuracy: 100.0%\n",
      "Optimization Iteration: 214001, Training Accuracy:  97.7%\n",
      "Optimization Iteration: 214001, Training Accuracy: 100.0%\n",
      "Optimization Iteration: 214001, Training Accuracy: 100.0%\n",
      "Optimization Iteration: 214001, Training Accuracy: 100.0%\n",
      "Optimization Iteration: 214001, Training Accuracy:  97.7%\n",
      "Optimization Iteration: 214001, Training Accuracy:  95.3%\n",
      "Optimization Iteration: 214001, Training Accuracy:  97.7%\n",
      "Optimization Iteration: 214001, Training Accuracy:  97.7%\n",
      "Optimization Iteration: 214001, Training Accuracy:  97.7%\n",
      "Optimization Iteration: 214001, Training Accuracy: 100.0%\n",
      "Optimization Iteration: 214001, Training Accuracy: 100.0%\n",
      "Optimization Iteration: 214001, Training Accuracy: 100.0%\n",
      "Optimization Iteration: 214001, Training Accuracy: 100.0%\n",
      "Optimization Iteration: 214001, Training Accuracy:  97.7%\n",
      "Optimization Iteration: 214001, Training Accuracy: 100.0%\n",
      "Optimization Iteration: 214001, Training Accuracy: 100.0%\n",
      "Optimization Iteration: 214001, Training Accuracy: 100.0%\n",
      "Time usage: 0:08:47\n"
     ]
    }
   ],
   "source": [
    "optimize(num_iterations=10000) # We performed 1000 iterations above.\n"
   ]
  },
  {
   "cell_type": "code",
   "execution_count": 302,
   "metadata": {
    "collapsed": false,
    "deletable": true,
    "editable": true
   },
   "outputs": [
    {
     "name": "stdout",
     "output_type": "stream",
     "text": [
      "Accuracy on Test-Set: 76.9% (409 / 532)\n",
      "Example errors:\n",
      "Confusion Matrix:\n",
      "[[74  0  1  0  0  0  0]\n",
      " [10 64  1  0  3  0  0]\n",
      " [10  2 60  0  6  0  0]\n",
      " [20  1  0 48  3  1  0]\n",
      " [ 0  0  0  0 75  0  0]\n",
      " [ 0  0  0  0 17 56  0]\n",
      " [27  0  9  2 10  0 32]]\n"
     ]
    },
    {
     "data": {
      "image/png": "[encoded data removed]",
      "text/plain": [
       "<matplotlib.figure.Figure at 0x115f61190>"
      ]
     },
     "metadata": {},
     "output_type": "display_data"
    }
   ],
   "source": [
    " print_test_accuracy(show_example_errors=True,show_confusion_matrix=True)"
   ]
  },
  {
   "cell_type": "code",
   "execution_count": 303,
   "metadata": {
    "collapsed": false,
    "deletable": true,
    "editable": true
   },
   "outputs": [
    {
     "name": "stdout",
     "output_type": "stream",
     "text": [
      "Optimization Iteration: 224001, Training Accuracy: 100.0%\n",
      "Optimization Iteration: 224001, Training Accuracy:  97.7%\n",
      "Optimization Iteration: 224001, Training Accuracy:  97.7%\n",
      "Optimization Iteration: 224001, Training Accuracy:  95.3%\n",
      "Optimization Iteration: 224001, Training Accuracy:  97.7%\n",
      "Optimization Iteration: 224001, Training Accuracy: 100.0%\n",
      "Optimization Iteration: 224001, Training Accuracy: 100.0%\n",
      "Optimization Iteration: 224001, Training Accuracy: 100.0%\n",
      "Optimization Iteration: 224001, Training Accuracy: 100.0%\n",
      "Optimization Iteration: 224001, Training Accuracy: 100.0%\n",
      "Optimization Iteration: 224001, Training Accuracy: 100.0%\n",
      "Optimization Iteration: 224001, Training Accuracy:  97.7%\n",
      "Optimization Iteration: 224001, Training Accuracy: 100.0%\n",
      "Optimization Iteration: 224001, Training Accuracy: 100.0%\n",
      "Optimization Iteration: 224001, Training Accuracy: 100.0%\n",
      "Optimization Iteration: 224001, Training Accuracy: 100.0%\n",
      "Optimization Iteration: 224001, Training Accuracy: 100.0%\n",
      "Optimization Iteration: 224001, Training Accuracy: 100.0%\n",
      "Optimization Iteration: 224001, Training Accuracy:  97.7%\n",
      "Optimization Iteration: 224001, Training Accuracy: 100.0%\n",
      "Optimization Iteration: 224001, Training Accuracy: 100.0%\n",
      "Optimization Iteration: 224001, Training Accuracy:  97.7%\n",
      "Optimization Iteration: 224001, Training Accuracy: 100.0%\n",
      "Optimization Iteration: 224001, Training Accuracy: 100.0%\n",
      "Optimization Iteration: 224001, Training Accuracy: 100.0%\n",
      "Optimization Iteration: 224001, Training Accuracy:  97.7%\n",
      "Optimization Iteration: 224001, Training Accuracy:  97.7%\n",
      "Optimization Iteration: 224001, Training Accuracy: 100.0%\n",
      "Optimization Iteration: 224001, Training Accuracy:  97.7%\n",
      "Optimization Iteration: 224001, Training Accuracy:  97.7%\n",
      "Optimization Iteration: 224001, Training Accuracy: 100.0%\n",
      "Optimization Iteration: 224001, Training Accuracy: 100.0%\n",
      "Optimization Iteration: 224001, Training Accuracy: 100.0%\n",
      "Optimization Iteration: 224001, Training Accuracy: 100.0%\n",
      "Optimization Iteration: 224001, Training Accuracy: 100.0%\n",
      "Optimization Iteration: 224001, Training Accuracy: 100.0%\n",
      "Optimization Iteration: 224001, Training Accuracy: 100.0%\n",
      "Optimization Iteration: 224001, Training Accuracy: 100.0%\n",
      "Time usage: 0:07:52\n"
     ]
    }
   ],
   "source": [
    "optimize(num_iterations=10000) # We performed 1000 iterations above.\n"
   ]
  },
  {
   "cell_type": "code",
   "execution_count": 304,
   "metadata": {
    "collapsed": false,
    "deletable": true,
    "editable": true
   },
   "outputs": [
    {
     "name": "stdout",
     "output_type": "stream",
     "text": [
      "Accuracy on Test-Set: 82.1% (437 / 532)\n",
      "Example errors:\n",
      "Confusion Matrix:\n",
      "[[75  0  0  0  0  0  0]\n",
      " [ 8 69  1  0  0  0  0]\n",
      " [12  2 61  0  3  0  0]\n",
      " [14  1  0 56  1  1  0]\n",
      " [ 2  0  0  0 73  0  0]\n",
      " [ 2  0  0  0  8 63  0]\n",
      " [33  0  4  2  1  0 40]]\n"
     ]
    },
    {
     "data": {
      "image/png": "[encoded data removed]",
      "text/plain": [
       "<matplotlib.figure.Figure at 0x116797450>"
      ]
     },
     "metadata": {},
     "output_type": "display_data"
    }
   ],
   "source": [
    " print_test_accuracy(show_example_errors=True,show_confusion_matrix=True)"
   ]
  },
  {
   "cell_type": "code",
   "execution_count": 305,
   "metadata": {
    "collapsed": false,
    "deletable": true,
    "editable": true
   },
   "outputs": [
    {
     "name": "stdout",
     "output_type": "stream",
     "text": [
      "Optimization Iteration: 234001, Training Accuracy: 100.0%\n",
      "Optimization Iteration: 234001, Training Accuracy: 100.0%\n",
      "Optimization Iteration: 234001, Training Accuracy:  97.7%\n",
      "Optimization Iteration: 234001, Training Accuracy:  95.3%\n",
      "Optimization Iteration: 234001, Training Accuracy: 100.0%\n",
      "Optimization Iteration: 234001, Training Accuracy: 100.0%\n",
      "Optimization Iteration: 234001, Training Accuracy: 100.0%\n",
      "Optimization Iteration: 234001, Training Accuracy: 100.0%\n",
      "Optimization Iteration: 234001, Training Accuracy: 100.0%\n",
      "Optimization Iteration: 234001, Training Accuracy: 100.0%\n",
      "Optimization Iteration: 234001, Training Accuracy: 100.0%\n",
      "Optimization Iteration: 234001, Training Accuracy:  97.7%\n",
      "Optimization Iteration: 234001, Training Accuracy: 100.0%\n",
      "Optimization Iteration: 234001, Training Accuracy: 100.0%\n",
      "Optimization Iteration: 234001, Training Accuracy: 100.0%\n",
      "Optimization Iteration: 234001, Training Accuracy: 100.0%\n",
      "Optimization Iteration: 234001, Training Accuracy: 100.0%\n",
      "Optimization Iteration: 234001, Training Accuracy: 100.0%\n",
      "Optimization Iteration: 234001, Training Accuracy: 100.0%\n",
      "Optimization Iteration: 234001, Training Accuracy: 100.0%\n",
      "Optimization Iteration: 234001, Training Accuracy: 100.0%\n",
      "Optimization Iteration: 234001, Training Accuracy:  97.7%\n",
      "Optimization Iteration: 234001, Training Accuracy: 100.0%\n",
      "Optimization Iteration: 234001, Training Accuracy: 100.0%\n",
      "Optimization Iteration: 234001, Training Accuracy: 100.0%\n",
      "Optimization Iteration: 234001, Training Accuracy:  97.7%\n",
      "Optimization Iteration: 234001, Training Accuracy:  97.7%\n",
      "Optimization Iteration: 234001, Training Accuracy: 100.0%\n",
      "Optimization Iteration: 234001, Training Accuracy:  97.7%\n",
      "Optimization Iteration: 234001, Training Accuracy:  97.7%\n",
      "Optimization Iteration: 234001, Training Accuracy: 100.0%\n",
      "Optimization Iteration: 234001, Training Accuracy: 100.0%\n",
      "Optimization Iteration: 234001, Training Accuracy: 100.0%\n",
      "Optimization Iteration: 234001, Training Accuracy: 100.0%\n",
      "Optimization Iteration: 234001, Training Accuracy: 100.0%\n",
      "Optimization Iteration: 234001, Training Accuracy: 100.0%\n",
      "Optimization Iteration: 234001, Training Accuracy: 100.0%\n",
      "Optimization Iteration: 234001, Training Accuracy: 100.0%\n",
      "Time usage: 0:08:09\n"
     ]
    }
   ],
   "source": [
    "optimize(num_iterations=10000) # We performed 1000 iterations above.\n"
   ]
  },
  {
   "cell_type": "code",
   "execution_count": 306,
   "metadata": {
    "collapsed": false,
    "deletable": true,
    "editable": true
   },
   "outputs": [
    {
     "name": "stdout",
     "output_type": "stream",
     "text": [
      "Accuracy on Test-Set: 85.9% (457 / 532)\n",
      "Example errors:\n",
      "Confusion Matrix:\n",
      "[[75  0  0  0  0  0  0]\n",
      " [ 2 76  0  0  0  0  0]\n",
      " [12  2 64  0  0  0  0]\n",
      " [ 7  1  0 64  0  1  0]\n",
      " [ 6  0  0  0 69  0  0]\n",
      " [ 3  0  0  0  5 65  0]\n",
      " [26  3  5  2  0  0 44]]\n"
     ]
    },
    {
     "data": {
      "image/png": "[encoded data removed]",
      "text/plain": [
       "<matplotlib.figure.Figure at 0x116187750>"
      ]
     },
     "metadata": {},
     "output_type": "display_data"
    }
   ],
   "source": [
    " print_test_accuracy(show_example_errors=True,show_confusion_matrix=True)"
   ]
  },
  {
   "cell_type": "code",
   "execution_count": 307,
   "metadata": {
    "collapsed": false,
    "deletable": true,
    "editable": true
   },
   "outputs": [
    {
     "name": "stdout",
     "output_type": "stream",
     "text": [
      "Optimization Iteration: 244001, Training Accuracy: 100.0%\n",
      "Optimization Iteration: 244001, Training Accuracy:  97.7%\n",
      "Optimization Iteration: 244001, Training Accuracy: 100.0%\n",
      "Optimization Iteration: 244001, Training Accuracy:  93.0%\n",
      "Optimization Iteration: 244001, Training Accuracy: 100.0%\n",
      "Optimization Iteration: 244001, Training Accuracy: 100.0%\n",
      "Optimization Iteration: 244001, Training Accuracy:  97.7%\n",
      "Optimization Iteration: 244001, Training Accuracy:  97.7%\n",
      "Optimization Iteration: 244001, Training Accuracy: 100.0%\n",
      "Optimization Iteration: 244001, Training Accuracy:  97.7%\n",
      "Optimization Iteration: 244001, Training Accuracy: 100.0%\n",
      "Optimization Iteration: 244001, Training Accuracy:  97.7%\n",
      "Optimization Iteration: 244001, Training Accuracy: 100.0%\n",
      "Optimization Iteration: 244001, Training Accuracy: 100.0%\n",
      "Optimization Iteration: 244001, Training Accuracy: 100.0%\n",
      "Optimization Iteration: 244001, Training Accuracy: 100.0%\n",
      "Optimization Iteration: 244001, Training Accuracy: 100.0%\n",
      "Optimization Iteration: 244001, Training Accuracy: 100.0%\n",
      "Optimization Iteration: 244001, Training Accuracy: 100.0%\n",
      "Optimization Iteration: 244001, Training Accuracy: 100.0%\n",
      "Optimization Iteration: 244001, Training Accuracy: 100.0%\n",
      "Optimization Iteration: 244001, Training Accuracy:  97.7%\n",
      "Optimization Iteration: 244001, Training Accuracy: 100.0%\n",
      "Optimization Iteration: 244001, Training Accuracy: 100.0%\n",
      "Optimization Iteration: 244001, Training Accuracy: 100.0%\n",
      "Optimization Iteration: 244001, Training Accuracy:  95.3%\n",
      "Optimization Iteration: 244001, Training Accuracy: 100.0%\n",
      "Optimization Iteration: 244001, Training Accuracy: 100.0%\n",
      "Optimization Iteration: 244001, Training Accuracy: 100.0%\n",
      "Optimization Iteration: 244001, Training Accuracy: 100.0%\n",
      "Optimization Iteration: 244001, Training Accuracy: 100.0%\n",
      "Optimization Iteration: 244001, Training Accuracy: 100.0%\n",
      "Optimization Iteration: 244001, Training Accuracy: 100.0%\n",
      "Optimization Iteration: 244001, Training Accuracy: 100.0%\n",
      "Optimization Iteration: 244001, Training Accuracy:  97.7%\n",
      "Optimization Iteration: 244001, Training Accuracy: 100.0%\n",
      "Optimization Iteration: 244001, Training Accuracy: 100.0%\n",
      "Optimization Iteration: 244001, Training Accuracy: 100.0%\n",
      "Time usage: 0:07:19\n"
     ]
    }
   ],
   "source": [
    "optimize(num_iterations=10000) # We performed 1000 iterations above.\n"
   ]
  },
  {
   "cell_type": "code",
   "execution_count": 308,
   "metadata": {
    "collapsed": false,
    "deletable": true,
    "editable": true
   },
   "outputs": [
    {
     "name": "stdout",
     "output_type": "stream",
     "text": [
      "Accuracy on Test-Set: 86.3% (459 / 532)\n",
      "Example errors:\n",
      "Confusion Matrix:\n",
      "[[73  2  0  0  0  0  0]\n",
      " [ 0 78  0  0  0  0  0]\n",
      " [ 9  7 62  0  0  0  0]\n",
      " [ 5  1  0 67  0  0  0]\n",
      " [ 5  2  0  0 68  0  0]\n",
      " [ 3  0  0  1  6 63  0]\n",
      " [17  9  1  5  0  0 48]]\n"
     ]
    },
    {
     "data": {
      "image/png": "[encoded data removed]",
      "text/plain": [
       "<matplotlib.figure.Figure at 0x11682f0d0>"
      ]
     },
     "metadata": {},
     "output_type": "display_data"
    }
   ],
   "source": [
    " print_test_accuracy(show_example_errors=True,show_confusion_matrix=True)"
   ]
  },
  {
   "cell_type": "code",
   "execution_count": 309,
   "metadata": {
    "collapsed": false,
    "deletable": true,
    "editable": true
   },
   "outputs": [
    {
     "name": "stdout",
     "output_type": "stream",
     "text": [
      "Optimization Iteration: 254001, Training Accuracy: 100.0%\n",
      "Optimization Iteration: 254001, Training Accuracy:  97.7%\n",
      "Optimization Iteration: 254001, Training Accuracy: 100.0%\n",
      "Optimization Iteration: 254001, Training Accuracy: 100.0%\n",
      "Optimization Iteration: 254001, Training Accuracy: 100.0%\n",
      "Optimization Iteration: 254001, Training Accuracy: 100.0%\n",
      "Optimization Iteration: 254001, Training Accuracy:  97.7%\n",
      "Optimization Iteration: 254001, Training Accuracy: 100.0%\n",
      "Optimization Iteration: 254001, Training Accuracy: 100.0%\n",
      "Optimization Iteration: 254001, Training Accuracy: 100.0%\n",
      "Optimization Iteration: 254001, Training Accuracy: 100.0%\n",
      "Optimization Iteration: 254001, Training Accuracy:  97.7%\n",
      "Optimization Iteration: 254001, Training Accuracy: 100.0%\n",
      "Optimization Iteration: 254001, Training Accuracy: 100.0%\n",
      "Optimization Iteration: 254001, Training Accuracy: 100.0%\n",
      "Optimization Iteration: 254001, Training Accuracy: 100.0%\n",
      "Optimization Iteration: 254001, Training Accuracy: 100.0%\n",
      "Optimization Iteration: 254001, Training Accuracy: 100.0%\n",
      "Optimization Iteration: 254001, Training Accuracy: 100.0%\n",
      "Optimization Iteration: 254001, Training Accuracy: 100.0%\n",
      "Optimization Iteration: 254001, Training Accuracy: 100.0%\n",
      "Optimization Iteration: 254001, Training Accuracy: 100.0%\n",
      "Optimization Iteration: 254001, Training Accuracy: 100.0%\n",
      "Optimization Iteration: 254001, Training Accuracy: 100.0%\n",
      "Optimization Iteration: 254001, Training Accuracy: 100.0%\n",
      "Optimization Iteration: 254001, Training Accuracy: 100.0%\n",
      "Optimization Iteration: 254001, Training Accuracy: 100.0%\n",
      "Optimization Iteration: 254001, Training Accuracy: 100.0%\n",
      "Optimization Iteration: 254001, Training Accuracy: 100.0%\n",
      "Optimization Iteration: 254001, Training Accuracy:  97.7%\n",
      "Optimization Iteration: 254001, Training Accuracy: 100.0%\n",
      "Optimization Iteration: 254001, Training Accuracy: 100.0%\n",
      "Optimization Iteration: 254001, Training Accuracy: 100.0%\n",
      "Optimization Iteration: 254001, Training Accuracy: 100.0%\n",
      "Optimization Iteration: 254001, Training Accuracy:  97.7%\n",
      "Optimization Iteration: 254001, Training Accuracy: 100.0%\n",
      "Optimization Iteration: 254001, Training Accuracy: 100.0%\n",
      "Optimization Iteration: 254001, Training Accuracy: 100.0%\n",
      "Time usage: 0:06:27\n"
     ]
    }
   ],
   "source": [
    "optimize(num_iterations=10000) # We performed 1000 iterations above.\n"
   ]
  },
  {
   "cell_type": "code",
   "execution_count": 310,
   "metadata": {
    "collapsed": false,
    "deletable": true,
    "editable": true
   },
   "outputs": [
    {
     "name": "stdout",
     "output_type": "stream",
     "text": [
      "Accuracy on Test-Set: 86.5% (460 / 532)\n",
      "Example errors:\n",
      "Confusion Matrix:\n",
      "[[64 11  0  0  0  0  0]\n",
      " [ 0 78  0  0  0  0  0]\n",
      " [ 4 15 59  0  0  0  0]\n",
      " [ 2  1  0 70  0  0  0]\n",
      " [ 1  3  0  0 71  0  0]\n",
      " [ 2  0  0  1  6 64  0]\n",
      " [ 6 13  0  7  0  0 54]]\n"
     ]
    },
    {
     "data": {
      "image/png": "[encoded data removed]",
      "text/plain": [
       "<matplotlib.figure.Figure at 0x116f71890>"
      ]
     },
     "metadata": {},
     "output_type": "display_data"
    }
   ],
   "source": [
    " print_test_accuracy(show_example_errors=True,show_confusion_matrix=True)"
   ]
  },
  {
   "cell_type": "code",
   "execution_count": 311,
   "metadata": {
    "collapsed": false,
    "deletable": true,
    "editable": true
   },
   "outputs": [
    {
     "name": "stdout",
     "output_type": "stream",
     "text": [
      "Optimization Iteration: 264001, Training Accuracy: 100.0%\n",
      "Optimization Iteration: 264001, Training Accuracy:  97.7%\n",
      "Optimization Iteration: 264001, Training Accuracy: 100.0%\n",
      "Optimization Iteration: 264001, Training Accuracy: 100.0%\n",
      "Optimization Iteration: 264001, Training Accuracy: 100.0%\n",
      "Optimization Iteration: 264001, Training Accuracy: 100.0%\n",
      "Optimization Iteration: 264001, Training Accuracy:  97.7%\n",
      "Optimization Iteration: 264001, Training Accuracy: 100.0%\n",
      "Optimization Iteration: 264001, Training Accuracy: 100.0%\n",
      "Optimization Iteration: 264001, Training Accuracy: 100.0%\n",
      "Optimization Iteration: 264001, Training Accuracy: 100.0%\n",
      "Optimization Iteration: 264001, Training Accuracy:  97.7%\n",
      "Optimization Iteration: 264001, Training Accuracy: 100.0%\n",
      "Optimization Iteration: 264001, Training Accuracy: 100.0%\n",
      "Optimization Iteration: 264001, Training Accuracy: 100.0%\n",
      "Optimization Iteration: 264001, Training Accuracy: 100.0%\n",
      "Optimization Iteration: 264001, Training Accuracy:  97.7%\n",
      "Optimization Iteration: 264001, Training Accuracy: 100.0%\n",
      "Optimization Iteration: 264001, Training Accuracy: 100.0%\n",
      "Optimization Iteration: 264001, Training Accuracy: 100.0%\n",
      "Optimization Iteration: 264001, Training Accuracy: 100.0%\n",
      "Optimization Iteration: 264001, Training Accuracy: 100.0%\n",
      "Optimization Iteration: 264001, Training Accuracy: 100.0%\n",
      "Optimization Iteration: 264001, Training Accuracy: 100.0%\n",
      "Optimization Iteration: 264001, Training Accuracy: 100.0%\n",
      "Optimization Iteration: 264001, Training Accuracy: 100.0%\n",
      "Optimization Iteration: 264001, Training Accuracy: 100.0%\n",
      "Optimization Iteration: 264001, Training Accuracy: 100.0%\n",
      "Optimization Iteration: 264001, Training Accuracy: 100.0%\n",
      "Optimization Iteration: 264001, Training Accuracy:  97.7%\n",
      "Optimization Iteration: 264001, Training Accuracy: 100.0%\n",
      "Optimization Iteration: 264001, Training Accuracy: 100.0%\n",
      "Optimization Iteration: 264001, Training Accuracy: 100.0%\n",
      "Optimization Iteration: 264001, Training Accuracy: 100.0%\n",
      "Optimization Iteration: 264001, Training Accuracy: 100.0%\n",
      "Optimization Iteration: 264001, Training Accuracy: 100.0%\n",
      "Optimization Iteration: 264001, Training Accuracy: 100.0%\n",
      "Optimization Iteration: 264001, Training Accuracy: 100.0%\n",
      "Time usage: 0:07:25\n"
     ]
    }
   ],
   "source": [
    "optimize(num_iterations=10000) # We performed 1000 iterations above.\n"
   ]
  },
  {
   "cell_type": "code",
   "execution_count": 312,
   "metadata": {
    "collapsed": false,
    "deletable": true,
    "editable": true
   },
   "outputs": [
    {
     "name": "stdout",
     "output_type": "stream",
     "text": [
      "Accuracy on Test-Set: 88.9% (473 / 532)\n",
      "Example errors:\n",
      "Confusion Matrix:\n",
      "[[55 20  0  0  0  0  0]\n",
      " [ 0 78  0  0  0  0  0]\n",
      " [ 0 14 62  0  1  0  1]\n",
      " [ 1  1  0 70  0  1  0]\n",
      " [ 0  3  0  0 72  0  0]\n",
      " [ 0  0  0  0  3 69  1]\n",
      " [ 1  9  0  3  0  0 67]]\n"
     ]
    },
    {
     "data": {
      "image/png": "[encoded data removed]",
      "text/plain": [
       "<matplotlib.figure.Figure at 0x114a61e50>"
      ]
     },
     "metadata": {},
     "output_type": "display_data"
    }
   ],
   "source": [
    " print_test_accuracy(show_example_errors=True,show_confusion_matrix=True)"
   ]
  },
  {
   "cell_type": "code",
   "execution_count": 313,
   "metadata": {
    "collapsed": false,
    "deletable": true,
    "editable": true
   },
   "outputs": [
    {
     "name": "stdout",
     "output_type": "stream",
     "text": [
      "Optimization Iteration: 274001, Training Accuracy: 100.0%\n",
      "Optimization Iteration: 274001, Training Accuracy:  97.7%\n",
      "Optimization Iteration: 274001, Training Accuracy: 100.0%\n",
      "Optimization Iteration: 274001, Training Accuracy: 100.0%\n",
      "Optimization Iteration: 274001, Training Accuracy: 100.0%\n",
      "Optimization Iteration: 274001, Training Accuracy: 100.0%\n",
      "Optimization Iteration: 274001, Training Accuracy:  97.7%\n",
      "Optimization Iteration: 274001, Training Accuracy: 100.0%\n",
      "Optimization Iteration: 274001, Training Accuracy: 100.0%\n",
      "Optimization Iteration: 274001, Training Accuracy: 100.0%\n",
      "Optimization Iteration: 274001, Training Accuracy: 100.0%\n",
      "Optimization Iteration: 274001, Training Accuracy:  97.7%\n",
      "Optimization Iteration: 274001, Training Accuracy: 100.0%\n",
      "Optimization Iteration: 274001, Training Accuracy: 100.0%\n",
      "Optimization Iteration: 274001, Training Accuracy:  95.3%\n",
      "Optimization Iteration: 274001, Training Accuracy: 100.0%\n",
      "Optimization Iteration: 274001, Training Accuracy: 100.0%\n",
      "Optimization Iteration: 274001, Training Accuracy: 100.0%\n",
      "Optimization Iteration: 274001, Training Accuracy: 100.0%\n",
      "Optimization Iteration: 274001, Training Accuracy: 100.0%\n",
      "Optimization Iteration: 274001, Training Accuracy: 100.0%\n",
      "Optimization Iteration: 274001, Training Accuracy: 100.0%\n",
      "Optimization Iteration: 274001, Training Accuracy: 100.0%\n",
      "Optimization Iteration: 274001, Training Accuracy: 100.0%\n",
      "Optimization Iteration: 274001, Training Accuracy: 100.0%\n",
      "Optimization Iteration: 274001, Training Accuracy: 100.0%\n",
      "Optimization Iteration: 274001, Training Accuracy: 100.0%\n",
      "Optimization Iteration: 274001, Training Accuracy: 100.0%\n",
      "Optimization Iteration: 274001, Training Accuracy: 100.0%\n",
      "Optimization Iteration: 274001, Training Accuracy: 100.0%\n",
      "Optimization Iteration: 274001, Training Accuracy:  95.3%\n",
      "Optimization Iteration: 274001, Training Accuracy: 100.0%\n",
      "Optimization Iteration: 274001, Training Accuracy: 100.0%\n",
      "Optimization Iteration: 274001, Training Accuracy: 100.0%\n",
      "Optimization Iteration: 274001, Training Accuracy:  97.7%\n",
      "Optimization Iteration: 274001, Training Accuracy: 100.0%\n",
      "Optimization Iteration: 274001, Training Accuracy: 100.0%\n",
      "Optimization Iteration: 274001, Training Accuracy: 100.0%\n",
      "Time usage: 0:06:42\n"
     ]
    }
   ],
   "source": [
    "optimize(num_iterations=10000) # We performed 1000 iterations above.\n"
   ]
  },
  {
   "cell_type": "code",
   "execution_count": 314,
   "metadata": {
    "collapsed": false,
    "deletable": true,
    "editable": true
   },
   "outputs": [
    {
     "name": "stdout",
     "output_type": "stream",
     "text": [
      "Accuracy on Test-Set: 90.6% (482 / 532)\n",
      "Example errors:\n",
      "Confusion Matrix:\n",
      "[[56 17  0  1  0  0  1]\n",
      " [ 0 78  0  0  0  0  0]\n",
      " [ 0 12 62  0  1  0  3]\n",
      " [ 1  1  0 70  0  1  0]\n",
      " [ 0  2  0  0 73  0  0]\n",
      " [ 0  0  0  0  1 70  2]\n",
      " [ 0  6  0  1  0  0 73]]\n"
     ]
    },
    {
     "data": {
      "image/png": "[encoded data removed]",
      "text/plain": [
       "<matplotlib.figure.Figure at 0x116f71890>"
      ]
     },
     "metadata": {},
     "output_type": "display_data"
    }
   ],
   "source": [
    " print_test_accuracy(show_example_errors=True,show_confusion_matrix=True)"
   ]
  },
  {
   "cell_type": "code",
   "execution_count": 315,
   "metadata": {
    "collapsed": false,
    "deletable": true,
    "editable": true
   },
   "outputs": [
    {
     "name": "stdout",
     "output_type": "stream",
     "text": [
      "Optimization Iteration: 284001, Training Accuracy: 100.0%\n",
      "Optimization Iteration: 284001, Training Accuracy: 100.0%\n",
      "Optimization Iteration: 284001, Training Accuracy: 100.0%\n",
      "Optimization Iteration: 284001, Training Accuracy: 100.0%\n",
      "Optimization Iteration: 284001, Training Accuracy: 100.0%\n",
      "Optimization Iteration: 284001, Training Accuracy: 100.0%\n",
      "Optimization Iteration: 284001, Training Accuracy:  97.7%\n",
      "Optimization Iteration: 284001, Training Accuracy: 100.0%\n",
      "Optimization Iteration: 284001, Training Accuracy: 100.0%\n",
      "Optimization Iteration: 284001, Training Accuracy: 100.0%\n",
      "Optimization Iteration: 284001, Training Accuracy: 100.0%\n",
      "Optimization Iteration: 284001, Training Accuracy: 100.0%\n",
      "Optimization Iteration: 284001, Training Accuracy: 100.0%\n",
      "Optimization Iteration: 284001, Training Accuracy: 100.0%\n",
      "Optimization Iteration: 284001, Training Accuracy: 100.0%\n",
      "Optimization Iteration: 284001, Training Accuracy: 100.0%\n",
      "Optimization Iteration: 284001, Training Accuracy:  97.7%\n",
      "Optimization Iteration: 284001, Training Accuracy: 100.0%\n",
      "Optimization Iteration: 284001, Training Accuracy: 100.0%\n",
      "Optimization Iteration: 284001, Training Accuracy: 100.0%\n",
      "Optimization Iteration: 284001, Training Accuracy: 100.0%\n",
      "Optimization Iteration: 284001, Training Accuracy: 100.0%\n",
      "Optimization Iteration: 284001, Training Accuracy: 100.0%\n",
      "Optimization Iteration: 284001, Training Accuracy: 100.0%\n",
      "Optimization Iteration: 284001, Training Accuracy: 100.0%\n",
      "Optimization Iteration: 284001, Training Accuracy:  97.7%\n",
      "Optimization Iteration: 284001, Training Accuracy: 100.0%\n",
      "Optimization Iteration: 284001, Training Accuracy: 100.0%\n",
      "Optimization Iteration: 284001, Training Accuracy: 100.0%\n",
      "Optimization Iteration: 284001, Training Accuracy: 100.0%\n",
      "Optimization Iteration: 284001, Training Accuracy: 100.0%\n",
      "Optimization Iteration: 284001, Training Accuracy: 100.0%\n",
      "Optimization Iteration: 284001, Training Accuracy: 100.0%\n",
      "Optimization Iteration: 284001, Training Accuracy: 100.0%\n",
      "Optimization Iteration: 284001, Training Accuracy:  97.7%\n",
      "Optimization Iteration: 284001, Training Accuracy: 100.0%\n",
      "Optimization Iteration: 284001, Training Accuracy: 100.0%\n",
      "Optimization Iteration: 284001, Training Accuracy: 100.0%\n",
      "Time usage: 0:06:46\n"
     ]
    }
   ],
   "source": [
    "optimize(num_iterations=10000) # We performed 1000 iterations above.\n"
   ]
  },
  {
   "cell_type": "code",
   "execution_count": 316,
   "metadata": {
    "collapsed": false,
    "deletable": true,
    "editable": true
   },
   "outputs": [
    {
     "name": "stdout",
     "output_type": "stream",
     "text": [
      "Accuracy on Test-Set: 90.0% (479 / 532)\n",
      "Example errors:\n",
      "Confusion Matrix:\n",
      "[[56 15  0  1  0  0  3]\n",
      " [ 0 78  0  0  0  0  0]\n",
      " [ 0 12 57  0  1  0  8]\n",
      " [ 1  1  0 70  0  1  0]\n",
      " [ 0  2  0  0 73  0  0]\n",
      " [ 0  0  0  0  1 69  3]\n",
      " [ 0  3  0  1  0  0 76]]\n"
     ]
    },
    {
     "data": {
      "image/png": "[encoded data removed]",
      "text/plain": [
       "<matplotlib.figure.Figure at 0x1152ad8d0>"
      ]
     },
     "metadata": {},
     "output_type": "display_data"
    }
   ],
   "source": [
    " print_test_accuracy(show_example_errors=True,show_confusion_matrix=True)"
   ]
  },
  {
   "cell_type": "code",
   "execution_count": 317,
   "metadata": {
    "collapsed": false,
    "deletable": true,
    "editable": true
   },
   "outputs": [
    {
     "name": "stdout",
     "output_type": "stream",
     "text": [
      "Optimization Iteration: 294001, Training Accuracy:  97.7%\n",
      "Optimization Iteration: 294001, Training Accuracy: 100.0%\n",
      "Optimization Iteration: 294001, Training Accuracy:  97.7%\n",
      "Optimization Iteration: 294001, Training Accuracy: 100.0%\n",
      "Optimization Iteration: 294001, Training Accuracy: 100.0%\n",
      "Optimization Iteration: 294001, Training Accuracy: 100.0%\n",
      "Optimization Iteration: 294001, Training Accuracy:  97.7%\n",
      "Optimization Iteration: 294001, Training Accuracy: 100.0%\n",
      "Optimization Iteration: 294001, Training Accuracy: 100.0%\n",
      "Optimization Iteration: 294001, Training Accuracy: 100.0%\n",
      "Optimization Iteration: 294001, Training Accuracy: 100.0%\n",
      "Optimization Iteration: 294001, Training Accuracy:  97.7%\n",
      "Optimization Iteration: 294001, Training Accuracy: 100.0%\n",
      "Optimization Iteration: 294001, Training Accuracy: 100.0%\n",
      "Optimization Iteration: 294001, Training Accuracy: 100.0%\n",
      "Optimization Iteration: 294001, Training Accuracy: 100.0%\n",
      "Optimization Iteration: 294001, Training Accuracy: 100.0%\n",
      "Optimization Iteration: 294001, Training Accuracy: 100.0%\n",
      "Optimization Iteration: 294001, Training Accuracy: 100.0%\n",
      "Optimization Iteration: 294001, Training Accuracy: 100.0%\n",
      "Optimization Iteration: 294001, Training Accuracy: 100.0%\n",
      "Optimization Iteration: 294001, Training Accuracy: 100.0%\n",
      "Optimization Iteration: 294001, Training Accuracy: 100.0%\n",
      "Optimization Iteration: 294001, Training Accuracy: 100.0%\n",
      "Optimization Iteration: 294001, Training Accuracy: 100.0%\n",
      "Optimization Iteration: 294001, Training Accuracy:  97.7%\n",
      "Optimization Iteration: 294001, Training Accuracy: 100.0%\n",
      "Optimization Iteration: 294001, Training Accuracy: 100.0%\n",
      "Optimization Iteration: 294001, Training Accuracy: 100.0%\n",
      "Optimization Iteration: 294001, Training Accuracy:  97.7%\n",
      "Optimization Iteration: 294001, Training Accuracy: 100.0%\n",
      "Optimization Iteration: 294001, Training Accuracy: 100.0%\n",
      "Optimization Iteration: 294001, Training Accuracy: 100.0%\n",
      "Optimization Iteration: 294001, Training Accuracy: 100.0%\n",
      "Optimization Iteration: 294001, Training Accuracy:  97.7%\n",
      "Optimization Iteration: 294001, Training Accuracy:  95.3%\n",
      "Optimization Iteration: 294001, Training Accuracy: 100.0%\n",
      "Optimization Iteration: 294001, Training Accuracy: 100.0%\n",
      "Time usage: 0:06:28\n"
     ]
    }
   ],
   "source": [
    "optimize(num_iterations=10000) # We performed 1000 iterations above.\n"
   ]
  },
  {
   "cell_type": "code",
   "execution_count": 318,
   "metadata": {
    "collapsed": false,
    "deletable": true,
    "editable": true
   },
   "outputs": [
    {
     "name": "stdout",
     "output_type": "stream",
     "text": [
      "Accuracy on Test-Set: 86.5% (460 / 532)\n",
      "Example errors:\n",
      "Confusion Matrix:\n",
      "[[54 21  0  0  0  0  0]\n",
      " [ 0 78  0  0  0  0  0]\n",
      " [ 1 20 46  1  1  0  9]\n",
      " [ 1  1  0 70  0  1  0]\n",
      " [ 0  4  0  0 71  0  0]\n",
      " [ 0  0  0  0  1 69  3]\n",
      " [ 0  7  0  1  0  0 72]]\n"
     ]
    },
    {
     "data": {
      "image/png": "[encoded data removed]",
      "text/plain": [
       "<matplotlib.figure.Figure at 0x116187750>"
      ]
     },
     "metadata": {},
     "output_type": "display_data"
    }
   ],
   "source": [
    " print_test_accuracy(show_example_errors=True,show_confusion_matrix=True)"
   ]
  },
  {
   "cell_type": "code",
   "execution_count": 319,
   "metadata": {
    "collapsed": false,
    "deletable": true,
    "editable": true
   },
   "outputs": [
    {
     "name": "stdout",
     "output_type": "stream",
     "text": [
      "Optimization Iteration: 304001, Training Accuracy: 100.0%\n",
      "Optimization Iteration: 304001, Training Accuracy: 100.0%\n",
      "Optimization Iteration: 304001, Training Accuracy:  97.7%\n",
      "Optimization Iteration: 304001, Training Accuracy: 100.0%\n"
     ]
    },
    {
     "ename": "KeyboardInterrupt",
     "evalue": "",
     "output_type": "error",
     "traceback": [
      "\u001b[0;31m---------------------------------------------------------------------------\u001b[0m",
      "\u001b[0;31mKeyboardInterrupt\u001b[0m                         Traceback (most recent call last)",
      "\u001b[0;32m<ipython-input-319-7b57c0b4fd5a>\u001b[0m in \u001b[0;36m<module>\u001b[0;34m()\u001b[0m\n\u001b[0;32m----> 1\u001b[0;31m \u001b[0moptimize\u001b[0m\u001b[0;34m(\u001b[0m\u001b[0mnum_iterations\u001b[0m\u001b[0;34m=\u001b[0m\u001b[0;36m10000\u001b[0m\u001b[0;34m)\u001b[0m \u001b[0;31m# We performed 1000 iterations above.\u001b[0m\u001b[0;34m\u001b[0m\u001b[0m\n\u001b[0m",
      "\u001b[0;32m<ipython-input-230-e7d2d8018ce1>\u001b[0m in \u001b[0;36moptimize\u001b[0;34m(num_iterations)\u001b[0m\n\u001b[1;32m     45\u001b[0m             \u001b[0;32mif\u001b[0m \u001b[0mk\u001b[0m \u001b[0;34m%\u001b[0m \u001b[0;36m100\u001b[0m \u001b[0;34m==\u001b[0m \u001b[0;36m0\u001b[0m\u001b[0;34m:\u001b[0m\u001b[0;34m\u001b[0m\u001b[0m\n\u001b[1;32m     46\u001b[0m                 \u001b[0;31m# Calculate the accuracy on the training-set.\u001b[0m\u001b[0;34m\u001b[0m\u001b[0;34m\u001b[0m\u001b[0m\n\u001b[0;32m---> 47\u001b[0;31m                 \u001b[0macc\u001b[0m \u001b[0;34m=\u001b[0m \u001b[0msession\u001b[0m\u001b[0;34m.\u001b[0m\u001b[0mrun\u001b[0m\u001b[0;34m(\u001b[0m\u001b[0maccuracy\u001b[0m\u001b[0;34m,\u001b[0m \u001b[0mfeed_dict\u001b[0m\u001b[0;34m=\u001b[0m\u001b[0mfeed_dict_train\u001b[0m\u001b[0;34m)\u001b[0m\u001b[0;34m\u001b[0m\u001b[0m\n\u001b[0m\u001b[1;32m     48\u001b[0m \u001b[0;34m\u001b[0m\u001b[0m\n\u001b[1;32m     49\u001b[0m                 \u001b[0;31m# Message for printing.\u001b[0m\u001b[0;34m\u001b[0m\u001b[0;34m\u001b[0m\u001b[0m\n",
      "\u001b[0;32m/Users/roshni/tensorflow/lib/python2.7/site-packages/tensorflow/python/client/session.pyc\u001b[0m in \u001b[0;36mrun\u001b[0;34m(self, fetches, feed_dict, options, run_metadata)\u001b[0m\n\u001b[1;32m    787\u001b[0m     \u001b[0;32mtry\u001b[0m\u001b[0;34m:\u001b[0m\u001b[0;34m\u001b[0m\u001b[0m\n\u001b[1;32m    788\u001b[0m       result = self._run(None, fetches, feed_dict, options_ptr,\n\u001b[0;32m--> 789\u001b[0;31m                          run_metadata_ptr)\n\u001b[0m\u001b[1;32m    790\u001b[0m       \u001b[0;32mif\u001b[0m \u001b[0mrun_metadata\u001b[0m\u001b[0;34m:\u001b[0m\u001b[0;34m\u001b[0m\u001b[0m\n\u001b[1;32m    791\u001b[0m         \u001b[0mproto_data\u001b[0m \u001b[0;34m=\u001b[0m \u001b[0mtf_session\u001b[0m\u001b[0;34m.\u001b[0m\u001b[0mTF_GetBuffer\u001b[0m\u001b[0;34m(\u001b[0m\u001b[0mrun_metadata_ptr\u001b[0m\u001b[0;34m)\u001b[0m\u001b[0;34m\u001b[0m\u001b[0m\n",
      "\u001b[0;32m/Users/roshni/tensorflow/lib/python2.7/site-packages/tensorflow/python/client/session.pyc\u001b[0m in \u001b[0;36m_run\u001b[0;34m(self, handle, fetches, feed_dict, options, run_metadata)\u001b[0m\n\u001b[1;32m    995\u001b[0m     \u001b[0;32mif\u001b[0m \u001b[0mfinal_fetches\u001b[0m \u001b[0;32mor\u001b[0m \u001b[0mfinal_targets\u001b[0m\u001b[0;34m:\u001b[0m\u001b[0;34m\u001b[0m\u001b[0m\n\u001b[1;32m    996\u001b[0m       results = self._do_run(handle, final_targets, final_fetches,\n\u001b[0;32m--> 997\u001b[0;31m                              feed_dict_string, options, run_metadata)\n\u001b[0m\u001b[1;32m    998\u001b[0m     \u001b[0;32melse\u001b[0m\u001b[0;34m:\u001b[0m\u001b[0;34m\u001b[0m\u001b[0m\n\u001b[1;32m    999\u001b[0m       \u001b[0mresults\u001b[0m \u001b[0;34m=\u001b[0m \u001b[0;34m[\u001b[0m\u001b[0;34m]\u001b[0m\u001b[0;34m\u001b[0m\u001b[0m\n",
      "\u001b[0;32m/Users/roshni/tensorflow/lib/python2.7/site-packages/tensorflow/python/client/session.pyc\u001b[0m in \u001b[0;36m_do_run\u001b[0;34m(self, handle, target_list, fetch_list, feed_dict, options, run_metadata)\u001b[0m\n\u001b[1;32m   1130\u001b[0m     \u001b[0;32mif\u001b[0m \u001b[0mhandle\u001b[0m \u001b[0;32mis\u001b[0m \u001b[0mNone\u001b[0m\u001b[0;34m:\u001b[0m\u001b[0;34m\u001b[0m\u001b[0m\n\u001b[1;32m   1131\u001b[0m       return self._do_call(_run_fn, self._session, feed_dict, fetch_list,\n\u001b[0;32m-> 1132\u001b[0;31m                            target_list, options, run_metadata)\n\u001b[0m\u001b[1;32m   1133\u001b[0m     \u001b[0;32melse\u001b[0m\u001b[0;34m:\u001b[0m\u001b[0;34m\u001b[0m\u001b[0m\n\u001b[1;32m   1134\u001b[0m       return self._do_call(_prun_fn, self._session, handle, feed_dict,\n",
      "\u001b[0;32m/Users/roshni/tensorflow/lib/python2.7/site-packages/tensorflow/python/client/session.pyc\u001b[0m in \u001b[0;36m_do_call\u001b[0;34m(self, fn, *args)\u001b[0m\n\u001b[1;32m   1137\u001b[0m   \u001b[0;32mdef\u001b[0m \u001b[0m_do_call\u001b[0m\u001b[0;34m(\u001b[0m\u001b[0mself\u001b[0m\u001b[0;34m,\u001b[0m \u001b[0mfn\u001b[0m\u001b[0;34m,\u001b[0m \u001b[0;34m*\u001b[0m\u001b[0margs\u001b[0m\u001b[0;34m)\u001b[0m\u001b[0;34m:\u001b[0m\u001b[0;34m\u001b[0m\u001b[0m\n\u001b[1;32m   1138\u001b[0m     \u001b[0;32mtry\u001b[0m\u001b[0;34m:\u001b[0m\u001b[0;34m\u001b[0m\u001b[0m\n\u001b[0;32m-> 1139\u001b[0;31m       \u001b[0;32mreturn\u001b[0m \u001b[0mfn\u001b[0m\u001b[0;34m(\u001b[0m\u001b[0;34m*\u001b[0m\u001b[0margs\u001b[0m\u001b[0;34m)\u001b[0m\u001b[0;34m\u001b[0m\u001b[0m\n\u001b[0m\u001b[1;32m   1140\u001b[0m     \u001b[0;32mexcept\u001b[0m \u001b[0merrors\u001b[0m\u001b[0;34m.\u001b[0m\u001b[0mOpError\u001b[0m \u001b[0;32mas\u001b[0m \u001b[0me\u001b[0m\u001b[0;34m:\u001b[0m\u001b[0;34m\u001b[0m\u001b[0m\n\u001b[1;32m   1141\u001b[0m       \u001b[0mmessage\u001b[0m \u001b[0;34m=\u001b[0m \u001b[0mcompat\u001b[0m\u001b[0;34m.\u001b[0m\u001b[0mas_text\u001b[0m\u001b[0;34m(\u001b[0m\u001b[0me\u001b[0m\u001b[0;34m.\u001b[0m\u001b[0mmessage\u001b[0m\u001b[0;34m)\u001b[0m\u001b[0;34m\u001b[0m\u001b[0m\n",
      "\u001b[0;32m/Users/roshni/tensorflow/lib/python2.7/site-packages/tensorflow/python/client/session.pyc\u001b[0m in \u001b[0;36m_run_fn\u001b[0;34m(session, feed_dict, fetch_list, target_list, options, run_metadata)\u001b[0m\n\u001b[1;32m   1119\u001b[0m         return tf_session.TF_Run(session, options,\n\u001b[1;32m   1120\u001b[0m                                  \u001b[0mfeed_dict\u001b[0m\u001b[0;34m,\u001b[0m \u001b[0mfetch_list\u001b[0m\u001b[0;34m,\u001b[0m \u001b[0mtarget_list\u001b[0m\u001b[0;34m,\u001b[0m\u001b[0;34m\u001b[0m\u001b[0m\n\u001b[0;32m-> 1121\u001b[0;31m                                  status, run_metadata)\n\u001b[0m\u001b[1;32m   1122\u001b[0m \u001b[0;34m\u001b[0m\u001b[0m\n\u001b[1;32m   1123\u001b[0m     \u001b[0;32mdef\u001b[0m \u001b[0m_prun_fn\u001b[0m\u001b[0;34m(\u001b[0m\u001b[0msession\u001b[0m\u001b[0;34m,\u001b[0m \u001b[0mhandle\u001b[0m\u001b[0;34m,\u001b[0m \u001b[0mfeed_dict\u001b[0m\u001b[0;34m,\u001b[0m \u001b[0mfetch_list\u001b[0m\u001b[0;34m)\u001b[0m\u001b[0;34m:\u001b[0m\u001b[0;34m\u001b[0m\u001b[0m\n",
      "\u001b[0;31mKeyboardInterrupt\u001b[0m: "
     ]
    }
   ],
   "source": [
    "optimize(num_iterations=10000) # We performed 1000 iterations above.\n"
   ]
  },
  {
   "cell_type": "code",
   "execution_count": null,
   "metadata": {
    "collapsed": false,
    "deletable": true,
    "editable": true
   },
   "outputs": [],
   "source": [
    " print_test_accuracy(show_example_errors=True,show_confusion_matrix=True)"
   ]
  },
  {
   "cell_type": "code",
   "execution_count": null,
   "metadata": {
    "collapsed": false,
    "deletable": true,
    "editable": true
   },
   "outputs": [],
   "source": [
    "optimize(num_iterations=10000) # We performed 1000 iterations above.\n"
   ]
  },
  {
   "cell_type": "code",
   "execution_count": null,
   "metadata": {
    "collapsed": false,
    "deletable": true,
    "editable": true
   },
   "outputs": [],
   "source": [
    " print_test_accuracy(show_example_errors=True,show_confusion_matrix=True)"
   ]
  },
  {
   "cell_type": "markdown",
   "metadata": {
    "deletable": true,
    "editable": true
   },
   "source": []
  },
  {
   "cell_type": "markdown",
   "metadata": {
    "deletable": true,
    "editable": true
   },
   "source": [
    "### Exercises\n",
    "These are a few suggestions for exercises that may help improve your skills with TensorFlow. It is important to get hands-on experience with TensorFlow in order to learn how to use it properly.\n",
    "\n",
    "You may want to backup this Notebook before making any changes.\n",
    "1. Do you get the exact same results if you run the Notebook multiple times without changing any parameters? What are the sources of randomness?\n",
    "2. Run another 10,000 optimization iterations. Are the results better?\n",
    "3. Change the learning-rate for the optimizer.\n",
    "4. Change the configuration of the layers, such as the number of convolutional filters, the size of those filters, the number of neurons in the fully-connected layer, etc.\n",
    "5. Add a so-called drop-out layer after the fully-connected layer. Note that the drop-out probability should be zero when calculating the classification accuracy, so you will need a placeholder variable for this probability.\n",
    "6. Change the order of ReLU and max-pooling in the convolutional layer. Does it calculate the same thing? What is the fastest way of computing it? How many calculations are saved? Does it also work for Sigmoid-functions and average-pooling?\n",
    "7. Add one or more convolutional and fully-connected layers. Does it help performance?\n",
    "8. What is the smallest possible configuration that still gives good results?\n",
    "9. Try using ReLU in the last fully-connected layer. Does the performance change? Why?\n",
    "10. Try not using pooling in the convolutional layers. Does it change the classification accuracy and training time?\n",
    "11. Try using a 2x2 stride in the convolution instead of max-pooling? What is the difference?\n",
    "12. Remake the program yourself without looking too much at this source-code.\n",
    "13. Explain to a friend how the program works."
   ]
  },
  {
   "cell_type": "code",
   "execution_count": null,
   "metadata": {
    "collapsed": true,
    "deletable": true,
    "editable": true
   },
   "outputs": [],
   "source": []
  },
  {
   "cell_type": "markdown",
   "metadata": {
    "collapsed": true,
    "deletable": true,
    "editable": true
   },
   "source": [
    "## "
   ]
  },
  {
   "cell_type": "code",
   "execution_count": null,
   "metadata": {
    "collapsed": true,
    "deletable": true,
    "editable": true
   },
   "outputs": [],
   "source": []
  },
  {
   "cell_type": "code",
   "execution_count": null,
   "metadata": {
    "collapsed": true,
    "deletable": true,
    "editable": true
   },
   "outputs": [],
   "source": []
  }
 ],
 "metadata": {
  "kernelspec": {
   "display_name": "Python 2",
   "language": "python",
   "name": "python2"
  },
  "language_info": {
   "codemirror_mode": {
    "name": "ipython",
    "version": 2
   },
   "file_extension": ".py",
   "mimetype": "text/x-python",
   "name": "python",
   "nbconvert_exporter": "python",
   "pygments_lexer": "ipython2",
   "version": "2.7.10"
  }
 },
 "nbformat": 4,
 "nbformat_minor": 2
}
