{
 "cells": [
  {
   "cell_type": "markdown",
   "metadata": {
    "deletable": true,
    "editable": true
   },
   "source": [
    "\n",
    "\n",
    "### Convolutional Layer\n",
    "The following chart shows the basic idea of processing an image in the first convolutional layer. The input image depicts the number 7 and four copies of the image are shown here, so we can see more clearly how the filter is being moved to different positions of the image. For each position of the filter, the dot-product is being calculated between the filter and the image pixels under the filter, which results in a single pixel in the output image. So moving the filter across the entire input image results in a new image being generated.\n",
    "The red filter-weights means that the filter has a positive reaction to black pixels in the input image, while blue pixels means the filter has a negative reaction to black pixels.\n",
    "In this case it appears that the filter recognizes the horizontal line of the 7-digit, as can be seen from its stronger reaction to that line in the output image."
   ]
  },
  {
   "cell_type": "markdown",
   "metadata": {
    "deletable": true,
    "editable": true
   },
   "source": [
    "\n",
    "### Imports"
   ]
  },
  {
   "cell_type": "code",
   "execution_count": 474,
   "metadata": {
    "collapsed": true,
    "deletable": true,
    "editable": true
   },
   "outputs": [],
   "source": [
    "%matplotlib inline\n",
    "import matplotlib.pyplot as plt\n",
    "import tensorflow as tf\n",
    "import numpy as np\n",
    "from sklearn.metrics import confusion_matrix\n",
    "import time\n",
    "from datetime import timedelta\n",
    "import math"
   ]
  },
  {
   "cell_type": "code",
   "execution_count": 475,
   "metadata": {
    "collapsed": false,
    "deletable": true,
    "editable": true
   },
   "outputs": [
    {
     "data": {
      "text/plain": [
       "'1.2.1'"
      ]
     },
     "execution_count": 475,
     "metadata": {},
     "output_type": "execute_result"
    }
   ],
   "source": [
    "tf.__version__\n"
   ]
  },
  {
   "cell_type": "markdown",
   "metadata": {
    "deletable": true,
    "editable": true
   },
   "source": [
    "### Configuration of Neural Network\n",
    "The configuration of the Convolutional Neural Network is defined here for convenience, so you can easily find and change these numbers and re-run the Notebook."
   ]
  },
  {
   "cell_type": "code",
   "execution_count": 476,
   "metadata": {
    "collapsed": true,
    "deletable": true,
    "editable": true
   },
   "outputs": [],
   "source": [
    "# Convolutional Layer 1.\n",
    "filter_size1 = 5          # Convolution filters are 5 x 5 pixels.\n",
    "num_filters1 = 42         # There are 42 of these filters.\n",
    "\n",
    "\n",
    "\n",
    "# Convolutional Layer 3.\n",
    "filter_size3 = 3          # Convolution filters are 5 x 5 pixels.\n",
    "num_filters3 = 20 \n",
    "\n",
    "\n",
    "# Convolutional Layer 5.\n",
    "filter_size5 = 3          # Convolution filters are 5 x 5 pixels.\n",
    "num_filters5 = 5 \n",
    "\n",
    "# Fully-connected layer.\n",
    "fc_size = 100             # Number of neurons in fully-connected layer."
   ]
  },
  {
   "cell_type": "code",
   "execution_count": 477,
   "metadata": {
    "collapsed": true,
    "deletable": true,
    "editable": true
   },
   "outputs": [],
   "source": [
    "def convertToOneHot(labels, num_classes):\n",
    "        one_hot = np.zeros((len(labels), num_classes))\n",
    "\n",
    "        for i in range(len(labels)):\n",
    "                j =int(labels[i][0])\n",
    "                one_hot[i][j] = 1\n",
    "        return np.array(one_hot)\n",
    "        #print(one_hot)\n"
   ]
  },
  {
   "cell_type": "code",
   "execution_count": 478,
   "metadata": {
    "collapsed": false,
    "deletable": true,
    "editable": true
   },
   "outputs": [],
   "source": [
    "new_array =[]\n",
    "with open(\"data_jaffe/Labels/labels_new.txt\", \"r\") as f:\n",
    "    data =f.readlines()\n",
    "    #print data\n",
    "    line =data[0]\n",
    "    line =line.strip()\n",
    "    val =line.split()\n",
    "    for values in val:\n",
    "       new_array.append(values)\n",
    "  "
   ]
  },
  {
   "cell_type": "code",
   "execution_count": 479,
   "metadata": {
    "collapsed": false,
    "deletable": true,
    "editable": true
   },
   "outputs": [],
   "source": [
    "# Load Data\n",
    "labels = convertToOneHot(new_array,7)"
   ]
  },
  {
   "cell_type": "code",
   "execution_count": 480,
   "metadata": {
    "collapsed": false,
    "deletable": true,
    "editable": true
   },
   "outputs": [
    {
     "data": {
      "text/plain": [
       "(2130, 7)"
      ]
     },
     "execution_count": 480,
     "metadata": {},
     "output_type": "execute_result"
    }
   ],
   "source": [
    "labels.shape"
   ]
  },
  {
   "cell_type": "code",
   "execution_count": 481,
   "metadata": {
    "collapsed": true,
    "deletable": true,
    "editable": true
   },
   "outputs": [],
   "source": [
    "import scipy.misc"
   ]
  },
  {
   "cell_type": "code",
   "execution_count": 482,
   "metadata": {
    "collapsed": false,
    "deletable": true,
    "editable": true
   },
   "outputs": [
    {
     "data": {
      "text/plain": [
       "<function scipy.misc.pilutil.imread>"
      ]
     },
     "execution_count": 482,
     "metadata": {},
     "output_type": "execute_result"
    }
   ],
   "source": [
    "scipy.misc.imread"
   ]
  },
  {
   "cell_type": "code",
   "execution_count": 483,
   "metadata": {
    "collapsed": true,
    "deletable": true,
    "editable": true
   },
   "outputs": [],
   "source": [
    "from PIL import Image\n",
    "import glob,os\n",
    "\n",
    "def image_vector(img_path):\n",
    "    image =[]\n",
    "    for infile in glob.glob( os.path.join(img_path, \"*.tiff\") ):\n",
    "                img = Image.open(infile)\n",
    "                new_list =list(img.getdata())\n",
    "                image.append(new_list)\n",
    "    return np.array(image)"
   ]
  },
  {
   "cell_type": "code",
   "execution_count": 484,
   "metadata": {
    "collapsed": true,
    "deletable": true,
    "editable": true
   },
   "outputs": [],
   "source": [
    "image_path = 'data_jaffe/Synthetic_Cropped'\n",
    "images =image_vector(image_path)"
   ]
  },
  {
   "cell_type": "code",
   "execution_count": 485,
   "metadata": {
    "collapsed": true,
    "deletable": true,
    "editable": true
   },
   "outputs": [],
   "source": [
    "from sklearn.cross_validation import train_test_split\n"
   ]
  },
  {
   "cell_type": "code",
   "execution_count": 486,
   "metadata": {
    "collapsed": true,
    "deletable": true,
    "editable": true
   },
   "outputs": [],
   "source": [
    "test_images = images[532:1064]"
   ]
  },
  {
   "cell_type": "code",
   "execution_count": 487,
   "metadata": {
    "collapsed": true,
    "deletable": true,
    "editable": true
   },
   "outputs": [],
   "source": [
    "a = images[:532]"
   ]
  },
  {
   "cell_type": "code",
   "execution_count": 488,
   "metadata": {
    "collapsed": true,
    "deletable": true,
    "editable": true
   },
   "outputs": [],
   "source": [
    "b = images[1064:]"
   ]
  },
  {
   "cell_type": "code",
   "execution_count": 489,
   "metadata": {
    "collapsed": true,
    "deletable": true,
    "editable": true
   },
   "outputs": [],
   "source": [
    "train_images =np.concatenate((a,b))  #images[532:] \n",
    "#np.concatenate((a,b))"
   ]
  },
  {
   "cell_type": "code",
   "execution_count": 490,
   "metadata": {
    "collapsed": true,
    "deletable": true,
    "editable": true
   },
   "outputs": [],
   "source": [
    "c = labels[:532]"
   ]
  },
  {
   "cell_type": "code",
   "execution_count": 491,
   "metadata": {
    "collapsed": true,
    "deletable": true,
    "editable": true
   },
   "outputs": [],
   "source": [
    "d = labels[1064:]"
   ]
  },
  {
   "cell_type": "code",
   "execution_count": 492,
   "metadata": {
    "collapsed": false,
    "deletable": true,
    "editable": true
   },
   "outputs": [],
   "source": [
    "train_labels = np.concatenate((c,d)) #labels[532:,:]\n",
    "#np.concatenate((c,d))"
   ]
  },
  {
   "cell_type": "code",
   "execution_count": 493,
   "metadata": {
    "collapsed": true,
    "deletable": true,
    "editable": true
   },
   "outputs": [],
   "source": [
    "test_labels = labels[532:1064,:]"
   ]
  },
  {
   "cell_type": "code",
   "execution_count": 494,
   "metadata": {
    "collapsed": false,
    "deletable": true,
    "editable": true
   },
   "outputs": [],
   "source": [
    "#train_images,test_images,train_labels,test_labels = X_train, X_test, y_train, y_test = train_test_split(images, labels, test_size=0.2)"
   ]
  },
  {
   "cell_type": "code",
   "execution_count": 495,
   "metadata": {
    "collapsed": false,
    "deletable": true,
    "editable": true
   },
   "outputs": [],
   "source": [
    "test_cls = np.argmax(test_labels, axis=1)\n"
   ]
  },
  {
   "cell_type": "code",
   "execution_count": 496,
   "metadata": {
    "collapsed": false,
    "deletable": true,
    "editable": true
   },
   "outputs": [
    {
     "data": {
      "text/plain": [
       "array([3, 3, 4, 4, 4, 5, 5, 5, 6, 6, 6, 1, 1, 1, 0, 0, 0, 2, 2, 2, 3, 3, 3,\n",
       "       4, 4, 4, 5, 5, 6, 6, 6, 1, 1, 1, 0, 0, 0, 2, 2, 2, 3, 3, 3, 4, 4, 4,\n",
       "       5, 5, 5, 6, 6, 6, 1, 1, 1, 0, 0, 0, 2, 2, 2, 3, 3, 3, 4, 4, 4, 5, 5,\n",
       "       5, 6, 6, 6, 1, 1, 1, 0, 0, 0, 2, 2, 2, 3, 3, 3, 4, 4, 4, 5, 5, 5, 6,\n",
       "       6, 6, 6, 1, 1, 1, 0, 0, 0, 2, 2, 2, 3, 3, 3, 4, 4, 4, 5, 5, 5, 6, 6,\n",
       "       6, 6, 1, 1, 1, 1, 0, 0, 0, 2, 2, 2, 3, 3, 3, 4, 4, 4, 5, 5, 5, 5, 6,\n",
       "       6, 6, 1, 1, 1, 0, 0, 0, 2, 2, 2, 3, 3, 3, 4, 4, 4, 5, 5, 6, 6, 6, 1,\n",
       "       1, 1, 1, 0, 0, 0, 2, 2, 2, 2, 3, 3, 3, 4, 4, 4, 5, 5, 5, 6, 6, 6, 1,\n",
       "       1, 0, 0, 0, 2, 2, 2, 3, 3, 3, 4, 4, 4, 5, 5, 5, 6, 6, 6, 1, 1, 1, 0,\n",
       "       0, 0, 2, 2, 2, 3, 3, 3, 4, 4, 4, 5, 5, 5, 6, 6, 6, 1, 1, 1, 0, 0, 0,\n",
       "       2, 2, 2, 3, 3, 3, 4, 4, 4, 5, 5, 6, 6, 6, 1, 1, 1, 0, 0, 0, 2, 2, 2,\n",
       "       3, 3, 3, 4, 4, 4, 5, 5, 5, 6, 6, 6, 1, 1, 1, 0, 0, 0, 2, 2, 2, 3, 3,\n",
       "       3, 4, 4, 4, 5, 5, 5, 6, 6, 6, 1, 1, 1, 0, 0, 0, 2, 2, 2, 3, 3, 3, 4,\n",
       "       4, 4, 5, 5, 5, 6, 6, 6, 6, 1, 1, 1, 0, 0, 0, 2, 2, 2, 3, 3, 3, 4, 4,\n",
       "       4, 5, 5, 5, 6, 6, 6, 6, 1, 1, 1, 1, 0, 0, 0, 2, 2, 2, 3, 3, 3, 4, 4,\n",
       "       4, 5, 5, 5, 5, 6, 6, 6, 1, 1, 1, 0, 0, 0, 2, 2, 2, 3, 3, 3, 4, 4, 4,\n",
       "       5, 5, 6, 6, 6, 1, 1, 1, 1, 0, 0, 0, 2, 2, 2, 2, 3, 3, 3, 4, 4, 4, 5,\n",
       "       5, 5, 6, 6, 6, 1, 1, 0, 0, 0, 2, 2, 2, 3, 3, 3, 4, 4, 4, 5, 5, 5, 6,\n",
       "       6, 6, 1, 1, 1, 0, 0, 0, 2, 2, 2, 3, 3, 3, 4, 4, 4, 5, 5, 5, 6, 6, 6,\n",
       "       1, 1, 1, 0, 0, 0, 2, 2, 2, 3, 3, 3, 4, 4, 4, 5, 5, 6, 6, 6, 1, 1, 1,\n",
       "       0, 0, 0, 2, 2, 2, 3, 3, 3, 4, 4, 4, 5, 5, 5, 6, 6, 6, 1, 1, 1, 0, 0,\n",
       "       0, 2, 2, 2, 3, 3, 3, 4, 4, 4, 5, 5, 5, 6, 6, 6, 1, 1, 1, 0, 0, 0, 2,\n",
       "       2, 2, 3, 3, 3, 4, 4, 4, 5, 5, 5, 6, 6, 6, 6, 1, 1, 1, 0, 0, 0, 2, 2,\n",
       "       2, 3, 3])"
      ]
     },
     "execution_count": 496,
     "metadata": {},
     "output_type": "execute_result"
    }
   ],
   "source": [
    "test_cls"
   ]
  },
  {
   "cell_type": "code",
   "execution_count": 497,
   "metadata": {
    "collapsed": false,
    "deletable": true,
    "editable": true
   },
   "outputs": [
    {
     "data": {
      "text/plain": [
       "(532, 65536)"
      ]
     },
     "execution_count": 497,
     "metadata": {},
     "output_type": "execute_result"
    }
   ],
   "source": [
    "test_images.shape"
   ]
  },
  {
   "cell_type": "code",
   "execution_count": 498,
   "metadata": {
    "collapsed": false,
    "deletable": true,
    "editable": true
   },
   "outputs": [
    {
     "data": {
      "text/plain": [
       "(1598, 65536)"
      ]
     },
     "execution_count": 498,
     "metadata": {},
     "output_type": "execute_result"
    }
   ],
   "source": [
    "train_images.shape"
   ]
  },
  {
   "cell_type": "code",
   "execution_count": 499,
   "metadata": {
    "collapsed": false,
    "deletable": true,
    "editable": true
   },
   "outputs": [
    {
     "name": "stdout",
     "output_type": "stream",
     "text": [
      "[[ 0.  0.  0.  0.  1.  0.  0.]\n",
      " [ 0.  0.  0.  0.  1.  0.  0.]\n",
      " [ 0.  0.  0.  0.  1.  0.  0.]\n",
      " [ 0.  0.  0.  0.  0.  1.  0.]\n",
      " [ 0.  0.  0.  0.  0.  1.  0.]]\n"
     ]
    }
   ],
   "source": [
    "print(train_labels[:5,:])"
   ]
  },
  {
   "cell_type": "code",
   "execution_count": 500,
   "metadata": {
    "collapsed": false,
    "deletable": true,
    "editable": true
   },
   "outputs": [
    {
     "name": "stdout",
     "output_type": "stream",
     "text": [
      "[[ 0.  0.  0.  1.  0.  0.  0.]\n",
      " [ 0.  0.  0.  1.  0.  0.  0.]\n",
      " [ 0.  0.  0.  0.  1.  0.  0.]\n",
      " [ 0.  0.  0.  0.  1.  0.  0.]\n",
      " [ 0.  0.  0.  0.  1.  0.  0.]]\n"
     ]
    }
   ],
   "source": [
    "print(test_labels[:5,:])"
   ]
  },
  {
   "cell_type": "code",
   "execution_count": 501,
   "metadata": {
    "collapsed": false,
    "deletable": true,
    "editable": true
   },
   "outputs": [
    {
     "data": {
      "text/plain": [
       "(532, 7)"
      ]
     },
     "execution_count": 501,
     "metadata": {},
     "output_type": "execute_result"
    }
   ],
   "source": [
    "test_labels.shape"
   ]
  },
  {
   "cell_type": "code",
   "execution_count": 502,
   "metadata": {
    "collapsed": false,
    "deletable": true,
    "editable": true
   },
   "outputs": [
    {
     "data": {
      "text/plain": [
       "(1598, 7)"
      ]
     },
     "execution_count": 502,
     "metadata": {},
     "output_type": "execute_result"
    }
   ],
   "source": [
    "train_labels.shape"
   ]
  },
  {
   "cell_type": "markdown",
   "metadata": {
    "deletable": true,
    "editable": true
   },
   "source": [
    "### Data Dimensions\n",
    "The data dimensions are used in several places in the source-code below. They are defined once so we can use these variables instead of numbers throughout the source-code below.\n",
    "\n"
   ]
  },
  {
   "cell_type": "code",
   "execution_count": 503,
   "metadata": {
    "collapsed": true,
    "deletable": true,
    "editable": true
   },
   "outputs": [],
   "source": [
    "# We know that MNIST images are 256 pixels in each dimension.\n",
    "img_size = 256\n",
    "\n",
    "# Images are stored in one-dimensional arrays of this length.\n",
    "img_size_flat = img_size * img_size\n",
    "\n",
    "# Tuple with height and width of images used to reshape arrays.\n",
    "img_shape = (img_size, img_size)\n",
    "\n",
    "# Number of colour channels for the images: 1 channel for gray-scale.\n",
    "num_channels = 1\n",
    "\n",
    "# Number of classes, one class for each of 10 digits.\n",
    "num_classes = 7"
   ]
  },
  {
   "cell_type": "code",
   "execution_count": 504,
   "metadata": {
    "collapsed": true,
    "deletable": true,
    "editable": true
   },
   "outputs": [],
   "source": [
    "# Helper function\n",
    "def plot_images(images, cls_true, cls_pred=None):\n",
    "    assert len(images) == len(cls_true) == 9\n",
    "    \n",
    "    # Create figure with 3x3 sub-plots.\n",
    "    fig, axes = plt.subplots(3, 3)\n",
    "    fig.subplots_adjust(hspace=0.3, wspace=0.3)\n",
    "\n",
    "    for i, ax in enumerate(axes.flat):\n",
    "        # Plot image.\n",
    "        ax.imshow(images[i].reshape(img_shape), cmap='binary')\n",
    "\n",
    "        # Show true and predicted classes.\n",
    "        if cls_pred is None:\n",
    "            xlabel = \"True: {0}\".format(cls_true[i])\n",
    "        else:\n",
    "            xlabel = \"True: {0}, Pred: {1}\".format(cls_true[i], cls_pred[i])\n",
    "\n",
    "        # Show the classes as the label on the x-axis.\n",
    "        ax.set_xlabel(xlabel)\n",
    "        \n",
    "        # Remove ticks from the plot.\n",
    "        ax.set_xticks([])\n",
    "        ax.set_yticks([])\n",
    "    \n",
    "    # Ensure the plot is shown correctly with multiple plots\n",
    "    # in a single Notebook cell.\n",
    "    plt.show()"
   ]
  },
  {
   "cell_type": "code",
   "execution_count": 505,
   "metadata": {
    "collapsed": false,
    "deletable": true,
    "editable": true
   },
   "outputs": [
    {
     "data": {
      "image/png": "[encoded data removed]",
      "text/plain": [
       "<matplotlib.figure.Figure at 0x11cbc3950>"
      ]
     },
     "metadata": {},
     "output_type": "display_data"
    }
   ],
   "source": [
    "#plot images\n",
    "# Get the first images from the test-set.\n",
    "images = test_images[0:9]\n",
    "\n",
    "# Get the true classes for those images.\n",
    "cls_true =test_cls[0:9]\n",
    "\n",
    "# Plot the images and labels using our helper-function above.\n",
    "plot_images(images=images, cls_true=cls_true)"
   ]
  },
  {
   "cell_type": "markdown",
   "metadata": {
    "deletable": true,
    "editable": true
   },
   "source": [
    "### TensorFlow Graph\n",
    "The entire purpose of TensorFlow is to have a so-called computational graph that can be executed much more efficiently than if the same calculations were to be performed directly in Python. TensorFlow can be more efficient than NumPy because TensorFlow knows the entire computation graph that must be executed, while NumPy only knows the computation of a single mathematical operation at a time.\n",
    "TensorFlow can also automatically calculate the gradients that are needed to optimize the variables of the graph so as to make the model perform better. This is because the graph is a combination of simple mathematical expressions so the gradient of the entire graph can be calculated using the chain-rule for derivatives.\n",
    "TensorFlow can also take advantage of multi-core CPUs as well as GPUs - and Google has even built special chips just for TensorFlow which are called TPUs (Tensor Processing Units) and are even faster than GPUs.\n",
    "A TensorFlow graph consists of the following parts which will be detailed below:\n",
    "Placeholder variables used for inputting data to the graph.\n",
    "Variables that are going to be optimized so as to make the convolutional network perform better.\n",
    "The mathematical formulas for the convolutional network.\n",
    "A cost measure that can be used to guide the optimization of the variables.\n",
    "An optimization method which updates the variables.\n",
    "In addition, the TensorFlow graph may also contain various debugging statements e.g. for logging data to be displayed using TensorBoard, which is not covered in this tutorial.\n",
    "### Helper-functions for creating new variables\n",
    "Functions for creating new TensorFlow variables in the given shape and initializing them with random values. Note that the initialization is not actually done at this point, it is merely being defined in the TensorFlow graph."
   ]
  },
  {
   "cell_type": "code",
   "execution_count": 506,
   "metadata": {
    "collapsed": true,
    "deletable": true,
    "editable": true
   },
   "outputs": [],
   "source": [
    "def new_weights(shape):\n",
    "    return tf.Variable(tf.truncated_normal(shape, stddev=0.05))"
   ]
  },
  {
   "cell_type": "code",
   "execution_count": 507,
   "metadata": {
    "collapsed": true,
    "deletable": true,
    "editable": true
   },
   "outputs": [],
   "source": [
    "def new_biases(length):\n",
    "    return tf.Variable(tf.constant(0.05, shape=[length]))"
   ]
  },
  {
   "cell_type": "markdown",
   "metadata": {
    "deletable": true,
    "editable": true
   },
   "source": [
    "### Helper-function for creating a new Convolutional Layer\n",
    "This function creates a new convolutional layer in the computational graph for TensorFlow. Nothing is actually calculated here, we are just adding the mathematical formulas to the TensorFlow graph.\n",
    "It is assumed that the input is a 4-dim tensor with the following dimensions:\n",
    "\n",
    "1. Image number.\n",
    "2. Y-axis of each image.\n",
    "3. X-axis of each image.\n",
    "4. Channels of each image.\n",
    "\n",
    "Note that the input channels may either be colour-channels, or it may be filter-channels if the input is produced from a previous convolutional layer.\n",
    "The output is another 4-dim tensor with the following dimensions:\n",
    "1. number, same as input.\n",
    "2. Y-axis of each image. If 2x2 pooling is used, then the height and width of the input images is divided by 2.\n",
    "3. X-axis of each image. Ditto.\n",
    "4. Channels produced by the convolutional filters."
   ]
  },
  {
   "cell_type": "code",
   "execution_count": 508,
   "metadata": {
    "collapsed": true,
    "deletable": true,
    "editable": true
   },
   "outputs": [],
   "source": [
    "def new_conv_layer(input,              # The previous layer.\n",
    "                   num_input_channels, # Num. channels in prev. layer.\n",
    "                   filter_size,        # Width and height of each filter.\n",
    "                   num_filters,        # Number of filters.\n",
    "                   use_pooling=True):  # Use 2x2 max-pooling.\n",
    "\n",
    "    # Shape of the filter-weights for the convolution.\n",
    "    # This format is determined by the TensorFlow API.\n",
    "    shape = [filter_size, filter_size, num_input_channels, num_filters]\n",
    "\n",
    "    # Create new weights aka. filters with the given shape.\n",
    "    weights = new_weights(shape=shape)\n",
    "\n",
    "    # Create new biases, one for each filter.\n",
    "    biases = new_biases(length=num_filters)\n",
    "\n",
    "    # Create the TensorFlow operation for convolution.\n",
    "    # Note the strides are set to 1 in all dimensions.\n",
    "    # The first and last stride must always be 1,\n",
    "    # because the first is for the image-number and\n",
    "    # the last is for the input-channel.\n",
    "    # But e.g. strides=[1, 2, 2, 1] would mean that the filter\n",
    "    # is moved 2 pixels across the x- and y-axis of the image.\n",
    "    # The padding is set to 'SAME' which means the input image\n",
    "    # is padded with zeroes so the size of the output is the same.\n",
    "    layer = tf.nn.conv2d(input=input,\n",
    "                         filter=weights,\n",
    "                         strides=[1, 1, 2, 1],\n",
    "                         padding='SAME')\n",
    "\n",
    "    # Add the biases to the results of the convolution.\n",
    "    # A bias-value is added to each filter-channel.\n",
    "    layer += biases\n",
    "\n",
    "    # Use pooling to down-sample the image resolution?\n",
    "    if use_pooling:\n",
    "        # This is 2x2 max-pooling, which means that we\n",
    "        # consider 2x2 windows and select the largest value\n",
    "        # in each window. Then we move 2 pixels to the next window.\n",
    "        layer = tf.nn.max_pool(value=layer,\n",
    "                               ksize=[1, 3, 3, 1],\n",
    "                               strides=[1, 2, 1, 1],\n",
    "                               padding='SAME')\n",
    "\n",
    "    # Rectified Linear Unit (ReLU).\n",
    "    # It calculates max(x, 0) for each input pixel x.\n",
    "    # This adds some non-linearity to the formula and allows us\n",
    "    # to learn more complicated functions.\n",
    "    layer = tf.nn.relu(layer)\n",
    "\n",
    "    # Note that ReLU is normally executed before the pooling,\n",
    "    # but since relu(max_pool(x)) == max_pool(relu(x)) we can\n",
    "    # save 75% of the relu-operations by max-pooling first.\n",
    "\n",
    "    # We return both the resulting layer and the filter-weights\n",
    "    # because we will plot the weights later.\n",
    "    return layer, weights\n"
   ]
  },
  {
   "cell_type": "markdown",
   "metadata": {
    "deletable": true,
    "editable": true
   },
   "source": [
    "### Helper-function for flattening a layer\n",
    "A convolutional layer produces an output tensor with 4 dimensions. We will add fully-connected layers after the convolution layers, so we need to reduce the 4-dim tensor to 2-dim which can be used as input to the fully-connected layer.\n",
    "\n"
   ]
  },
  {
   "cell_type": "code",
   "execution_count": 509,
   "metadata": {
    "collapsed": true,
    "deletable": true,
    "editable": true
   },
   "outputs": [],
   "source": [
    "def flatten_layer(layer):\n",
    "    # Get the shape of the input layer.\n",
    "    layer_shape = layer.get_shape()\n",
    "\n",
    "    # The shape of the input layer is assumed to be:\n",
    "    # layer_shape == [num_images, img_height, img_width, num_channels]\n",
    "\n",
    "    # The number of features is: img_height * img_width * num_channels\n",
    "    # We can use a function from TensorFlow to calculate this.\n",
    "    num_features = layer_shape[1:4].num_elements()\n",
    "    \n",
    "    # Reshape the layer to [num_images, num_features].\n",
    "    # Note that we just set the size of the second dimension\n",
    "    # to num_features and the size of the first dimension to -1\n",
    "    # which means the size in that dimension is calculated\n",
    "    # so the total size of the tensor is unchanged from the reshaping.\n",
    "    layer_flat = tf.reshape(layer, [-1, num_features])\n",
    "\n",
    "    # The shape of the flattened layer is now:\n",
    "    # [num_images, img_height * img_width * num_channels]\n",
    "\n",
    "    # Return both the flattened layer and the number of features.\n",
    "    return layer_flat, num_features"
   ]
  },
  {
   "cell_type": "markdown",
   "metadata": {
    "deletable": true,
    "editable": true
   },
   "source": [
    "### Helper-function for creating a new Fully-Connected Layer\n",
    "This function creates a new fully-connected layer in the computational graph for TensorFlow. Nothing is actually calculated here, we are just adding the mathematical formulas to the TensorFlow graph.\n",
    "It is assumed that the input is a 2-dim tensor of shape [num_images, num_inputs]. The output is a 2-dim tensor of shape [num_images, num_outputs]."
   ]
  },
  {
   "cell_type": "code",
   "execution_count": 510,
   "metadata": {
    "collapsed": true,
    "deletable": true,
    "editable": true
   },
   "outputs": [],
   "source": [
    "def new_fc_layer(input,          # The previous layer.\n",
    "                 num_inputs,     # Num. inputs from prev. layer.\n",
    "                 num_outputs,    # Num. outputs.\n",
    "                 use_relu=True): # Use Rectified Linear Unit (ReLU)?\n",
    "\n",
    "    # Create new weights and biases.\n",
    "    weights = new_weights(shape=[num_inputs, num_outputs])\n",
    "    biases = new_biases(length=num_outputs)\n",
    "\n",
    "    # Calculate the layer as the matrix multiplication of\n",
    "    # the input and weights, and then add the bias-values.\n",
    "    layer = tf.matmul(input, weights) + biases\n",
    "\n",
    "    # Use ReLU?\n",
    "    if use_relu:\n",
    "        layer = tf.nn.relu(layer)\n",
    "\n",
    "    return layer"
   ]
  },
  {
   "cell_type": "markdown",
   "metadata": {
    "deletable": true,
    "editable": true
   },
   "source": [
    "### Placeholder variables\n",
    "Placeholder variables serve as the input to the TensorFlow computational graph that we may change each time we execute the graph. We call this feeding the placeholder variables and it is demonstrated further below.\n",
    "First we define the placeholder variable for the input images. This allows us to change the images that are input to the TensorFlow graph. This is a so-called tensor, which just means that it is a multi-dimensional vector or matrix. The data-type is set to float32 and the shape is set to [None, img_size_flat], where None means that the tensor may hold an arbitrary number of images with each image being a vector of length img_size_flat.\n",
    "\n"
   ]
  },
  {
   "cell_type": "code",
   "execution_count": 511,
   "metadata": {
    "collapsed": true,
    "deletable": true,
    "editable": true
   },
   "outputs": [],
   "source": [
    "x = tf.placeholder(tf.float32, shape=[None, img_size_flat], name='x')"
   ]
  },
  {
   "cell_type": "code",
   "execution_count": 512,
   "metadata": {
    "collapsed": true,
    "deletable": true,
    "editable": true
   },
   "outputs": [],
   "source": [
    "#The convolutional layers expect x to be encoded as a 4-dim tensor so we have to reshape it so its shape is instead \n",
    "#[num_images, img_height, img_width, num_channels]. Note that img_height == img_width == img_size and num_images can be inferred automatically by using -1 for the size of the first dimension. So the reshape operation is:\n",
    "\n",
    "x_image = tf.reshape(x, [-1, img_size, img_size, num_channels])"
   ]
  },
  {
   "cell_type": "code",
   "execution_count": 513,
   "metadata": {
    "collapsed": true,
    "deletable": true,
    "editable": true
   },
   "outputs": [],
   "source": [
    "#Next we have the placeholder variable for the true labels associated with the images that were input in the placeholder \n",
    "#variable x. The shape of this placeholder variable is [None, num_classes] which means it may hold an arbitrary number of labels and each label is a vector of length num_classes which is 10 in this case.\n",
    "y_true = tf.placeholder(tf.float32, shape=[None, 7], name='y_true')"
   ]
  },
  {
   "cell_type": "code",
   "execution_count": 514,
   "metadata": {
    "collapsed": true,
    "deletable": true,
    "editable": true
   },
   "outputs": [],
   "source": [
    "#We could also have a placeholder variable for the class-number, but we will instead calculate it using argmax. \n",
    "#Note that this is a TensorFlow operator so nothing is calculated at this point.\n",
    "\n",
    "y_true_cls = tf.argmax(y_true, dimension=1)"
   ]
  },
  {
   "cell_type": "code",
   "execution_count": 515,
   "metadata": {
    "collapsed": false,
    "deletable": true,
    "editable": true
   },
   "outputs": [
    {
     "data": {
      "text/plain": [
       "<tf.Tensor 'strided_slice_6:0' shape=(?,) dtype=int64>"
      ]
     },
     "execution_count": 515,
     "metadata": {},
     "output_type": "execute_result"
    }
   ],
   "source": [
    "y_true_cls[:5]"
   ]
  },
  {
   "cell_type": "markdown",
   "metadata": {
    "deletable": true,
    "editable": true
   },
   "source": [
    "### Convolutional Layer 1\n",
    "Create the first convolutional layer. It takes x_image as input and creates num_filters1 different filters, each having width and height equal to filter_size1. Finally we wish to down-sample the image so it is half the size by using 2x2 max-pooling.\n",
    "\n"
   ]
  },
  {
   "cell_type": "code",
   "execution_count": 516,
   "metadata": {
    "collapsed": true,
    "deletable": true,
    "editable": true
   },
   "outputs": [],
   "source": [
    "layer_conv1, weights_conv1 = \\\n",
    "    new_conv_layer(input=x_image,\n",
    "                   num_input_channels=num_channels,\n",
    "                   filter_size=filter_size1,\n",
    "                   num_filters=num_filters1,\n",
    "                   use_pooling=True)\n"
   ]
  },
  {
   "cell_type": "markdown",
   "metadata": {
    "deletable": true,
    "editable": true
   },
   "source": [
    "Check the shape of the tensor that will be output by the convolutional layer. It is (?, 86, 86, 42) which means that there is an arbitrary number of images (this is the ?), each image is 86 pixels wide and 86 pixels high, and there are 42 different channels, one channel for each of the filters."
   ]
  },
  {
   "cell_type": "code",
   "execution_count": 517,
   "metadata": {
    "collapsed": false,
    "deletable": true,
    "editable": true
   },
   "outputs": [
    {
     "data": {
      "text/plain": [
       "<tf.Tensor 'Relu_9:0' shape=(?, 128, 128, 42) dtype=float32>"
      ]
     },
     "execution_count": 517,
     "metadata": {},
     "output_type": "execute_result"
    }
   ],
   "source": [
    "layer_conv1\n"
   ]
  },
  {
   "cell_type": "markdown",
   "metadata": {
    "deletable": true,
    "editable": true
   },
   "source": [
    "### local response normalization\n",
    "Create the second convolutional layer, which takes as input the output from the first convolutional layer. The number of input channels corresponds to the number of filters in the first convolutional layer.\n",
    "\n",
    "\n"
   ]
  },
  {
   "cell_type": "code",
   "execution_count": 518,
   "metadata": {
    "collapsed": true,
    "deletable": true,
    "editable": true
   },
   "outputs": [],
   "source": [
    "layer_conv2 =tf.nn.lrn(input=layer_conv1, depth_radius=None, bias=None, alpha=None, beta=None, name=None)"
   ]
  },
  {
   "cell_type": "markdown",
   "metadata": {
    "deletable": true,
    "editable": true
   },
   "source": [
    " Check the shape of the tensor that will be output from this convolutional layer. The shape is (?, 29, 29, 20) where the ? again means that there is an arbitrary number of images, with each image having width and height of 29 pixels, and there are 20 channels, one for each filter.\n",
    "\n",
    "\n"
   ]
  },
  {
   "cell_type": "code",
   "execution_count": 519,
   "metadata": {
    "collapsed": false,
    "deletable": true,
    "editable": true
   },
   "outputs": [
    {
     "data": {
      "text/plain": [
       "<tf.Tensor 'LRN_6:0' shape=(?, 128, 128, 42) dtype=float32>"
      ]
     },
     "execution_count": 519,
     "metadata": {},
     "output_type": "execute_result"
    }
   ],
   "source": [
    "layer_conv2\n"
   ]
  },
  {
   "cell_type": "code",
   "execution_count": 520,
   "metadata": {
    "collapsed": true,
    "deletable": true,
    "editable": true
   },
   "outputs": [],
   "source": [
    "def new_conv_layer(input,              # The previous layer.\n",
    "                   num_input_channels, # Num. channels in prev. layer.\n",
    "                   filter_size,        # Width and height of each filter.\n",
    "                   num_filters,        # Number of filters.\n",
    "                   use_pooling=True):  # Use 2x2 avg-pooling.\n",
    "\n",
    "    # Shape of the filter-weights for the convolution.\n",
    "    # This format is determined by the TensorFlow API.\n",
    "    shape = [filter_size, filter_size, num_input_channels, num_filters]\n",
    "\n",
    "    # Create new weights aka. filters with the given shape.\n",
    "    weights = new_weights(shape=shape)\n",
    "\n",
    "    # Create new biases, one for each filter.\n",
    "    biases = new_biases(length=num_filters)\n",
    "\n",
    "    # Create the TensorFlow operation for convolution.\n",
    "    # Note the strides are set to 1 in all dimensions.\n",
    "    # The first and last stride must always be 1,\n",
    "    # because the first is for the image-number and\n",
    "    # the last is for the input-channel.\n",
    "    # But e.g. strides=[1, 2, 2, 1] would mean that the filter\n",
    "    # is moved 2 pixels across the x- and y-axis of the image.\n",
    "    # The padding is set to 'SAME' which means the input image\n",
    "    # is padded with zeroes so the size of the output is the same.\n",
    "    layer = tf.nn.conv2d(input=input,\n",
    "                         filter=weights,\n",
    "                         strides=[1, 1, 2, 1],\n",
    "                         padding='SAME')\n",
    "\n",
    "    # Add the biases to the results of the convolution.\n",
    "    # A bias-value is added to each filter-channel.\n",
    "    layer += biases\n",
    "\n",
    "    # Use pooling to down-sample the image resolution?\n",
    "    if use_pooling:\n",
    "        # This is 2x2 max-pooling, which means that we\n",
    "        # consider 2x2 windows and select the largest value\n",
    "        # in each window. Then we move 2 pixels to the next window.\n",
    "        layer = tf.nn.avg_pool(value=layer,\n",
    "                               ksize=[1, 3, 3, 1],\n",
    "                               strides=[1, 2, 1, 1],\n",
    "                               padding='SAME')\n",
    "\n",
    "    # Rectified Linear Unit (ReLU).\n",
    "    # It calculates max(x, 0) for each input pixel x.\n",
    "    # This adds some non-linearity to the formula and allows us\n",
    "    # to learn more complicated functions.\n",
    "    layer = tf.nn.relu(layer)\n",
    "\n",
    "    # Note that ReLU is normally executed before the pooling,\n",
    "    # but since relu(max_pool(x)) == max_pool(relu(x)) we can\n",
    "    # save 75% of the relu-operations by max-pooling first.\n",
    "\n",
    "    # We return both the resulting layer and the filter-weights\n",
    "    # because we will plot the weights later.\n",
    "    return layer, weights\n"
   ]
  },
  {
   "cell_type": "markdown",
   "metadata": {
    "deletable": true,
    "editable": true
   },
   "source": [
    "### Convolutional Layer 3\n",
    "Create the second convolutional layer, which takes as input the output from the second convolutional layer. The number of input channels corresponds to the number of filters in the second convolutional layer.\n"
   ]
  },
  {
   "cell_type": "code",
   "execution_count": 521,
   "metadata": {
    "collapsed": false,
    "deletable": true,
    "editable": true
   },
   "outputs": [],
   "source": [
    "layer_conv3, weights_conv3 = \\\n",
    "    new_conv_layer(input=layer_conv2,\n",
    "                   num_input_channels=num_filters1,\n",
    "                   filter_size=filter_size3,\n",
    "                   num_filters=num_filters3,\n",
    "                   use_pooling=True)"
   ]
  },
  {
   "cell_type": "code",
   "execution_count": 522,
   "metadata": {
    "collapsed": false,
    "deletable": true,
    "editable": true
   },
   "outputs": [
    {
     "data": {
      "text/plain": [
       "<tf.Tensor 'Relu_10:0' shape=(?, 64, 64, 20) dtype=float32>"
      ]
     },
     "execution_count": 522,
     "metadata": {},
     "output_type": "execute_result"
    }
   ],
   "source": [
    "layer_conv3"
   ]
  },
  {
   "cell_type": "markdown",
   "metadata": {
    "deletable": true,
    "editable": true
   },
   "source": [
    "### local response normalization\n",
    "\n"
   ]
  },
  {
   "cell_type": "code",
   "execution_count": 523,
   "metadata": {
    "collapsed": false,
    "deletable": true,
    "editable": true
   },
   "outputs": [],
   "source": [
    "layer_conv4 =tf.nn.lrn(input=layer_conv3, depth_radius=None, bias=None, alpha=None, beta=None, name=None)"
   ]
  },
  {
   "cell_type": "code",
   "execution_count": 524,
   "metadata": {
    "collapsed": false,
    "deletable": true,
    "editable": true
   },
   "outputs": [
    {
     "data": {
      "text/plain": [
       "<tf.Tensor 'LRN_7:0' shape=(?, 64, 64, 20) dtype=float32>"
      ]
     },
     "execution_count": 524,
     "metadata": {},
     "output_type": "execute_result"
    }
   ],
   "source": [
    "layer_conv4"
   ]
  },
  {
   "cell_type": "markdown",
   "metadata": {
    "deletable": true,
    "editable": true
   },
   "source": [
    "### Convolutional Layer 5\n"
   ]
  },
  {
   "cell_type": "code",
   "execution_count": 525,
   "metadata": {
    "collapsed": false,
    "deletable": true,
    "editable": true
   },
   "outputs": [],
   "source": [
    "layer_conv5, weights_conv5 = \\\n",
    "    new_conv_layer(input=layer_conv4,\n",
    "                   num_input_channels=num_filters3,\n",
    "                   filter_size=filter_size5,\n",
    "                   num_filters=num_filters5,\n",
    "                   use_pooling=True)"
   ]
  },
  {
   "cell_type": "code",
   "execution_count": 526,
   "metadata": {
    "collapsed": false,
    "deletable": true,
    "editable": true
   },
   "outputs": [
    {
     "data": {
      "text/plain": [
       "<tf.Tensor 'Relu_11:0' shape=(?, 32, 32, 5) dtype=float32>"
      ]
     },
     "execution_count": 526,
     "metadata": {},
     "output_type": "execute_result"
    }
   ],
   "source": [
    "layer_conv5"
   ]
  },
  {
   "cell_type": "code",
   "execution_count": null,
   "metadata": {
    "collapsed": true,
    "deletable": true,
    "editable": true
   },
   "outputs": [],
   "source": []
  },
  {
   "cell_type": "code",
   "execution_count": null,
   "metadata": {
    "collapsed": true,
    "deletable": true,
    "editable": true
   },
   "outputs": [],
   "source": []
  },
  {
   "cell_type": "markdown",
   "metadata": {
    "deletable": true,
    "editable": true
   },
   "source": [
    "### Flatten Layer\n",
    "The convolutional layers output 4-dim tensors. We now wish to use these as input in a fully-connected network, which requires for the tensors to be reshaped or flattened to 2-dim tensors."
   ]
  },
  {
   "cell_type": "code",
   "execution_count": 527,
   "metadata": {
    "collapsed": true,
    "deletable": true,
    "editable": true
   },
   "outputs": [],
   "source": [
    "layer_flat, num_features = flatten_layer(layer_conv5)\n"
   ]
  },
  {
   "cell_type": "markdown",
   "metadata": {
    "deletable": true,
    "editable": true
   },
   "source": [
    "Check that the tensors now have shape (?, 4200) which means there's an arbitrary number of images which have been flattened to vectors of length 4200 each. Note that 4200 = 10 x 10 x 42."
   ]
  },
  {
   "cell_type": "code",
   "execution_count": 528,
   "metadata": {
    "collapsed": false,
    "deletable": true,
    "editable": true
   },
   "outputs": [
    {
     "data": {
      "text/plain": [
       "<tf.Tensor 'Reshape_16:0' shape=(?, 5120) dtype=float32>"
      ]
     },
     "execution_count": 528,
     "metadata": {},
     "output_type": "execute_result"
    }
   ],
   "source": [
    "layer_flat"
   ]
  },
  {
   "cell_type": "code",
   "execution_count": 529,
   "metadata": {
    "collapsed": false,
    "deletable": true,
    "editable": true
   },
   "outputs": [
    {
     "data": {
      "text/plain": [
       "5120"
      ]
     },
     "execution_count": 529,
     "metadata": {},
     "output_type": "execute_result"
    }
   ],
   "source": [
    "num_features\n"
   ]
  },
  {
   "cell_type": "markdown",
   "metadata": {
    "deletable": true,
    "editable": true
   },
   "source": [
    "### Fully-Connected Layer 1\n",
    "Add a fully-connected layer to the network. The input is the flattened layer from the previous convolution. The number of neurons or nodes in the fully-connected layer is fc_size. ReLU is used so we can learn non-linear relations.\n",
    "\n",
    "\n"
   ]
  },
  {
   "cell_type": "code",
   "execution_count": 530,
   "metadata": {
    "collapsed": true,
    "deletable": true,
    "editable": true
   },
   "outputs": [],
   "source": [
    "# layer_fc1 = new_fc_layer(input=layer_flat,\n",
    "#                          num_inputs=num_features,\n",
    "#                          num_outputs=fc_size,\n",
    "#                          use_relu=True)"
   ]
  },
  {
   "cell_type": "markdown",
   "metadata": {
    "deletable": true,
    "editable": true
   },
   "source": [
    "Check that the output of the fully-connected layer is a tensor with shape (?, 128) where the ? means there is an arbitrary number of images and fc_size == 128.\n",
    "\n"
   ]
  },
  {
   "cell_type": "code",
   "execution_count": 531,
   "metadata": {
    "collapsed": false,
    "deletable": true,
    "editable": true
   },
   "outputs": [],
   "source": [
    "# layer_fc1"
   ]
  },
  {
   "cell_type": "markdown",
   "metadata": {
    "deletable": true,
    "editable": true
   },
   "source": [
    "### Fully-Connected Layer 2"
   ]
  },
  {
   "cell_type": "code",
   "execution_count": 532,
   "metadata": {
    "collapsed": false,
    "deletable": true,
    "editable": true
   },
   "outputs": [],
   "source": [
    "layer_fc2 = new_fc_layer(input=layer_flat,\n",
    "                         num_inputs=num_features,\n",
    "                         num_outputs=num_classes,\n",
    "                         use_relu=False)"
   ]
  },
  {
   "cell_type": "code",
   "execution_count": 533,
   "metadata": {
    "collapsed": false,
    "deletable": true,
    "editable": true
   },
   "outputs": [
    {
     "data": {
      "text/plain": [
       "<tf.Tensor 'add_15:0' shape=(?, 7) dtype=float32>"
      ]
     },
     "execution_count": 533,
     "metadata": {},
     "output_type": "execute_result"
    }
   ],
   "source": [
    "layer_fc2\n"
   ]
  },
  {
   "cell_type": "markdown",
   "metadata": {
    "deletable": true,
    "editable": true
   },
   "source": [
    "### Predicted Class\n",
    "The second fully-connected layer estimates how likely it is that the input image belongs to each of the 10 classes. However, these estimates are a bit rough and difficult to interpret because the numbers may be very small or large, so we want to normalize them so that each element is limited between zero and one and the 10 elements sum to one. This is calculated using the so-called softmax function and the result is stored in y_pred.\n",
    "\n",
    "\n"
   ]
  },
  {
   "cell_type": "code",
   "execution_count": 534,
   "metadata": {
    "collapsed": true,
    "deletable": true,
    "editable": true
   },
   "outputs": [],
   "source": [
    "y_pred = tf.nn.softmax(layer_fc2)"
   ]
  },
  {
   "cell_type": "code",
   "execution_count": 535,
   "metadata": {
    "collapsed": true,
    "deletable": true,
    "editable": true
   },
   "outputs": [],
   "source": [
    "#The class-number is the index of the largest element.\n",
    "y_pred_cls = tf.argmax(y_pred, dimension=1)"
   ]
  },
  {
   "cell_type": "code",
   "execution_count": 536,
   "metadata": {
    "collapsed": false,
    "deletable": true,
    "editable": true
   },
   "outputs": [
    {
     "data": {
      "text/plain": [
       "<tf.Tensor 'strided_slice_7:0' shape=(?,) dtype=int64>"
      ]
     },
     "execution_count": 536,
     "metadata": {},
     "output_type": "execute_result"
    }
   ],
   "source": [
    "y_pred_cls[:5]"
   ]
  },
  {
   "cell_type": "markdown",
   "metadata": {
    "deletable": true,
    "editable": true
   },
   "source": [
    "### Cost-function to be optimized\n",
    "To make the model better at classifying the input images, we must somehow change the variables for all the network layers. To do this we first need to know how well the model currently performs by comparing the predicted output of the model y_pred to the desired output y_true.\n",
    "The cross-entropy is a performance measure used in classification. The cross-entropy is a continuous function that is always positive and if the predicted output of the model exactly matches the desired output then the cross-entropy equals zero. The goal of optimization is therefore to minimize the cross-entropy so it gets as close to zero as possible by changing the variables of the network layers.\n",
    "TensorFlow has a built-in function for calculating the cross-entropy. Note that the function calculates the softmax internally so we must use the output of layer_fc2 directly rather than y_pred which has already had the softmax applied."
   ]
  },
  {
   "cell_type": "code",
   "execution_count": 537,
   "metadata": {
    "collapsed": true,
    "deletable": true,
    "editable": true
   },
   "outputs": [],
   "source": [
    "cross_entropy = tf.nn.softmax_cross_entropy_with_logits(logits=layer_fc2,\n",
    "                                                        labels=y_true)"
   ]
  },
  {
   "cell_type": "markdown",
   "metadata": {
    "deletable": true,
    "editable": true
   },
   "source": [
    "We have now calculated the cross-entropy for each of the image classifications so we have a measure of how well the model performs on each image individually. But in order to use the cross-entropy to guide the optimization of the model's variables we need a single scalar value, so we simply take the average of the cross-entropy for all the image classifications."
   ]
  },
  {
   "cell_type": "code",
   "execution_count": 538,
   "metadata": {
    "collapsed": true,
    "deletable": true,
    "editable": true
   },
   "outputs": [],
   "source": [
    "cost = tf.reduce_mean(cross_entropy)\n"
   ]
  },
  {
   "cell_type": "markdown",
   "metadata": {
    "deletable": true,
    "editable": true
   },
   "source": [
    "### Optimization Method\n",
    "Now that we have a cost measure that must be minimized, we can then create an optimizer. In this case it is the AdamOptimizer which is an advanced form of Gradient Descent.\n",
    "Note that optimization is not performed at this point. In fact, nothing is calculated at all, we just add the optimizer-object to the TensorFlow graph for later execution.\n",
    "\n"
   ]
  },
  {
   "cell_type": "code",
   "execution_count": 539,
   "metadata": {
    "collapsed": true,
    "deletable": true,
    "editable": true
   },
   "outputs": [],
   "source": [
    "optimizer = tf.train.AdamOptimizer(learning_rate=1e-4).minimize(cost)"
   ]
  },
  {
   "cell_type": "markdown",
   "metadata": {
    "deletable": true,
    "editable": true
   },
   "source": [
    "### Performance Measures\n",
    "We need a few more performance measures to display the progress to the user.\n",
    "This is a vector of booleans whether the predicted class equals the true class of each image."
   ]
  },
  {
   "cell_type": "code",
   "execution_count": 540,
   "metadata": {
    "collapsed": true,
    "deletable": true,
    "editable": true
   },
   "outputs": [],
   "source": [
    "correct_prediction = tf.equal(y_pred_cls, y_true_cls)\n"
   ]
  },
  {
   "cell_type": "code",
   "execution_count": 541,
   "metadata": {
    "collapsed": true,
    "deletable": true,
    "editable": true
   },
   "outputs": [],
   "source": [
    "accuracy = tf.reduce_mean(tf.cast(correct_prediction, tf.float32))\n"
   ]
  },
  {
   "cell_type": "markdown",
   "metadata": {
    "deletable": true,
    "editable": true
   },
   "source": [
    "### TensorFlow Run\n",
    "Create TensorFlow session\n",
    "Once the TensorFlow graph has been created, we have to create a TensorFlow session which is used to execute the graph."
   ]
  },
  {
   "cell_type": "code",
   "execution_count": 542,
   "metadata": {
    "collapsed": true,
    "deletable": true,
    "editable": true
   },
   "outputs": [],
   "source": [
    "session = tf.Session()\n"
   ]
  },
  {
   "cell_type": "code",
   "execution_count": 543,
   "metadata": {
    "collapsed": true,
    "deletable": true,
    "editable": true
   },
   "outputs": [],
   "source": [
    "#initialize variables\n",
    "#The variables for weights and biases must be initialized before we start optimizing them.\n",
    "\n",
    "session.run(tf.global_variables_initializer())"
   ]
  },
  {
   "cell_type": "markdown",
   "metadata": {
    "deletable": true,
    "editable": true
   },
   "source": [
    "### Helper-function to perform optimization iterations\n",
    "There are 55,000 images in the training-set. It takes a long time to calculate the gradient of the model using all these images. We therefore only use a small batch of images in each iteration of the optimizer.\n",
    "If your computer crashes or becomes very slow because you run out of RAM, then you may try and lower this number, but you may then need to perform more optimization iterations.\n",
    "\n"
   ]
  },
  {
   "cell_type": "code",
   "execution_count": 544,
   "metadata": {
    "collapsed": true,
    "deletable": true,
    "editable": true
   },
   "outputs": [],
   "source": [
    "train_batch_size = 170\n"
   ]
  },
  {
   "cell_type": "markdown",
   "metadata": {
    "deletable": true,
    "editable": true
   },
   "source": [
    "Function for performing a number of optimization iterations so as to gradually improve the variables of the network layers. In each iteration, a new batch of data is selected from the training-set and then TensorFlow executes the optimizer using those training samples. The progress is printed every 100 iterations.\n",
    "\n"
   ]
  },
  {
   "cell_type": "code",
   "execution_count": 545,
   "metadata": {
    "collapsed": true,
    "deletable": true,
    "editable": true
   },
   "outputs": [],
   "source": [
    "# Counter for total number of iterations performed so far.\n",
    "total_iterations = 0\n",
    "\n",
    "def optimize(num_iterations):\n",
    "    # Ensure we update the global variable rather than a local copy.\n",
    "    global total_iterations\n",
    "    num_train = len(train_images)\n",
    "    \n",
    "    \n",
    "    \n",
    "    # Start-time used for printing time-usage below.\n",
    "    start_time = time.time()\n",
    "    i = 0\n",
    "    \n",
    "    for k in range(total_iterations,\n",
    "                   total_iterations + num_iterations):\n",
    "\n",
    "        # Get a batch of training examples.\n",
    "        # x_batch now holds a batch of images and\n",
    "        # y_true_batch are the true labels for those images.\n",
    "#         idx = np.random.randint(3000, size=150)\n",
    "#         x_batch = train_images[idx,:]\n",
    "#         y_true_batch = train_labels[idx,:]\n",
    "\n",
    "        while i < num_train:\n",
    "        # The ending index for the next batch is denoted j.\n",
    "            j = min(i + test_batch_size, num_train)\n",
    "        \n",
    "        \n",
    "            x_batch = train_images[i:j, :]\n",
    "\n",
    "            y_true_batch = train_labels[i:j, :]\n",
    "\n",
    "            # Put the batch into a dict with the proper names\n",
    "            # for placeholder variables in the TensorFlow graph.\n",
    "            feed_dict_train = {x: x_batch,\n",
    "                               y_true: y_true_batch}\n",
    "\n",
    "            # Run the optimizer using this batch of training data.\n",
    "            # TensorFlow assigns the variables in feed_dict_train\n",
    "            # to the placeholder variables and then runs the optimizer.\n",
    "            session.run(optimizer, feed_dict=feed_dict_train)\n",
    "\n",
    "            # Print status every 100 iterations.\n",
    "            if k % 100 == 0:\n",
    "                # Calculate the accuracy on the training-set.\n",
    "                acc = session.run(accuracy, feed_dict=feed_dict_train)\n",
    "\n",
    "                # Message for printing.\n",
    "                msg = \"Optimization Iteration: {0:>6}, Training Accuracy: {1:>6.1%}\"\n",
    "\n",
    "                # Print it.\n",
    "                print(msg.format(k + 1, acc))\n",
    "            i = j\n",
    "    # Update the total number of iterations performed.\n",
    "    total_iterations += num_iterations\n",
    "\n",
    "    # Ending time.\n",
    "    end_time = time.time()\n",
    "\n",
    "    # Difference between start and end-times.\n",
    "    time_dif = end_time - start_time\n",
    "    # Calculate the accuracy on the training-set.\n",
    "   # accuracy = session.run(accuracy, feed_dict=feed_dict_train)\n",
    "    # Print the time-usage.\n",
    "     \n",
    "    print(\"Time usage: \" + str(timedelta(seconds=int(round(time_dif)))))\n",
    "    #print(\"Training Accuracy:\"+str(accuracy))\n",
    "\n"
   ]
  },
  {
   "cell_type": "markdown",
   "metadata": {
    "deletable": true,
    "editable": true
   },
   "source": [
    "### Helper-function to plot example errors\n",
    "Function for plotting examples of images from the test-set that have been mis-classified.\n",
    "\n"
   ]
  },
  {
   "cell_type": "code",
   "execution_count": 546,
   "metadata": {
    "collapsed": true,
    "deletable": true,
    "editable": true
   },
   "outputs": [],
   "source": [
    "def plot_example_errors(cls_pred, correct):\n",
    "    # This function is called from print_test_accuracy() below.\n",
    "\n",
    "    # cls_pred is an array of the predicted class-number for\n",
    "    # all images in the test-set.\n",
    "\n",
    "    # correct is a boolean array whether the predicted class\n",
    "    # is equal to the true class for each image in the test-set.\n",
    "\n",
    "    # Negate the boolean array.\n",
    "    incorrect = (correct == False)\n",
    "    \n",
    "    # Get the images from the test-set that have been\n",
    "    # incorrectly classified.\n",
    "    images = test_images[incorrect]\n",
    "    \n",
    "    # Get the predicted classes for those images.\n",
    "    cls_pred = cls_pred[incorrect]\n",
    "\n",
    "    # Get the true classes for those images.\n",
    "    cls_true = test_cls[incorrect]\n",
    "    \n",
    "    # Plot the first 9 images.\n",
    "#     plot_images(images=images[0:3],\n",
    "#                 cls_true=cls_true[0:3],\n",
    "#                 cls_pred=cls_pred[0:3])\n"
   ]
  },
  {
   "cell_type": "markdown",
   "metadata": {
    "deletable": true,
    "editable": true
   },
   "source": [
    "### Helper-function to plot confusion matrix\n",
    "\n"
   ]
  },
  {
   "cell_type": "code",
   "execution_count": 547,
   "metadata": {
    "collapsed": true,
    "deletable": true,
    "editable": true
   },
   "outputs": [],
   "source": [
    "def plot_confusion_matrix(cls_pred):\n",
    "    # This is called from print_test_accuracy() below.\n",
    "\n",
    "    # cls_pred is an array of the predicted class-number for\n",
    "    # all images in the test-set.\n",
    "\n",
    "    # Get the true classifications for the test-set.\n",
    "    cls_true = test_cls\n",
    "    \n",
    "    # Get the confusion matrix using sklearn.\n",
    "    cm = confusion_matrix(y_true=cls_true,\n",
    "                          y_pred=cls_pred)\n",
    "\n",
    "    # Print the confusion matrix as text.\n",
    "    print(cm)\n",
    "\n",
    "    # Plot the confusion matrix as an image.\n",
    "    plt.matshow(cm)\n",
    "\n",
    "    # Make various adjustments to the plot.\n",
    "    plt.colorbar()\n",
    "    tick_marks = np.arange(num_classes)\n",
    "    plt.xticks(tick_marks, range(num_classes))\n",
    "    plt.yticks(tick_marks, range(num_classes))\n",
    "    plt.xlabel('Predicted')\n",
    "    plt.ylabel('True')\n",
    "\n",
    "    # Ensure the plot is shown correctly with multiple plots\n",
    "    # in a single Notebook cell.\n",
    "    plt.show()\n"
   ]
  },
  {
   "cell_type": "markdown",
   "metadata": {
    "deletable": true,
    "editable": true
   },
   "source": [
    "### Helper-function for showing the performance\n",
    "Function for printing the classification accuracy on the test-set.\n",
    "It takes a while to compute the classification for all the images in the test-set, that's why the results are re-used by calling the above functions directly from this function, so the classifications don't have to be recalculated by each function.\n",
    "Note that this function can use a lot of computer memory, which is why the test-set is split into smaller batches. If you have little RAM in your computer and it crashes, then you can try and lower the batch-size.\n",
    "\n"
   ]
  },
  {
   "cell_type": "code",
   "execution_count": 548,
   "metadata": {
    "collapsed": true,
    "deletable": true,
    "editable": true
   },
   "outputs": [],
   "source": [
    "# Split the test-set into smaller batches of this size.\n",
    "test_batch_size = 43\n",
    "\n",
    "def print_test_accuracy(show_example_errors=False,\n",
    "                        show_confusion_matrix=False):\n",
    "\n",
    "    # Number of images in the test-set.\n",
    "    num_test = len(test_images)\n",
    "\n",
    "    # Allocate an array for the predicted classes which\n",
    "    # will be calculated in batches and filled into this array.\n",
    "    cls_pred = np.zeros(shape=num_test, dtype=np.int)\n",
    "\n",
    "    # Now calculate the predicted classes for the batches.\n",
    "    # We will just iterate through all the batches.\n",
    "    # There might be a more clever and Pythonic way of doing this.\n",
    "\n",
    "    # The starting index for the next batch is denoted i.\n",
    "    i = 0\n",
    "\n",
    "    while i < num_test:\n",
    "        # The ending index for the next batch is denoted j.\n",
    "        j = min(i + test_batch_size, num_test)\n",
    "\n",
    "        # Get the images from the test-set between index i and j.\n",
    "        images =test_images[i:j, :]\n",
    "\n",
    "        # Get the associated labels.\n",
    "        labels = test_labels[i:j, :]\n",
    "\n",
    "        # Create a feed-dict with these images and labels.\n",
    "        feed_dict = {x: images,\n",
    "                     y_true: labels}\n",
    "\n",
    "        # Calculate the predicted class using TensorFlow.\n",
    "        cls_pred[i:j] = session.run(y_pred_cls, feed_dict=feed_dict)\n",
    "\n",
    "        # Set the start-index for the next batch to the\n",
    "        # end-index of the current batch.\n",
    "        i = j\n",
    "\n",
    "    # Convenience variable for the true class-numbers of the test-set.\n",
    "    cls_true = test_cls\n",
    "\n",
    "    # Create a boolean array whether each image is correctly classified.\n",
    "    correct = (cls_true == cls_pred)\n",
    "\n",
    "    # Calculate the number of correctly classified images.\n",
    "    # When summing a boolean array, False means 0 and True means 1.\n",
    "    correct_sum = correct.sum()\n",
    "\n",
    "    # Classification accuracy is the number of correctly classified\n",
    "    # images divided by the total number of images in the test-set.\n",
    "    acc = float(correct_sum) / num_test\n",
    "\n",
    "    # Print the accuracy.\n",
    "    msg = \"Accuracy on Test-Set: {0:.1%} ({1} / {2})\"\n",
    "    print(msg.format(acc, correct_sum, num_test))\n",
    "\n",
    "    # Plot some examples of mis-classifications, if desired.\n",
    "    if show_example_errors:\n",
    "        print(\"Example errors:\")\n",
    "        plot_example_errors(cls_pred=cls_pred, correct=correct)\n",
    "\n",
    "    # Plot the confusion matrix, if desired.\n",
    "    if show_confusion_matrix:\n",
    "        print(\"Confusion Matrix:\")\n",
    "        plot_confusion_matrix(cls_pred=cls_pred)\n"
   ]
  },
  {
   "cell_type": "markdown",
   "metadata": {
    "deletable": true,
    "editable": true
   },
   "source": [
    "### Performance before any optimization\n",
    "The accuracy on the test-set is very low because the model variables have only been initialized and not optimized at all, so it just classifies the images randomly."
   ]
  },
  {
   "cell_type": "code",
   "execution_count": 549,
   "metadata": {
    "collapsed": false,
    "deletable": true,
    "editable": true
   },
   "outputs": [
    {
     "name": "stdout",
     "output_type": "stream",
     "text": [
      "Accuracy on Test-Set: 15.0% (80 / 532)\n",
      "Example errors:\n"
     ]
    }
   ],
   "source": [
    "print_test_accuracy(show_example_errors=True)\n"
   ]
  },
  {
   "cell_type": "code",
   "execution_count": 628,
   "metadata": {
    "collapsed": false,
    "deletable": true,
    "editable": true
   },
   "outputs": [
    {
     "name": "stdout",
     "output_type": "stream",
     "text": [
      "Optimization Iteration: 2780001, Training Accuracy: 100.0%\n",
      "Optimization Iteration: 2780001, Training Accuracy:  97.7%\n",
      "Optimization Iteration: 2780001, Training Accuracy: 100.0%\n",
      "Optimization Iteration: 2780001, Training Accuracy:  97.7%\n",
      "Optimization Iteration: 2780001, Training Accuracy: 100.0%\n",
      "Optimization Iteration: 2780001, Training Accuracy:  97.7%\n",
      "Optimization Iteration: 2780001, Training Accuracy:  95.3%\n",
      "Optimization Iteration: 2780001, Training Accuracy: 100.0%\n",
      "Optimization Iteration: 2780001, Training Accuracy:  97.7%\n",
      "Optimization Iteration: 2780001, Training Accuracy: 100.0%\n",
      "Optimization Iteration: 2780001, Training Accuracy:  97.7%\n",
      "Optimization Iteration: 2780001, Training Accuracy:  90.7%\n",
      "Optimization Iteration: 2780001, Training Accuracy: 100.0%\n",
      "Optimization Iteration: 2780001, Training Accuracy:  93.0%\n",
      "Optimization Iteration: 2780001, Training Accuracy:  90.7%\n",
      "Optimization Iteration: 2780001, Training Accuracy:  76.7%\n",
      "Optimization Iteration: 2780001, Training Accuracy:  90.7%\n",
      "Optimization Iteration: 2780001, Training Accuracy:  97.7%\n",
      "Optimization Iteration: 2780001, Training Accuracy: 100.0%\n",
      "Optimization Iteration: 2780001, Training Accuracy:  95.3%\n",
      "Optimization Iteration: 2780001, Training Accuracy:  97.7%\n",
      "Optimization Iteration: 2780001, Training Accuracy:  97.7%\n",
      "Optimization Iteration: 2780001, Training Accuracy:  97.7%\n",
      "Optimization Iteration: 2780001, Training Accuracy: 100.0%\n",
      "Optimization Iteration: 2780001, Training Accuracy:  97.7%\n",
      "Optimization Iteration: 2780001, Training Accuracy:  97.7%\n",
      "Optimization Iteration: 2780001, Training Accuracy: 100.0%\n",
      "Optimization Iteration: 2780001, Training Accuracy: 100.0%\n",
      "Optimization Iteration: 2780001, Training Accuracy:  97.7%\n",
      "Optimization Iteration: 2780001, Training Accuracy:  95.3%\n",
      "Optimization Iteration: 2780001, Training Accuracy: 100.0%\n",
      "Optimization Iteration: 2780001, Training Accuracy: 100.0%\n",
      "Optimization Iteration: 2780001, Training Accuracy:  95.3%\n",
      "Optimization Iteration: 2780001, Training Accuracy: 100.0%\n",
      "Optimization Iteration: 2780001, Training Accuracy:  97.7%\n",
      "Optimization Iteration: 2780001, Training Accuracy: 100.0%\n",
      "Optimization Iteration: 2780001, Training Accuracy: 100.0%\n",
      "Optimization Iteration: 2780001, Training Accuracy: 100.0%\n",
      "Time usage: 0:03:15\n"
     ]
    }
   ],
   "source": [
    "#Performance after 1 optimization iteration\n",
    "optimize(num_iterations=10000)\n"
   ]
  },
  {
   "cell_type": "code",
   "execution_count": 629,
   "metadata": {
    "collapsed": false,
    "deletable": true,
    "editable": true
   },
   "outputs": [
    {
     "name": "stdout",
     "output_type": "stream",
     "text": [
      "Accuracy on Test-Set: 90.2% (480 / 532)\n"
     ]
    }
   ],
   "source": [
    "print_test_accuracy()\n"
   ]
  },
  {
   "cell_type": "code",
   "execution_count": 630,
   "metadata": {
    "collapsed": false,
    "deletable": true,
    "editable": true
   },
   "outputs": [
    {
     "name": "stdout",
     "output_type": "stream",
     "text": [
      "Optimization Iteration: 2790001, Training Accuracy: 100.0%\n",
      "Optimization Iteration: 2790001, Training Accuracy:  97.7%\n",
      "Optimization Iteration: 2790001, Training Accuracy: 100.0%\n",
      "Optimization Iteration: 2790001, Training Accuracy:  95.3%\n",
      "Optimization Iteration: 2790001, Training Accuracy: 100.0%\n",
      "Optimization Iteration: 2790001, Training Accuracy:  97.7%\n",
      "Optimization Iteration: 2790001, Training Accuracy:  95.3%\n",
      "Optimization Iteration: 2790001, Training Accuracy:  97.7%\n",
      "Optimization Iteration: 2790001, Training Accuracy:  97.7%\n",
      "Optimization Iteration: 2790001, Training Accuracy: 100.0%\n",
      "Optimization Iteration: 2790001, Training Accuracy: 100.0%\n",
      "Optimization Iteration: 2790001, Training Accuracy:  90.7%\n",
      "Optimization Iteration: 2790001, Training Accuracy: 100.0%\n",
      "Optimization Iteration: 2790001, Training Accuracy:  93.0%\n",
      "Optimization Iteration: 2790001, Training Accuracy:  90.7%\n",
      "Optimization Iteration: 2790001, Training Accuracy:  83.7%\n",
      "Optimization Iteration: 2790001, Training Accuracy:  93.0%\n",
      "Optimization Iteration: 2790001, Training Accuracy:  97.7%\n",
      "Optimization Iteration: 2790001, Training Accuracy: 100.0%\n",
      "Optimization Iteration: 2790001, Training Accuracy:  97.7%\n",
      "Optimization Iteration: 2790001, Training Accuracy:  97.7%\n",
      "Optimization Iteration: 2790001, Training Accuracy:  97.7%\n",
      "Optimization Iteration: 2790001, Training Accuracy:  97.7%\n",
      "Optimization Iteration: 2790001, Training Accuracy: 100.0%\n",
      "Optimization Iteration: 2790001, Training Accuracy:  97.7%\n",
      "Optimization Iteration: 2790001, Training Accuracy:  97.7%\n",
      "Optimization Iteration: 2790001, Training Accuracy: 100.0%\n",
      "Optimization Iteration: 2790001, Training Accuracy: 100.0%\n",
      "Optimization Iteration: 2790001, Training Accuracy:  97.7%\n",
      "Optimization Iteration: 2790001, Training Accuracy:  95.3%\n",
      "Optimization Iteration: 2790001, Training Accuracy: 100.0%\n",
      "Optimization Iteration: 2790001, Training Accuracy: 100.0%\n",
      "Optimization Iteration: 2790001, Training Accuracy:  95.3%\n",
      "Optimization Iteration: 2790001, Training Accuracy: 100.0%\n",
      "Optimization Iteration: 2790001, Training Accuracy:  97.7%\n",
      "Optimization Iteration: 2790001, Training Accuracy: 100.0%\n",
      "Optimization Iteration: 2790001, Training Accuracy: 100.0%\n",
      "Optimization Iteration: 2790001, Training Accuracy: 100.0%\n",
      "Time usage: 0:03:15\n"
     ]
    }
   ],
   "source": [
    "#100 iteration\n",
    "optimize(num_iterations=90000) # We already performed 1 iteration above.\n"
   ]
  },
  {
   "cell_type": "code",
   "execution_count": 631,
   "metadata": {
    "collapsed": false,
    "deletable": true,
    "editable": true
   },
   "outputs": [],
   "source": [
    "#print_test_accuracy()\n"
   ]
  },
  {
   "cell_type": "code",
   "execution_count": 632,
   "metadata": {
    "collapsed": false,
    "deletable": true,
    "editable": true
   },
   "outputs": [
    {
     "name": "stdout",
     "output_type": "stream",
     "text": [
      "Accuracy on Test-Set: 92.1% (490 / 532)\n",
      "Example errors:\n",
      "Confusion Matrix:\n",
      "[[74  0  1  0  0  0  0]\n",
      " [ 0 77  0  0  0  0  0]\n",
      " [ 4  3 70  0  0  0  0]\n",
      " [ 3  7  0 66  0  0  0]\n",
      " [ 0  0  0  0 72  3  0]\n",
      " [ 0  0  0  0  0 72  0]\n",
      " [ 1  2  9  3  0  6 59]]\n"
     ]
    },
    {
     "data": {
      "image/png": "[encoded data removed]",
      "text/plain": [
       "<matplotlib.figure.Figure at 0x11e3d99d0>"
      ]
     },
     "metadata": {},
     "output_type": "display_data"
    }
   ],
   "source": [
    "print_test_accuracy(show_example_errors=True,show_confusion_matrix=True)\n"
   ]
  },
  {
   "cell_type": "code",
   "execution_count": 633,
   "metadata": {
    "collapsed": false,
    "deletable": true,
    "editable": true
   },
   "outputs": [
    {
     "name": "stdout",
     "output_type": "stream",
     "text": [
      "Optimization Iteration: 2880001, Training Accuracy: 100.0%\n",
      "Optimization Iteration: 2880001, Training Accuracy:  97.7%\n",
      "Optimization Iteration: 2880001, Training Accuracy: 100.0%\n",
      "Optimization Iteration: 2880001, Training Accuracy:  97.7%\n",
      "Optimization Iteration: 2880001, Training Accuracy: 100.0%\n",
      "Optimization Iteration: 2880001, Training Accuracy:  97.7%\n",
      "Optimization Iteration: 2880001, Training Accuracy:  95.3%\n",
      "Optimization Iteration: 2880001, Training Accuracy: 100.0%\n",
      "Optimization Iteration: 2880001, Training Accuracy: 100.0%\n",
      "Optimization Iteration: 2880001, Training Accuracy: 100.0%\n",
      "Optimization Iteration: 2880001, Training Accuracy: 100.0%\n",
      "Optimization Iteration: 2880001, Training Accuracy:  93.0%\n",
      "Optimization Iteration: 2880001, Training Accuracy: 100.0%\n",
      "Optimization Iteration: 2880001, Training Accuracy:  95.3%\n",
      "Optimization Iteration: 2880001, Training Accuracy:  88.4%\n",
      "Optimization Iteration: 2880001, Training Accuracy:  81.4%\n",
      "Optimization Iteration: 2880001, Training Accuracy:  90.7%\n",
      "Optimization Iteration: 2880001, Training Accuracy: 100.0%\n",
      "Optimization Iteration: 2880001, Training Accuracy: 100.0%\n",
      "Optimization Iteration: 2880001, Training Accuracy:  95.3%\n",
      "Optimization Iteration: 2880001, Training Accuracy:  97.7%\n",
      "Optimization Iteration: 2880001, Training Accuracy:  97.7%\n",
      "Optimization Iteration: 2880001, Training Accuracy:  97.7%\n",
      "Optimization Iteration: 2880001, Training Accuracy: 100.0%\n",
      "Optimization Iteration: 2880001, Training Accuracy:  97.7%\n",
      "Optimization Iteration: 2880001, Training Accuracy: 100.0%\n",
      "Optimization Iteration: 2880001, Training Accuracy: 100.0%\n",
      "Optimization Iteration: 2880001, Training Accuracy: 100.0%\n",
      "Optimization Iteration: 2880001, Training Accuracy:  97.7%\n",
      "Optimization Iteration: 2880001, Training Accuracy:  95.3%\n",
      "Optimization Iteration: 2880001, Training Accuracy: 100.0%\n",
      "Optimization Iteration: 2880001, Training Accuracy: 100.0%\n",
      "Optimization Iteration: 2880001, Training Accuracy:  97.7%\n",
      "Optimization Iteration: 2880001, Training Accuracy: 100.0%\n",
      "Optimization Iteration: 2880001, Training Accuracy:  97.7%\n",
      "Optimization Iteration: 2880001, Training Accuracy: 100.0%\n",
      "Optimization Iteration: 2880001, Training Accuracy: 100.0%\n",
      "Optimization Iteration: 2880001, Training Accuracy: 100.0%\n",
      "Time usage: 0:03:10\n"
     ]
    }
   ],
   "source": [
    "#1000 iteration\n",
    "optimize(num_iterations=40000) # We performed 100 iterations above.\n"
   ]
  },
  {
   "cell_type": "code",
   "execution_count": 634,
   "metadata": {
    "collapsed": false,
    "deletable": true,
    "editable": true
   },
   "outputs": [
    {
     "name": "stdout",
     "output_type": "stream",
     "text": [
      "Accuracy on Test-Set: 92.7% (493 / 532)\n",
      "Example errors:\n",
      "Confusion Matrix:\n",
      "[[72  2  1  0  0  0  0]\n",
      " [ 0 77  0  0  0  0  0]\n",
      " [ 3  3 70  0  0  1  0]\n",
      " [ 1  5  0 70  0  0  0]\n",
      " [ 0  0  0  0 72  3  0]\n",
      " [ 0  0  0  0  0 72  0]\n",
      " [ 1  1  9  3  0  6 60]]\n"
     ]
    },
    {
     "data": {
      "image/png": "[encoded data removed]",
      "text/plain": [
       "<matplotlib.figure.Figure at 0x11cb444d0>"
      ]
     },
     "metadata": {},
     "output_type": "display_data"
    }
   ],
   "source": [
    "print_test_accuracy(show_example_errors=True,show_confusion_matrix=True)\n"
   ]
  },
  {
   "cell_type": "code",
   "execution_count": 635,
   "metadata": {
    "collapsed": false,
    "deletable": true,
    "editable": true
   },
   "outputs": [
    {
     "name": "stdout",
     "output_type": "stream",
     "text": [
      "Optimization Iteration: 2920001, Training Accuracy: 100.0%\n",
      "Optimization Iteration: 2920001, Training Accuracy:  97.7%\n",
      "Optimization Iteration: 2920001, Training Accuracy: 100.0%\n",
      "Optimization Iteration: 2920001, Training Accuracy:  97.7%\n",
      "Optimization Iteration: 2920001, Training Accuracy: 100.0%\n",
      "Optimization Iteration: 2920001, Training Accuracy:  97.7%\n",
      "Optimization Iteration: 2920001, Training Accuracy:  95.3%\n",
      "Optimization Iteration: 2920001, Training Accuracy: 100.0%\n",
      "Optimization Iteration: 2920001, Training Accuracy: 100.0%\n",
      "Optimization Iteration: 2920001, Training Accuracy: 100.0%\n",
      "Optimization Iteration: 2920001, Training Accuracy: 100.0%\n",
      "Optimization Iteration: 2920001, Training Accuracy:  93.0%\n",
      "Optimization Iteration: 2920001, Training Accuracy: 100.0%\n",
      "Optimization Iteration: 2920001, Training Accuracy:  95.3%\n",
      "Optimization Iteration: 2920001, Training Accuracy:  90.7%\n",
      "Optimization Iteration: 2920001, Training Accuracy:  81.4%\n",
      "Optimization Iteration: 2920001, Training Accuracy:  90.7%\n",
      "Optimization Iteration: 2920001, Training Accuracy: 100.0%\n",
      "Optimization Iteration: 2920001, Training Accuracy: 100.0%\n",
      "Optimization Iteration: 2920001, Training Accuracy:  97.7%\n",
      "Optimization Iteration: 2920001, Training Accuracy:  97.7%\n",
      "Optimization Iteration: 2920001, Training Accuracy:  97.7%\n",
      "Optimization Iteration: 2920001, Training Accuracy:  97.7%\n",
      "Optimization Iteration: 2920001, Training Accuracy: 100.0%\n",
      "Optimization Iteration: 2920001, Training Accuracy:  97.7%\n",
      "Optimization Iteration: 2920001, Training Accuracy:  97.7%\n",
      "Optimization Iteration: 2920001, Training Accuracy: 100.0%\n",
      "Optimization Iteration: 2920001, Training Accuracy: 100.0%\n",
      "Optimization Iteration: 2920001, Training Accuracy:  97.7%\n",
      "Optimization Iteration: 2920001, Training Accuracy:  95.3%\n",
      "Optimization Iteration: 2920001, Training Accuracy:  97.7%\n",
      "Optimization Iteration: 2920001, Training Accuracy: 100.0%\n",
      "Optimization Iteration: 2920001, Training Accuracy:  95.3%\n",
      "Optimization Iteration: 2920001, Training Accuracy: 100.0%\n",
      "Optimization Iteration: 2920001, Training Accuracy:  97.7%\n",
      "Optimization Iteration: 2920001, Training Accuracy: 100.0%\n",
      "Optimization Iteration: 2920001, Training Accuracy: 100.0%\n",
      "Optimization Iteration: 2920001, Training Accuracy: 100.0%\n",
      "Time usage: 0:03:47\n"
     ]
    }
   ],
   "source": [
    "optimize(num_iterations=500000) # We performed 1000 iterations above.\n"
   ]
  },
  {
   "cell_type": "code",
   "execution_count": 636,
   "metadata": {
    "collapsed": false,
    "deletable": true,
    "editable": true
   },
   "outputs": [
    {
     "name": "stdout",
     "output_type": "stream",
     "text": [
      "Accuracy on Test-Set: 91.9% (489 / 532)\n",
      "Example errors:\n",
      "Confusion Matrix:\n",
      "[[70  3  2  0  0  0  0]\n",
      " [ 0 77  0  0  0  0  0]\n",
      " [ 2  3 72  0  0  0  0]\n",
      " [ 1  4  0 71  0  0  0]\n",
      " [ 0  0  0  0 73  2  0]\n",
      " [ 0  0  0  0  0 72  0]\n",
      " [ 1  3 12  3  0  7 54]]\n"
     ]
    },
    {
     "data": {
      "image/png": "[encoded data removed]",
      "text/plain": [
       "<matplotlib.figure.Figure at 0x11cb44210>"
      ]
     },
     "metadata": {},
     "output_type": "display_data"
    }
   ],
   "source": [
    "print_test_accuracy(show_example_errors=True,show_confusion_matrix=True)"
   ]
  },
  {
   "cell_type": "code",
   "execution_count": 637,
   "metadata": {
    "collapsed": false,
    "deletable": true,
    "editable": true
   },
   "outputs": [
    {
     "name": "stdout",
     "output_type": "stream",
     "text": [
      "Optimization Iteration: 3420001, Training Accuracy: 100.0%\n",
      "Optimization Iteration: 3420001, Training Accuracy: 100.0%\n",
      "Optimization Iteration: 3420001, Training Accuracy: 100.0%\n",
      "Optimization Iteration: 3420001, Training Accuracy: 100.0%\n",
      "Optimization Iteration: 3420001, Training Accuracy: 100.0%\n",
      "Optimization Iteration: 3420001, Training Accuracy:  97.7%\n",
      "Optimization Iteration: 3420001, Training Accuracy:  95.3%\n",
      "Optimization Iteration: 3420001, Training Accuracy: 100.0%\n",
      "Optimization Iteration: 3420001, Training Accuracy:  97.7%\n",
      "Optimization Iteration: 3420001, Training Accuracy: 100.0%\n",
      "Optimization Iteration: 3420001, Training Accuracy: 100.0%\n",
      "Optimization Iteration: 3420001, Training Accuracy:  95.3%\n",
      "Optimization Iteration: 3420001, Training Accuracy: 100.0%\n",
      "Optimization Iteration: 3420001, Training Accuracy:  93.0%\n",
      "Optimization Iteration: 3420001, Training Accuracy:  88.4%\n",
      "Optimization Iteration: 3420001, Training Accuracy:  81.4%\n",
      "Optimization Iteration: 3420001, Training Accuracy:  97.7%\n",
      "Optimization Iteration: 3420001, Training Accuracy:  97.7%\n",
      "Optimization Iteration: 3420001, Training Accuracy: 100.0%\n",
      "Optimization Iteration: 3420001, Training Accuracy:  95.3%\n",
      "Optimization Iteration: 3420001, Training Accuracy:  97.7%\n",
      "Optimization Iteration: 3420001, Training Accuracy:  97.7%\n",
      "Optimization Iteration: 3420001, Training Accuracy:  97.7%\n",
      "Optimization Iteration: 3420001, Training Accuracy: 100.0%\n",
      "Optimization Iteration: 3420001, Training Accuracy:  97.7%\n",
      "Optimization Iteration: 3420001, Training Accuracy: 100.0%\n",
      "Optimization Iteration: 3420001, Training Accuracy: 100.0%\n",
      "Optimization Iteration: 3420001, Training Accuracy: 100.0%\n",
      "Optimization Iteration: 3420001, Training Accuracy:  97.7%\n",
      "Optimization Iteration: 3420001, Training Accuracy:  95.3%\n",
      "Optimization Iteration: 3420001, Training Accuracy: 100.0%\n",
      "Optimization Iteration: 3420001, Training Accuracy: 100.0%\n",
      "Optimization Iteration: 3420001, Training Accuracy:  97.7%\n",
      "Optimization Iteration: 3420001, Training Accuracy: 100.0%\n",
      "Optimization Iteration: 3420001, Training Accuracy:  97.7%\n",
      "Optimization Iteration: 3420001, Training Accuracy: 100.0%\n",
      "Optimization Iteration: 3420001, Training Accuracy: 100.0%\n",
      "Optimization Iteration: 3420001, Training Accuracy: 100.0%\n",
      "Time usage: 0:03:30\n"
     ]
    }
   ],
   "source": [
    "optimize(num_iterations=50000) # We performed 1000 iterations above.\n"
   ]
  },
  {
   "cell_type": "code",
   "execution_count": 638,
   "metadata": {
    "collapsed": false,
    "deletable": true,
    "editable": true
   },
   "outputs": [
    {
     "name": "stdout",
     "output_type": "stream",
     "text": [
      "Accuracy on Test-Set: 91.5% (487 / 532)\n",
      "Example errors:\n",
      "Confusion Matrix:\n",
      "[[74  0  1  0  0  0  0]\n",
      " [ 0 77  0  0  0  0  0]\n",
      " [ 3  3 69  0  0  2  0]\n",
      " [ 0  4  0 72  0  0  0]\n",
      " [ 0  0  0  0 72  3  0]\n",
      " [ 0  0  0  0  0 72  0]\n",
      " [ 1  3 12  5  0  8 51]]\n"
     ]
    },
    {
     "data": {
      "image/png": "[encoded data removed]",
      "text/plain": [
       "<matplotlib.figure.Figure at 0x11d007c50>"
      ]
     },
     "metadata": {},
     "output_type": "display_data"
    }
   ],
   "source": [
    "print_test_accuracy(show_example_errors=True,show_confusion_matrix=True)"
   ]
  },
  {
   "cell_type": "code",
   "execution_count": 639,
   "metadata": {
    "collapsed": false,
    "deletable": true,
    "editable": true
   },
   "outputs": [
    {
     "name": "stdout",
     "output_type": "stream",
     "text": [
      "Optimization Iteration: 3470001, Training Accuracy: 100.0%\n",
      "Optimization Iteration: 3470001, Training Accuracy:  97.7%\n",
      "Optimization Iteration: 3470001, Training Accuracy: 100.0%\n",
      "Optimization Iteration: 3470001, Training Accuracy: 100.0%\n",
      "Optimization Iteration: 3470001, Training Accuracy: 100.0%\n",
      "Optimization Iteration: 3470001, Training Accuracy:  97.7%\n",
      "Optimization Iteration: 3470001, Training Accuracy:  95.3%\n",
      "Optimization Iteration: 3470001, Training Accuracy: 100.0%\n",
      "Optimization Iteration: 3470001, Training Accuracy: 100.0%\n",
      "Optimization Iteration: 3470001, Training Accuracy: 100.0%\n",
      "Optimization Iteration: 3470001, Training Accuracy: 100.0%\n",
      "Optimization Iteration: 3470001, Training Accuracy:  93.0%\n",
      "Optimization Iteration: 3470001, Training Accuracy: 100.0%\n",
      "Optimization Iteration: 3470001, Training Accuracy:  95.3%\n",
      "Optimization Iteration: 3470001, Training Accuracy:  90.7%\n",
      "Optimization Iteration: 3470001, Training Accuracy:  83.7%\n",
      "Optimization Iteration: 3470001, Training Accuracy:  95.3%\n",
      "Optimization Iteration: 3470001, Training Accuracy:  97.7%\n",
      "Optimization Iteration: 3470001, Training Accuracy: 100.0%\n",
      "Optimization Iteration: 3470001, Training Accuracy:  97.7%\n",
      "Optimization Iteration: 3470001, Training Accuracy:  97.7%\n",
      "Optimization Iteration: 3470001, Training Accuracy:  97.7%\n",
      "Optimization Iteration: 3470001, Training Accuracy:  97.7%\n",
      "Optimization Iteration: 3470001, Training Accuracy: 100.0%\n",
      "Optimization Iteration: 3470001, Training Accuracy:  97.7%\n",
      "Optimization Iteration: 3470001, Training Accuracy: 100.0%\n",
      "Optimization Iteration: 3470001, Training Accuracy: 100.0%\n",
      "Optimization Iteration: 3470001, Training Accuracy: 100.0%\n",
      "Optimization Iteration: 3470001, Training Accuracy:  97.7%\n",
      "Optimization Iteration: 3470001, Training Accuracy:  95.3%\n",
      "Optimization Iteration: 3470001, Training Accuracy: 100.0%\n",
      "Optimization Iteration: 3470001, Training Accuracy: 100.0%\n",
      "Optimization Iteration: 3470001, Training Accuracy: 100.0%\n",
      "Optimization Iteration: 3470001, Training Accuracy: 100.0%\n",
      "Optimization Iteration: 3470001, Training Accuracy:  97.7%\n",
      "Optimization Iteration: 3470001, Training Accuracy: 100.0%\n",
      "Optimization Iteration: 3470001, Training Accuracy: 100.0%\n",
      "Optimization Iteration: 3470001, Training Accuracy: 100.0%\n",
      "Time usage: 0:03:24\n"
     ]
    }
   ],
   "source": [
    "optimize(num_iterations=50000)"
   ]
  },
  {
   "cell_type": "code",
   "execution_count": 640,
   "metadata": {
    "collapsed": false,
    "deletable": true,
    "editable": true
   },
   "outputs": [
    {
     "name": "stdout",
     "output_type": "stream",
     "text": [
      "Accuracy on Test-Set: 92.1% (490 / 532)\n",
      "Example errors:\n",
      "Confusion Matrix:\n",
      "[[74  0  1  0  0  0  0]\n",
      " [ 0 77  0  0  0  0  0]\n",
      " [ 2  3 70  0  0  2  0]\n",
      " [ 0  3  0 73  0  0  0]\n",
      " [ 0  0  0  0 72  3  0]\n",
      " [ 0  0  0  0  0 72  0]\n",
      " [ 1  1 12  5  0  9 52]]\n"
     ]
    },
    {
     "data": {
      "image/png": "[encoded data removed]",
      "text/plain": [
       "<matplotlib.figure.Figure at 0x11d3acb10>"
      ]
     },
     "metadata": {},
     "output_type": "display_data"
    }
   ],
   "source": [
    "print_test_accuracy(show_example_errors=True,show_confusion_matrix=True)"
   ]
  },
  {
   "cell_type": "code",
   "execution_count": 641,
   "metadata": {
    "collapsed": false,
    "deletable": true,
    "editable": true
   },
   "outputs": [
    {
     "name": "stdout",
     "output_type": "stream",
     "text": [
      "Optimization Iteration: 3520001, Training Accuracy: 100.0%\n",
      "Optimization Iteration: 3520001, Training Accuracy: 100.0%\n",
      "Optimization Iteration: 3520001, Training Accuracy: 100.0%\n",
      "Optimization Iteration: 3520001, Training Accuracy:  97.7%\n",
      "Optimization Iteration: 3520001, Training Accuracy: 100.0%\n",
      "Optimization Iteration: 3520001, Training Accuracy:  97.7%\n",
      "Optimization Iteration: 3520001, Training Accuracy:  95.3%\n",
      "Optimization Iteration: 3520001, Training Accuracy: 100.0%\n",
      "Optimization Iteration: 3520001, Training Accuracy: 100.0%\n",
      "Optimization Iteration: 3520001, Training Accuracy: 100.0%\n",
      "Optimization Iteration: 3520001, Training Accuracy: 100.0%\n",
      "Optimization Iteration: 3520001, Training Accuracy:  95.3%\n",
      "Optimization Iteration: 3520001, Training Accuracy: 100.0%\n",
      "Optimization Iteration: 3520001, Training Accuracy:  95.3%\n",
      "Optimization Iteration: 3520001, Training Accuracy:  90.7%\n",
      "Optimization Iteration: 3520001, Training Accuracy:  83.7%\n",
      "Optimization Iteration: 3520001, Training Accuracy:  95.3%\n",
      "Optimization Iteration: 3520001, Training Accuracy:  97.7%\n",
      "Optimization Iteration: 3520001, Training Accuracy:  97.7%\n",
      "Optimization Iteration: 3520001, Training Accuracy:  95.3%\n",
      "Optimization Iteration: 3520001, Training Accuracy:  97.7%\n",
      "Optimization Iteration: 3520001, Training Accuracy:  97.7%\n",
      "Optimization Iteration: 3520001, Training Accuracy:  97.7%\n",
      "Optimization Iteration: 3520001, Training Accuracy: 100.0%\n",
      "Optimization Iteration: 3520001, Training Accuracy:  97.7%\n",
      "Optimization Iteration: 3520001, Training Accuracy: 100.0%\n",
      "Optimization Iteration: 3520001, Training Accuracy: 100.0%\n",
      "Optimization Iteration: 3520001, Training Accuracy: 100.0%\n",
      "Optimization Iteration: 3520001, Training Accuracy:  97.7%\n",
      "Optimization Iteration: 3520001, Training Accuracy:  95.3%\n",
      "Optimization Iteration: 3520001, Training Accuracy: 100.0%\n",
      "Optimization Iteration: 3520001, Training Accuracy: 100.0%\n",
      "Optimization Iteration: 3520001, Training Accuracy: 100.0%\n",
      "Optimization Iteration: 3520001, Training Accuracy: 100.0%\n",
      "Optimization Iteration: 3520001, Training Accuracy:  97.7%\n",
      "Optimization Iteration: 3520001, Training Accuracy: 100.0%\n",
      "Optimization Iteration: 3520001, Training Accuracy: 100.0%\n",
      "Optimization Iteration: 3520001, Training Accuracy: 100.0%\n",
      "Time usage: 0:03:26\n"
     ]
    }
   ],
   "source": [
    "optimize(num_iterations=50000)"
   ]
  },
  {
   "cell_type": "code",
   "execution_count": 642,
   "metadata": {
    "collapsed": false,
    "deletable": true,
    "editable": true
   },
   "outputs": [
    {
     "name": "stdout",
     "output_type": "stream",
     "text": [
      "Accuracy on Test-Set: 91.9% (489 / 532)\n",
      "Example errors:\n",
      "Confusion Matrix:\n",
      "[[74  0  1  0  0  0  0]\n",
      " [ 0 77  0  0  0  0  0]\n",
      " [ 3  3 69  0  0  2  0]\n",
      " [ 0  2  0 74  0  0  0]\n",
      " [ 0  0  0  0 72  3  0]\n",
      " [ 0  0  0  0  0 72  0]\n",
      " [ 1  2 12  5  0  9 51]]\n"
     ]
    },
    {
     "data": {
      "image/png": "[encoded data removed]",
      "text/plain": [
       "<matplotlib.figure.Figure at 0x11d52e210>"
      ]
     },
     "metadata": {},
     "output_type": "display_data"
    }
   ],
   "source": [
    "print_test_accuracy(show_example_errors=True,show_confusion_matrix=True)"
   ]
  },
  {
   "cell_type": "code",
   "execution_count": 643,
   "metadata": {
    "collapsed": false,
    "deletable": true,
    "editable": true
   },
   "outputs": [
    {
     "name": "stdout",
     "output_type": "stream",
     "text": [
      "Optimization Iteration: 3570001, Training Accuracy: 100.0%\n",
      "Optimization Iteration: 3570001, Training Accuracy:  97.7%\n",
      "Optimization Iteration: 3570001, Training Accuracy: 100.0%\n",
      "Optimization Iteration: 3570001, Training Accuracy: 100.0%\n",
      "Optimization Iteration: 3570001, Training Accuracy: 100.0%\n",
      "Optimization Iteration: 3570001, Training Accuracy:  97.7%\n",
      "Optimization Iteration: 3570001, Training Accuracy:  95.3%\n",
      "Optimization Iteration: 3570001, Training Accuracy: 100.0%\n",
      "Optimization Iteration: 3570001, Training Accuracy: 100.0%\n",
      "Optimization Iteration: 3570001, Training Accuracy: 100.0%\n",
      "Optimization Iteration: 3570001, Training Accuracy: 100.0%\n",
      "Optimization Iteration: 3570001, Training Accuracy:  95.3%\n",
      "Optimization Iteration: 3570001, Training Accuracy: 100.0%\n",
      "Optimization Iteration: 3570001, Training Accuracy:  95.3%\n",
      "Optimization Iteration: 3570001, Training Accuracy:  90.7%\n",
      "Optimization Iteration: 3570001, Training Accuracy:  83.7%\n",
      "Optimization Iteration: 3570001, Training Accuracy:  95.3%\n",
      "Optimization Iteration: 3570001, Training Accuracy:  97.7%\n",
      "Optimization Iteration: 3570001, Training Accuracy:  97.7%\n",
      "Optimization Iteration: 3570001, Training Accuracy:  97.7%\n",
      "Optimization Iteration: 3570001, Training Accuracy:  97.7%\n",
      "Optimization Iteration: 3570001, Training Accuracy: 100.0%\n",
      "Optimization Iteration: 3570001, Training Accuracy:  97.7%\n",
      "Optimization Iteration: 3570001, Training Accuracy: 100.0%\n",
      "Optimization Iteration: 3570001, Training Accuracy:  97.7%\n",
      "Optimization Iteration: 3570001, Training Accuracy: 100.0%\n",
      "Optimization Iteration: 3570001, Training Accuracy: 100.0%\n",
      "Optimization Iteration: 3570001, Training Accuracy: 100.0%\n",
      "Optimization Iteration: 3570001, Training Accuracy:  97.7%\n",
      "Optimization Iteration: 3570001, Training Accuracy:  97.7%\n",
      "Optimization Iteration: 3570001, Training Accuracy:  97.7%\n",
      "Optimization Iteration: 3570001, Training Accuracy: 100.0%\n",
      "Optimization Iteration: 3570001, Training Accuracy: 100.0%\n",
      "Optimization Iteration: 3570001, Training Accuracy: 100.0%\n",
      "Optimization Iteration: 3570001, Training Accuracy:  97.7%\n",
      "Optimization Iteration: 3570001, Training Accuracy: 100.0%\n",
      "Optimization Iteration: 3570001, Training Accuracy: 100.0%\n",
      "Optimization Iteration: 3570001, Training Accuracy: 100.0%\n",
      "Time usage: 0:02:14\n"
     ]
    }
   ],
   "source": [
    "optimize(num_iterations=50000)"
   ]
  },
  {
   "cell_type": "code",
   "execution_count": 644,
   "metadata": {
    "collapsed": false,
    "deletable": true,
    "editable": true
   },
   "outputs": [
    {
     "name": "stdout",
     "output_type": "stream",
     "text": [
      "Accuracy on Test-Set: 92.5% (492 / 532)\n",
      "Example errors:\n",
      "Confusion Matrix:\n",
      "[[74  0  1  0  0  0  0]\n",
      " [ 0 77  0  0  0  0  0]\n",
      " [ 2  2 71  0  0  2  0]\n",
      " [ 0  2  0 74  0  0  0]\n",
      " [ 0  0  0  0 73  2  0]\n",
      " [ 0  0  0  0  0 72  0]\n",
      " [ 1  1 12  6  0  9 51]]\n"
     ]
    },
    {
     "data": {
      "image/png": "[encoded data removed]",
      "text/plain": [
       "<matplotlib.figure.Figure at 0x11d4a8650>"
      ]
     },
     "metadata": {},
     "output_type": "display_data"
    }
   ],
   "source": [
    "print_test_accuracy(show_example_errors=True,show_confusion_matrix=True)"
   ]
  },
  {
   "cell_type": "code",
   "execution_count": null,
   "metadata": {
    "collapsed": false,
    "deletable": true,
    "editable": true
   },
   "outputs": [
    {
     "name": "stdout",
     "output_type": "stream",
     "text": [
      "Optimization Iteration: 3620001, Training Accuracy: 100.0%\n",
      "Optimization Iteration: 3620001, Training Accuracy: 100.0%\n",
      "Optimization Iteration: 3620001, Training Accuracy: 100.0%\n",
      "Optimization Iteration: 3620001, Training Accuracy: 100.0%\n",
      "Optimization Iteration: 3620001, Training Accuracy: 100.0%\n",
      "Optimization Iteration: 3620001, Training Accuracy:  97.7%\n",
      "Optimization Iteration: 3620001, Training Accuracy:  95.3%\n",
      "Optimization Iteration: 3620001, Training Accuracy: 100.0%\n",
      "Optimization Iteration: 3620001, Training Accuracy: 100.0%\n",
      "Optimization Iteration: 3620001, Training Accuracy: 100.0%\n",
      "Optimization Iteration: 3620001, Training Accuracy: 100.0%\n",
      "Optimization Iteration: 3620001, Training Accuracy:  93.0%\n",
      "Optimization Iteration: 3620001, Training Accuracy: 100.0%\n",
      "Optimization Iteration: 3620001, Training Accuracy:  97.7%\n",
      "Optimization Iteration: 3620001, Training Accuracy:  90.7%\n",
      "Optimization Iteration: 3620001, Training Accuracy:  81.4%\n",
      "Optimization Iteration: 3620001, Training Accuracy:  97.7%\n",
      "Optimization Iteration: 3620001, Training Accuracy:  97.7%\n",
      "Optimization Iteration: 3620001, Training Accuracy:  97.7%\n",
      "Optimization Iteration: 3620001, Training Accuracy:  97.7%\n",
      "Optimization Iteration: 3620001, Training Accuracy:  97.7%\n",
      "Optimization Iteration: 3620001, Training Accuracy:  97.7%\n",
      "Optimization Iteration: 3620001, Training Accuracy:  97.7%\n",
      "Optimization Iteration: 3620001, Training Accuracy: 100.0%\n",
      "Optimization Iteration: 3620001, Training Accuracy:  97.7%\n",
      "Optimization Iteration: 3620001, Training Accuracy: 100.0%\n",
      "Optimization Iteration: 3620001, Training Accuracy: 100.0%\n",
      "Optimization Iteration: 3620001, Training Accuracy: 100.0%\n",
      "Optimization Iteration: 3620001, Training Accuracy:  97.7%\n",
      "Optimization Iteration: 3620001, Training Accuracy:  97.7%\n",
      "Optimization Iteration: 3620001, Training Accuracy: 100.0%\n",
      "Optimization Iteration: 3620001, Training Accuracy: 100.0%\n",
      "Optimization Iteration: 3620001, Training Accuracy: 100.0%\n",
      "Optimization Iteration: 3620001, Training Accuracy: 100.0%\n",
      "Optimization Iteration: 3620001, Training Accuracy:  97.7%\n",
      "Optimization Iteration: 3620001, Training Accuracy: 100.0%\n",
      "Optimization Iteration: 3620001, Training Accuracy: 100.0%\n",
      "Optimization Iteration: 3620001, Training Accuracy: 100.0%\n",
      "Time usage: 0:02:31\n"
     ]
    }
   ],
   "source": [
    "optimize(num_iterations=50000)"
   ]
  },
  {
   "cell_type": "code",
   "execution_count": null,
   "metadata": {
    "collapsed": false,
    "deletable": true,
    "editable": true
   },
   "outputs": [],
   "source": [
    "print_test_accuracy(show_example_errors=True,show_confusion_matrix=True)"
   ]
  },
  {
   "cell_type": "code",
   "execution_count": 608,
   "metadata": {
    "collapsed": false,
    "deletable": true,
    "editable": true
   },
   "outputs": [
    {
     "name": "stdout",
     "output_type": "stream",
     "text": [
      "Optimization Iteration: 2280001, Training Accuracy:  95.3%\n",
      "Optimization Iteration: 2280001, Training Accuracy:  90.7%\n",
      "Optimization Iteration: 2280001, Training Accuracy:  93.0%\n",
      "Optimization Iteration: 2280001, Training Accuracy:  93.0%\n",
      "Optimization Iteration: 2280001, Training Accuracy:  97.7%\n",
      "Optimization Iteration: 2280001, Training Accuracy:  97.7%\n",
      "Optimization Iteration: 2280001, Training Accuracy:  93.0%\n",
      "Optimization Iteration: 2280001, Training Accuracy:  95.3%\n",
      "Optimization Iteration: 2280001, Training Accuracy:  97.7%\n",
      "Optimization Iteration: 2280001, Training Accuracy:  97.7%\n",
      "Optimization Iteration: 2280001, Training Accuracy:  97.7%\n",
      "Optimization Iteration: 2280001, Training Accuracy:  88.4%\n",
      "Optimization Iteration: 2280001, Training Accuracy:  90.7%\n",
      "Optimization Iteration: 2280001, Training Accuracy:  88.4%\n",
      "Optimization Iteration: 2280001, Training Accuracy:  88.4%\n",
      "Optimization Iteration: 2280001, Training Accuracy:  81.4%\n",
      "Optimization Iteration: 2280001, Training Accuracy:  86.0%\n",
      "Optimization Iteration: 2280001, Training Accuracy:  90.7%\n",
      "Optimization Iteration: 2280001, Training Accuracy:  90.7%\n",
      "Optimization Iteration: 2280001, Training Accuracy:  88.4%\n",
      "Optimization Iteration: 2280001, Training Accuracy:  86.0%\n",
      "Optimization Iteration: 2280001, Training Accuracy:  90.7%\n",
      "Optimization Iteration: 2280001, Training Accuracy:  97.7%\n",
      "Optimization Iteration: 2280001, Training Accuracy: 100.0%\n",
      "Optimization Iteration: 2280001, Training Accuracy:  97.7%\n",
      "Optimization Iteration: 2280001, Training Accuracy:  90.7%\n",
      "Optimization Iteration: 2280001, Training Accuracy: 100.0%\n",
      "Optimization Iteration: 2280001, Training Accuracy:  97.7%\n",
      "Optimization Iteration: 2280001, Training Accuracy:  97.7%\n",
      "Optimization Iteration: 2280001, Training Accuracy:  95.3%\n",
      "Optimization Iteration: 2280001, Training Accuracy:  95.3%\n",
      "Optimization Iteration: 2280001, Training Accuracy: 100.0%\n",
      "Optimization Iteration: 2280001, Training Accuracy:  93.0%\n",
      "Optimization Iteration: 2280001, Training Accuracy: 100.0%\n",
      "Optimization Iteration: 2280001, Training Accuracy:  97.7%\n",
      "Optimization Iteration: 2280001, Training Accuracy:  93.0%\n",
      "Optimization Iteration: 2280001, Training Accuracy:  97.7%\n",
      "Optimization Iteration: 2280001, Training Accuracy: 100.0%\n",
      "Time usage: 0:02:31\n"
     ]
    }
   ],
   "source": [
    "optimize(num_iterations=50000)"
   ]
  },
  {
   "cell_type": "code",
   "execution_count": 609,
   "metadata": {
    "collapsed": false,
    "deletable": true,
    "editable": true
   },
   "outputs": [
    {
     "name": "stdout",
     "output_type": "stream",
     "text": [
      "Accuracy on Test-Set: 84.2% (448 / 532)\n",
      "Example errors:\n",
      "Confusion Matrix:\n",
      "[[70  0  5  0  0  0  0]\n",
      " [ 0 76  1  0  0  0  0]\n",
      " [ 8  2 60  0  0  7  0]\n",
      " [18 10  0 37  0  0 11]\n",
      " [ 1  0  0  0 62 12  0]\n",
      " [ 0  0  0  0  0 72  0]\n",
      " [ 1  0  3  0  0  5 71]]\n"
     ]
    },
    {
     "data": {
      "image/png": "[encoded data removed]",
      "text/plain": [
       "<matplotlib.figure.Figure at 0x11d53e8d0>"
      ]
     },
     "metadata": {},
     "output_type": "display_data"
    }
   ],
   "source": [
    "print_test_accuracy(show_example_errors=True,show_confusion_matrix=True)"
   ]
  },
  {
   "cell_type": "code",
   "execution_count": 610,
   "metadata": {
    "collapsed": false,
    "deletable": true,
    "editable": true
   },
   "outputs": [
    {
     "name": "stdout",
     "output_type": "stream",
     "text": [
      "Optimization Iteration: 2330001, Training Accuracy:  97.7%\n",
      "Optimization Iteration: 2330001, Training Accuracy:  95.3%\n",
      "Optimization Iteration: 2330001, Training Accuracy:  93.0%\n",
      "Optimization Iteration: 2330001, Training Accuracy:  93.0%\n",
      "Optimization Iteration: 2330001, Training Accuracy:  97.7%\n",
      "Optimization Iteration: 2330001, Training Accuracy:  97.7%\n",
      "Optimization Iteration: 2330001, Training Accuracy:  93.0%\n",
      "Optimization Iteration: 2330001, Training Accuracy:  95.3%\n",
      "Optimization Iteration: 2330001, Training Accuracy: 100.0%\n",
      "Optimization Iteration: 2330001, Training Accuracy:  97.7%\n",
      "Optimization Iteration: 2330001, Training Accuracy:  97.7%\n",
      "Optimization Iteration: 2330001, Training Accuracy:  86.0%\n",
      "Optimization Iteration: 2330001, Training Accuracy:  95.3%\n",
      "Optimization Iteration: 2330001, Training Accuracy:  88.4%\n",
      "Optimization Iteration: 2330001, Training Accuracy:  88.4%\n",
      "Optimization Iteration: 2330001, Training Accuracy:  79.1%\n",
      "Optimization Iteration: 2330001, Training Accuracy:  86.0%\n",
      "Optimization Iteration: 2330001, Training Accuracy:  90.7%\n",
      "Optimization Iteration: 2330001, Training Accuracy:  95.3%\n",
      "Optimization Iteration: 2330001, Training Accuracy:  88.4%\n",
      "Optimization Iteration: 2330001, Training Accuracy:  90.7%\n",
      "Optimization Iteration: 2330001, Training Accuracy:  95.3%\n",
      "Optimization Iteration: 2330001, Training Accuracy:  97.7%\n",
      "Optimization Iteration: 2330001, Training Accuracy: 100.0%\n",
      "Optimization Iteration: 2330001, Training Accuracy:  97.7%\n",
      "Optimization Iteration: 2330001, Training Accuracy:  93.0%\n",
      "Optimization Iteration: 2330001, Training Accuracy: 100.0%\n",
      "Optimization Iteration: 2330001, Training Accuracy:  97.7%\n",
      "Optimization Iteration: 2330001, Training Accuracy:  97.7%\n",
      "Optimization Iteration: 2330001, Training Accuracy:  95.3%\n",
      "Optimization Iteration: 2330001, Training Accuracy:  95.3%\n",
      "Optimization Iteration: 2330001, Training Accuracy: 100.0%\n",
      "Optimization Iteration: 2330001, Training Accuracy:  93.0%\n",
      "Optimization Iteration: 2330001, Training Accuracy: 100.0%\n",
      "Optimization Iteration: 2330001, Training Accuracy:  97.7%\n",
      "Optimization Iteration: 2330001, Training Accuracy:  95.3%\n",
      "Optimization Iteration: 2330001, Training Accuracy:  97.7%\n",
      "Optimization Iteration: 2330001, Training Accuracy: 100.0%\n",
      "Time usage: 0:02:31\n"
     ]
    }
   ],
   "source": [
    "optimize(num_iterations=50000)"
   ]
  },
  {
   "cell_type": "code",
   "execution_count": 611,
   "metadata": {
    "collapsed": false,
    "deletable": true,
    "editable": true
   },
   "outputs": [
    {
     "name": "stdout",
     "output_type": "stream",
     "text": [
      "Accuracy on Test-Set: 84.8% (451 / 532)\n",
      "Example errors:\n",
      "Confusion Matrix:\n",
      "[[72  0  3  0  0  0  0]\n",
      " [ 0 76  1  0  0  0  0]\n",
      " [10  2 62  0  0  3  0]\n",
      " [22  9  0 39  0  0  6]\n",
      " [ 1  0  0  0 63 11  0]\n",
      " [ 0  0  0  0  0 72  0]\n",
      " [ 1  0  6  0  0  6 67]]\n"
     ]
    },
    {
     "data": {
      "image/png": "[encoded data removed]",
      "text/plain": [
       "<matplotlib.figure.Figure at 0x11f1d1cd0>"
      ]
     },
     "metadata": {},
     "output_type": "display_data"
    }
   ],
   "source": [
    "print_test_accuracy(show_example_errors=True,show_confusion_matrix=True)"
   ]
  },
  {
   "cell_type": "code",
   "execution_count": 612,
   "metadata": {
    "collapsed": false,
    "deletable": true,
    "editable": true
   },
   "outputs": [
    {
     "name": "stdout",
     "output_type": "stream",
     "text": [
      "Optimization Iteration: 2380001, Training Accuracy:  97.7%\n",
      "Optimization Iteration: 2380001, Training Accuracy:  95.3%\n",
      "Optimization Iteration: 2380001, Training Accuracy:  93.0%\n",
      "Optimization Iteration: 2380001, Training Accuracy:  93.0%\n",
      "Optimization Iteration: 2380001, Training Accuracy:  97.7%\n",
      "Optimization Iteration: 2380001, Training Accuracy:  97.7%\n",
      "Optimization Iteration: 2380001, Training Accuracy:  93.0%\n",
      "Optimization Iteration: 2380001, Training Accuracy:  95.3%\n",
      "Optimization Iteration: 2380001, Training Accuracy:  97.7%\n",
      "Optimization Iteration: 2380001, Training Accuracy:  97.7%\n",
      "Optimization Iteration: 2380001, Training Accuracy: 100.0%\n",
      "Optimization Iteration: 2380001, Training Accuracy:  86.0%\n",
      "Optimization Iteration: 2380001, Training Accuracy:  97.7%\n",
      "Optimization Iteration: 2380001, Training Accuracy:  90.7%\n",
      "Optimization Iteration: 2380001, Training Accuracy:  90.7%\n",
      "Optimization Iteration: 2380001, Training Accuracy:  79.1%\n",
      "Optimization Iteration: 2380001, Training Accuracy:  88.4%\n",
      "Optimization Iteration: 2380001, Training Accuracy:  93.0%\n",
      "Optimization Iteration: 2380001, Training Accuracy:  95.3%\n",
      "Optimization Iteration: 2380001, Training Accuracy:  90.7%\n",
      "Optimization Iteration: 2380001, Training Accuracy:  93.0%\n",
      "Optimization Iteration: 2380001, Training Accuracy:  95.3%\n",
      "Optimization Iteration: 2380001, Training Accuracy:  97.7%\n",
      "Optimization Iteration: 2380001, Training Accuracy: 100.0%\n",
      "Optimization Iteration: 2380001, Training Accuracy:  97.7%\n",
      "Optimization Iteration: 2380001, Training Accuracy:  97.7%\n",
      "Optimization Iteration: 2380001, Training Accuracy: 100.0%\n",
      "Optimization Iteration: 2380001, Training Accuracy:  97.7%\n",
      "Optimization Iteration: 2380001, Training Accuracy:  97.7%\n",
      "Optimization Iteration: 2380001, Training Accuracy:  95.3%\n",
      "Optimization Iteration: 2380001, Training Accuracy:  97.7%\n",
      "Optimization Iteration: 2380001, Training Accuracy: 100.0%\n",
      "Optimization Iteration: 2380001, Training Accuracy:  93.0%\n",
      "Optimization Iteration: 2380001, Training Accuracy:  97.7%\n",
      "Optimization Iteration: 2380001, Training Accuracy:  97.7%\n",
      "Optimization Iteration: 2380001, Training Accuracy:  95.3%\n",
      "Optimization Iteration: 2380001, Training Accuracy:  97.7%\n",
      "Optimization Iteration: 2380001, Training Accuracy: 100.0%\n",
      "Time usage: 0:02:35\n"
     ]
    }
   ],
   "source": [
    "optimize(num_iterations=50000)"
   ]
  },
  {
   "cell_type": "code",
   "execution_count": 613,
   "metadata": {
    "collapsed": false,
    "deletable": true,
    "editable": true
   },
   "outputs": [
    {
     "name": "stdout",
     "output_type": "stream",
     "text": [
      "Accuracy on Test-Set: 83.6% (445 / 532)\n",
      "Example errors:\n",
      "Confusion Matrix:\n",
      "[[73  0  2  0  0  0  0]\n",
      " [ 1 76  0  0  0  0  0]\n",
      " [14  2 58  0  0  3  0]\n",
      " [21  8  0 47  0  0  0]\n",
      " [ 1  0  0  0 63 11  0]\n",
      " [ 0  0  0  0  0 72  0]\n",
      " [ 5  0 12  1  0  6 56]]\n"
     ]
    },
    {
     "data": {
      "image/png": "[encoded data removed]",
      "text/plain": [
       "<matplotlib.figure.Figure at 0x11d487b50>"
      ]
     },
     "metadata": {},
     "output_type": "display_data"
    }
   ],
   "source": [
    "print_test_accuracy(show_example_errors=True,show_confusion_matrix=True)"
   ]
  },
  {
   "cell_type": "code",
   "execution_count": 614,
   "metadata": {
    "collapsed": false,
    "deletable": true,
    "editable": true
   },
   "outputs": [
    {
     "name": "stdout",
     "output_type": "stream",
     "text": [
      "Optimization Iteration: 2430001, Training Accuracy:  97.7%\n",
      "Optimization Iteration: 2430001, Training Accuracy:  97.7%\n",
      "Optimization Iteration: 2430001, Training Accuracy:  97.7%\n",
      "Optimization Iteration: 2430001, Training Accuracy:  90.7%\n",
      "Optimization Iteration: 2430001, Training Accuracy:  97.7%\n",
      "Optimization Iteration: 2430001, Training Accuracy:  97.7%\n",
      "Optimization Iteration: 2430001, Training Accuracy:  95.3%\n",
      "Optimization Iteration: 2430001, Training Accuracy:  95.3%\n",
      "Optimization Iteration: 2430001, Training Accuracy:  97.7%\n",
      "Optimization Iteration: 2430001, Training Accuracy:  97.7%\n",
      "Optimization Iteration: 2430001, Training Accuracy: 100.0%\n",
      "Optimization Iteration: 2430001, Training Accuracy:  86.0%\n",
      "Optimization Iteration: 2430001, Training Accuracy:  97.7%\n",
      "Optimization Iteration: 2430001, Training Accuracy:  93.0%\n",
      "Optimization Iteration: 2430001, Training Accuracy:  90.7%\n",
      "Optimization Iteration: 2430001, Training Accuracy:  79.1%\n",
      "Optimization Iteration: 2430001, Training Accuracy:  88.4%\n",
      "Optimization Iteration: 2430001, Training Accuracy:  95.3%\n",
      "Optimization Iteration: 2430001, Training Accuracy: 100.0%\n",
      "Optimization Iteration: 2430001, Training Accuracy:  95.3%\n",
      "Optimization Iteration: 2430001, Training Accuracy:  95.3%\n",
      "Optimization Iteration: 2430001, Training Accuracy:  95.3%\n",
      "Optimization Iteration: 2430001, Training Accuracy:  97.7%\n",
      "Optimization Iteration: 2430001, Training Accuracy: 100.0%\n",
      "Optimization Iteration: 2430001, Training Accuracy:  97.7%\n",
      "Optimization Iteration: 2430001, Training Accuracy:  97.7%\n",
      "Optimization Iteration: 2430001, Training Accuracy: 100.0%\n",
      "Optimization Iteration: 2430001, Training Accuracy:  97.7%\n",
      "Optimization Iteration: 2430001, Training Accuracy:  97.7%\n",
      "Optimization Iteration: 2430001, Training Accuracy:  97.7%\n",
      "Optimization Iteration: 2430001, Training Accuracy:  95.3%\n",
      "Optimization Iteration: 2430001, Training Accuracy: 100.0%\n",
      "Optimization Iteration: 2430001, Training Accuracy:  95.3%\n",
      "Optimization Iteration: 2430001, Training Accuracy:  97.7%\n",
      "Optimization Iteration: 2430001, Training Accuracy:  97.7%\n",
      "Optimization Iteration: 2430001, Training Accuracy: 100.0%\n",
      "Optimization Iteration: 2430001, Training Accuracy: 100.0%\n",
      "Optimization Iteration: 2430001, Training Accuracy: 100.0%\n",
      "Time usage: 0:03:10\n"
     ]
    }
   ],
   "source": [
    "optimize(num_iterations=50000)"
   ]
  },
  {
   "cell_type": "code",
   "execution_count": 615,
   "metadata": {
    "collapsed": false,
    "deletable": true,
    "editable": true
   },
   "outputs": [
    {
     "name": "stdout",
     "output_type": "stream",
     "text": [
      "Accuracy on Test-Set: 83.6% (445 / 532)\n",
      "Example errors:\n",
      "Confusion Matrix:\n",
      "[[74  0  1  0  0  0  0]\n",
      " [ 1 76  0  0  0  0  0]\n",
      " [15  3 56  0  0  3  0]\n",
      " [15  8  0 53  0  0  0]\n",
      " [ 2  0  0  0 62 11  0]\n",
      " [ 0  0  0  0  0 72  0]\n",
      " [ 8  1 10  1  0  8 52]]\n"
     ]
    },
    {
     "data": {
      "image/png": "[encoded data removed]",
      "text/plain": [
       "<matplotlib.figure.Figure at 0x11e96ea50>"
      ]
     },
     "metadata": {},
     "output_type": "display_data"
    }
   ],
   "source": [
    "print_test_accuracy(show_example_errors=True,show_confusion_matrix=True)"
   ]
  },
  {
   "cell_type": "code",
   "execution_count": 616,
   "metadata": {
    "collapsed": false,
    "deletable": true,
    "editable": true
   },
   "outputs": [
    {
     "name": "stdout",
     "output_type": "stream",
     "text": [
      "Optimization Iteration: 2480001, Training Accuracy:  97.7%\n",
      "Optimization Iteration: 2480001, Training Accuracy:  97.7%\n",
      "Optimization Iteration: 2480001, Training Accuracy:  97.7%\n",
      "Optimization Iteration: 2480001, Training Accuracy:  90.7%\n",
      "Optimization Iteration: 2480001, Training Accuracy:  97.7%\n",
      "Optimization Iteration: 2480001, Training Accuracy:  97.7%\n",
      "Optimization Iteration: 2480001, Training Accuracy:  95.3%\n",
      "Optimization Iteration: 2480001, Training Accuracy:  95.3%\n",
      "Optimization Iteration: 2480001, Training Accuracy:  97.7%\n",
      "Optimization Iteration: 2480001, Training Accuracy:  97.7%\n",
      "Optimization Iteration: 2480001, Training Accuracy: 100.0%\n",
      "Optimization Iteration: 2480001, Training Accuracy:  86.0%\n",
      "Optimization Iteration: 2480001, Training Accuracy:  97.7%\n",
      "Optimization Iteration: 2480001, Training Accuracy:  93.0%\n",
      "Optimization Iteration: 2480001, Training Accuracy:  90.7%\n",
      "Optimization Iteration: 2480001, Training Accuracy:  81.4%\n",
      "Optimization Iteration: 2480001, Training Accuracy:  88.4%\n",
      "Optimization Iteration: 2480001, Training Accuracy:  97.7%\n",
      "Optimization Iteration: 2480001, Training Accuracy: 100.0%\n",
      "Optimization Iteration: 2480001, Training Accuracy:  95.3%\n",
      "Optimization Iteration: 2480001, Training Accuracy:  95.3%\n",
      "Optimization Iteration: 2480001, Training Accuracy:  95.3%\n",
      "Optimization Iteration: 2480001, Training Accuracy:  97.7%\n",
      "Optimization Iteration: 2480001, Training Accuracy: 100.0%\n",
      "Optimization Iteration: 2480001, Training Accuracy:  97.7%\n",
      "Optimization Iteration: 2480001, Training Accuracy:  97.7%\n",
      "Optimization Iteration: 2480001, Training Accuracy: 100.0%\n",
      "Optimization Iteration: 2480001, Training Accuracy:  97.7%\n",
      "Optimization Iteration: 2480001, Training Accuracy:  97.7%\n",
      "Optimization Iteration: 2480001, Training Accuracy:  95.3%\n",
      "Optimization Iteration: 2480001, Training Accuracy:  95.3%\n",
      "Optimization Iteration: 2480001, Training Accuracy: 100.0%\n",
      "Optimization Iteration: 2480001, Training Accuracy:  95.3%\n",
      "Optimization Iteration: 2480001, Training Accuracy:  97.7%\n",
      "Optimization Iteration: 2480001, Training Accuracy:  97.7%\n",
      "Optimization Iteration: 2480001, Training Accuracy: 100.0%\n",
      "Optimization Iteration: 2480001, Training Accuracy: 100.0%\n",
      "Optimization Iteration: 2480001, Training Accuracy: 100.0%\n",
      "Time usage: 0:03:29\n"
     ]
    }
   ],
   "source": [
    "optimize(num_iterations=50000)"
   ]
  },
  {
   "cell_type": "code",
   "execution_count": 617,
   "metadata": {
    "collapsed": false,
    "deletable": true,
    "editable": true
   },
   "outputs": [
    {
     "name": "stdout",
     "output_type": "stream",
     "text": [
      "Accuracy on Test-Set: 83.5% (444 / 532)\n",
      "Example errors:\n",
      "Confusion Matrix:\n",
      "[[74  0  1  0  0  0  0]\n",
      " [ 0 77  0  0  0  0  0]\n",
      " [16  3 55  0  0  3  0]\n",
      " [15  9  0 52  0  0  0]\n",
      " [ 2  0  0  0 62 11  0]\n",
      " [ 0  0  0  0  0 72  0]\n",
      " [10  1  8  1  0  8 52]]\n"
     ]
    },
    {
     "data": {
      "image/png": "[encoded data removed]",
      "text/plain": [
       "<matplotlib.figure.Figure at 0x11e3d99d0>"
      ]
     },
     "metadata": {},
     "output_type": "display_data"
    }
   ],
   "source": [
    "print_test_accuracy(show_example_errors=True,show_confusion_matrix=True)"
   ]
  },
  {
   "cell_type": "code",
   "execution_count": 618,
   "metadata": {
    "collapsed": false,
    "deletable": true,
    "editable": true
   },
   "outputs": [
    {
     "name": "stdout",
     "output_type": "stream",
     "text": [
      "Optimization Iteration: 2530001, Training Accuracy:  97.7%\n",
      "Optimization Iteration: 2530001, Training Accuracy:  97.7%\n",
      "Optimization Iteration: 2530001, Training Accuracy:  97.7%\n",
      "Optimization Iteration: 2530001, Training Accuracy:  93.0%\n",
      "Optimization Iteration: 2530001, Training Accuracy:  97.7%\n",
      "Optimization Iteration: 2530001, Training Accuracy:  97.7%\n",
      "Optimization Iteration: 2530001, Training Accuracy:  95.3%\n",
      "Optimization Iteration: 2530001, Training Accuracy:  95.3%\n",
      "Optimization Iteration: 2530001, Training Accuracy:  97.7%\n",
      "Optimization Iteration: 2530001, Training Accuracy:  97.7%\n",
      "Optimization Iteration: 2530001, Training Accuracy: 100.0%\n",
      "Optimization Iteration: 2530001, Training Accuracy:  86.0%\n",
      "Optimization Iteration: 2530001, Training Accuracy:  97.7%\n",
      "Optimization Iteration: 2530001, Training Accuracy:  95.3%\n",
      "Optimization Iteration: 2530001, Training Accuracy:  90.7%\n",
      "Optimization Iteration: 2530001, Training Accuracy:  81.4%\n",
      "Optimization Iteration: 2530001, Training Accuracy:  88.4%\n",
      "Optimization Iteration: 2530001, Training Accuracy:  97.7%\n",
      "Optimization Iteration: 2530001, Training Accuracy: 100.0%\n",
      "Optimization Iteration: 2530001, Training Accuracy:  93.0%\n",
      "Optimization Iteration: 2530001, Training Accuracy:  93.0%\n",
      "Optimization Iteration: 2530001, Training Accuracy:  95.3%\n",
      "Optimization Iteration: 2530001, Training Accuracy:  97.7%\n",
      "Optimization Iteration: 2530001, Training Accuracy: 100.0%\n",
      "Optimization Iteration: 2530001, Training Accuracy:  97.7%\n",
      "Optimization Iteration: 2530001, Training Accuracy:  97.7%\n",
      "Optimization Iteration: 2530001, Training Accuracy: 100.0%\n",
      "Optimization Iteration: 2530001, Training Accuracy:  97.7%\n",
      "Optimization Iteration: 2530001, Training Accuracy:  97.7%\n",
      "Optimization Iteration: 2530001, Training Accuracy:  97.7%\n",
      "Optimization Iteration: 2530001, Training Accuracy:  95.3%\n",
      "Optimization Iteration: 2530001, Training Accuracy: 100.0%\n",
      "Optimization Iteration: 2530001, Training Accuracy:  95.3%\n",
      "Optimization Iteration: 2530001, Training Accuracy:  97.7%\n",
      "Optimization Iteration: 2530001, Training Accuracy:  97.7%\n",
      "Optimization Iteration: 2530001, Training Accuracy: 100.0%\n",
      "Optimization Iteration: 2530001, Training Accuracy: 100.0%\n",
      "Optimization Iteration: 2530001, Training Accuracy: 100.0%\n",
      "Time usage: 0:03:36\n"
     ]
    }
   ],
   "source": [
    "optimize(num_iterations=50000)"
   ]
  },
  {
   "cell_type": "code",
   "execution_count": 619,
   "metadata": {
    "collapsed": false,
    "deletable": true,
    "editable": true
   },
   "outputs": [
    {
     "name": "stdout",
     "output_type": "stream",
     "text": [
      "Accuracy on Test-Set: 83.5% (444 / 532)\n",
      "Example errors:\n",
      "Confusion Matrix:\n",
      "[[74  0  1  0  0  0  0]\n",
      " [ 0 77  0  0  0  0  0]\n",
      " [16  3 55  0  0  3  0]\n",
      " [15 10  0 51  0  0  0]\n",
      " [ 2  0  0  0 62 11  0]\n",
      " [ 0  0  0  0  0 72  0]\n",
      " [ 9  2  8  1  0  7 53]]\n"
     ]
    },
    {
     "data": {
      "image/png": "[encoded data removed]",
      "text/plain": [
       "<matplotlib.figure.Figure at 0x11cb44350>"
      ]
     },
     "metadata": {},
     "output_type": "display_data"
    }
   ],
   "source": [
    "print_test_accuracy(show_example_errors=True,show_confusion_matrix=True)"
   ]
  },
  {
   "cell_type": "code",
   "execution_count": 620,
   "metadata": {
    "collapsed": false,
    "deletable": true,
    "editable": true
   },
   "outputs": [
    {
     "name": "stdout",
     "output_type": "stream",
     "text": [
      "Optimization Iteration: 2580001, Training Accuracy:  97.7%\n",
      "Optimization Iteration: 2580001, Training Accuracy:  97.7%\n",
      "Optimization Iteration: 2580001, Training Accuracy:  97.7%\n",
      "Optimization Iteration: 2580001, Training Accuracy:  93.0%\n",
      "Optimization Iteration: 2580001, Training Accuracy:  97.7%\n",
      "Optimization Iteration: 2580001, Training Accuracy:  97.7%\n",
      "Optimization Iteration: 2580001, Training Accuracy:  95.3%\n",
      "Optimization Iteration: 2580001, Training Accuracy:  95.3%\n",
      "Optimization Iteration: 2580001, Training Accuracy: 100.0%\n",
      "Optimization Iteration: 2580001, Training Accuracy:  97.7%\n",
      "Optimization Iteration: 2580001, Training Accuracy:  97.7%\n",
      "Optimization Iteration: 2580001, Training Accuracy:  86.0%\n",
      "Optimization Iteration: 2580001, Training Accuracy: 100.0%\n",
      "Optimization Iteration: 2580001, Training Accuracy:  93.0%\n",
      "Optimization Iteration: 2580001, Training Accuracy:  90.7%\n",
      "Optimization Iteration: 2580001, Training Accuracy:  81.4%\n",
      "Optimization Iteration: 2580001, Training Accuracy:  90.7%\n",
      "Optimization Iteration: 2580001, Training Accuracy:  97.7%\n",
      "Optimization Iteration: 2580001, Training Accuracy: 100.0%\n",
      "Optimization Iteration: 2580001, Training Accuracy:  95.3%\n",
      "Optimization Iteration: 2580001, Training Accuracy:  95.3%\n",
      "Optimization Iteration: 2580001, Training Accuracy:  95.3%\n",
      "Optimization Iteration: 2580001, Training Accuracy:  97.7%\n",
      "Optimization Iteration: 2580001, Training Accuracy: 100.0%\n",
      "Optimization Iteration: 2580001, Training Accuracy:  97.7%\n",
      "Optimization Iteration: 2580001, Training Accuracy:  97.7%\n",
      "Optimization Iteration: 2580001, Training Accuracy: 100.0%\n",
      "Optimization Iteration: 2580001, Training Accuracy:  97.7%\n",
      "Optimization Iteration: 2580001, Training Accuracy:  97.7%\n",
      "Optimization Iteration: 2580001, Training Accuracy:  95.3%\n",
      "Optimization Iteration: 2580001, Training Accuracy:  97.7%\n",
      "Optimization Iteration: 2580001, Training Accuracy: 100.0%\n",
      "Optimization Iteration: 2580001, Training Accuracy:  95.3%\n",
      "Optimization Iteration: 2580001, Training Accuracy:  97.7%\n",
      "Optimization Iteration: 2580001, Training Accuracy:  97.7%\n",
      "Optimization Iteration: 2580001, Training Accuracy:  97.7%\n",
      "Optimization Iteration: 2580001, Training Accuracy: 100.0%\n",
      "Optimization Iteration: 2580001, Training Accuracy: 100.0%\n",
      "Time usage: 0:03:02\n"
     ]
    }
   ],
   "source": [
    "optimize(num_iterations=50000)"
   ]
  },
  {
   "cell_type": "code",
   "execution_count": 621,
   "metadata": {
    "collapsed": false,
    "deletable": true,
    "editable": true
   },
   "outputs": [
    {
     "name": "stdout",
     "output_type": "stream",
     "text": [
      "Accuracy on Test-Set: 84.0% (447 / 532)\n",
      "Example errors:\n",
      "Confusion Matrix:\n",
      "[[74  0  1  0  0  0  0]\n",
      " [ 0 77  0  0  0  0  0]\n",
      " [16  4 54  0  0  3  0]\n",
      " [11 10  0 55  0  0  0]\n",
      " [ 2  1  0  0 61 11  0]\n",
      " [ 0  0  0  0  0 72  0]\n",
      " [ 8  4  6  1  0  7 54]]\n"
     ]
    },
    {
     "data": {
      "image/png": "[encoded data removed]",
      "text/plain": [
       "<matplotlib.figure.Figure at 0x11d716050>"
      ]
     },
     "metadata": {},
     "output_type": "display_data"
    }
   ],
   "source": [
    "print_test_accuracy(show_example_errors=True,show_confusion_matrix=True)"
   ]
  },
  {
   "cell_type": "code",
   "execution_count": 622,
   "metadata": {
    "collapsed": false,
    "deletable": true,
    "editable": true
   },
   "outputs": [
    {
     "name": "stdout",
     "output_type": "stream",
     "text": [
      "Optimization Iteration: 2630001, Training Accuracy: 100.0%\n",
      "Optimization Iteration: 2630001, Training Accuracy:  97.7%\n",
      "Optimization Iteration: 2630001, Training Accuracy:  97.7%\n",
      "Optimization Iteration: 2630001, Training Accuracy:  93.0%\n",
      "Optimization Iteration: 2630001, Training Accuracy:  97.7%\n",
      "Optimization Iteration: 2630001, Training Accuracy:  97.7%\n",
      "Optimization Iteration: 2630001, Training Accuracy:  95.3%\n",
      "Optimization Iteration: 2630001, Training Accuracy:  97.7%\n",
      "Optimization Iteration: 2630001, Training Accuracy: 100.0%\n",
      "Optimization Iteration: 2630001, Training Accuracy:  97.7%\n",
      "Optimization Iteration: 2630001, Training Accuracy:  97.7%\n",
      "Optimization Iteration: 2630001, Training Accuracy:  88.4%\n",
      "Optimization Iteration: 2630001, Training Accuracy: 100.0%\n",
      "Optimization Iteration: 2630001, Training Accuracy:  93.0%\n",
      "Optimization Iteration: 2630001, Training Accuracy:  90.7%\n",
      "Optimization Iteration: 2630001, Training Accuracy:  81.4%\n",
      "Optimization Iteration: 2630001, Training Accuracy:  90.7%\n",
      "Optimization Iteration: 2630001, Training Accuracy:  97.7%\n",
      "Optimization Iteration: 2630001, Training Accuracy: 100.0%\n",
      "Optimization Iteration: 2630001, Training Accuracy:  95.3%\n",
      "Optimization Iteration: 2630001, Training Accuracy:  95.3%\n",
      "Optimization Iteration: 2630001, Training Accuracy:  95.3%\n",
      "Optimization Iteration: 2630001, Training Accuracy:  97.7%\n",
      "Optimization Iteration: 2630001, Training Accuracy: 100.0%\n",
      "Optimization Iteration: 2630001, Training Accuracy:  97.7%\n",
      "Optimization Iteration: 2630001, Training Accuracy:  97.7%\n",
      "Optimization Iteration: 2630001, Training Accuracy: 100.0%\n",
      "Optimization Iteration: 2630001, Training Accuracy:  97.7%\n",
      "Optimization Iteration: 2630001, Training Accuracy:  97.7%\n",
      "Optimization Iteration: 2630001, Training Accuracy:  95.3%\n",
      "Optimization Iteration: 2630001, Training Accuracy:  97.7%\n",
      "Optimization Iteration: 2630001, Training Accuracy: 100.0%\n",
      "Optimization Iteration: 2630001, Training Accuracy:  95.3%\n",
      "Optimization Iteration: 2630001, Training Accuracy: 100.0%\n",
      "Optimization Iteration: 2630001, Training Accuracy:  97.7%\n",
      "Optimization Iteration: 2630001, Training Accuracy: 100.0%\n",
      "Optimization Iteration: 2630001, Training Accuracy: 100.0%\n",
      "Optimization Iteration: 2630001, Training Accuracy: 100.0%\n",
      "Time usage: 0:02:53\n"
     ]
    }
   ],
   "source": [
    "optimize(num_iterations=50000)"
   ]
  },
  {
   "cell_type": "code",
   "execution_count": 623,
   "metadata": {
    "collapsed": false,
    "deletable": true,
    "editable": true
   },
   "outputs": [
    {
     "name": "stdout",
     "output_type": "stream",
     "text": [
      "Accuracy on Test-Set: 85.2% (453 / 532)\n",
      "Example errors:\n",
      "Confusion Matrix:\n",
      "[[73  1  1  0  0  0  0]\n",
      " [ 0 77  0  0  0  0  0]\n",
      " [13  4 58  0  0  2  0]\n",
      " [ 9 12  0 55  0  0  0]\n",
      " [ 1  1  0  0 64  9  0]\n",
      " [ 0  0  0  0  0 72  0]\n",
      " [ 8  5  6  1  0  6 54]]\n"
     ]
    },
    {
     "data": {
      "image/png": "[encoded data removed]",
      "text/plain": [
       "<matplotlib.figure.Figure at 0x110b7ead0>"
      ]
     },
     "metadata": {},
     "output_type": "display_data"
    }
   ],
   "source": [
    "print_test_accuracy(show_example_errors=True,show_confusion_matrix=True)"
   ]
  },
  {
   "cell_type": "code",
   "execution_count": 624,
   "metadata": {
    "collapsed": false,
    "deletable": true,
    "editable": true
   },
   "outputs": [
    {
     "name": "stdout",
     "output_type": "stream",
     "text": [
      "Optimization Iteration: 2680001, Training Accuracy: 100.0%\n",
      "Optimization Iteration: 2680001, Training Accuracy:  97.7%\n",
      "Optimization Iteration: 2680001, Training Accuracy: 100.0%\n",
      "Optimization Iteration: 2680001, Training Accuracy:  93.0%\n",
      "Optimization Iteration: 2680001, Training Accuracy:  97.7%\n",
      "Optimization Iteration: 2680001, Training Accuracy:  97.7%\n",
      "Optimization Iteration: 2680001, Training Accuracy:  95.3%\n",
      "Optimization Iteration: 2680001, Training Accuracy:  97.7%\n",
      "Optimization Iteration: 2680001, Training Accuracy:  97.7%\n",
      "Optimization Iteration: 2680001, Training Accuracy:  97.7%\n",
      "Optimization Iteration: 2680001, Training Accuracy:  97.7%\n",
      "Optimization Iteration: 2680001, Training Accuracy:  90.7%\n",
      "Optimization Iteration: 2680001, Training Accuracy: 100.0%\n",
      "Optimization Iteration: 2680001, Training Accuracy:  93.0%\n",
      "Optimization Iteration: 2680001, Training Accuracy:  90.7%\n",
      "Optimization Iteration: 2680001, Training Accuracy:  81.4%\n",
      "Optimization Iteration: 2680001, Training Accuracy:  93.0%\n",
      "Optimization Iteration: 2680001, Training Accuracy:  97.7%\n",
      "Optimization Iteration: 2680001, Training Accuracy: 100.0%\n",
      "Optimization Iteration: 2680001, Training Accuracy:  95.3%\n",
      "Optimization Iteration: 2680001, Training Accuracy:  97.7%\n",
      "Optimization Iteration: 2680001, Training Accuracy:  95.3%\n",
      "Optimization Iteration: 2680001, Training Accuracy:  97.7%\n",
      "Optimization Iteration: 2680001, Training Accuracy: 100.0%\n",
      "Optimization Iteration: 2680001, Training Accuracy:  97.7%\n",
      "Optimization Iteration: 2680001, Training Accuracy:  97.7%\n",
      "Optimization Iteration: 2680001, Training Accuracy: 100.0%\n",
      "Optimization Iteration: 2680001, Training Accuracy:  97.7%\n",
      "Optimization Iteration: 2680001, Training Accuracy:  97.7%\n",
      "Optimization Iteration: 2680001, Training Accuracy:  95.3%\n",
      "Optimization Iteration: 2680001, Training Accuracy:  97.7%\n",
      "Optimization Iteration: 2680001, Training Accuracy: 100.0%\n",
      "Optimization Iteration: 2680001, Training Accuracy:  95.3%\n",
      "Optimization Iteration: 2680001, Training Accuracy: 100.0%\n",
      "Optimization Iteration: 2680001, Training Accuracy:  97.7%\n",
      "Optimization Iteration: 2680001, Training Accuracy: 100.0%\n",
      "Optimization Iteration: 2680001, Training Accuracy: 100.0%\n",
      "Optimization Iteration: 2680001, Training Accuracy: 100.0%\n",
      "Time usage: 0:02:52\n"
     ]
    }
   ],
   "source": [
    "optimize(num_iterations=50000)"
   ]
  },
  {
   "cell_type": "code",
   "execution_count": 625,
   "metadata": {
    "collapsed": false,
    "deletable": true,
    "editable": true
   },
   "outputs": [
    {
     "name": "stdout",
     "output_type": "stream",
     "text": [
      "Accuracy on Test-Set: 86.8% (462 / 532)\n",
      "Example errors:\n",
      "Confusion Matrix:\n",
      "[[72  2  1  0  0  0  0]\n",
      " [ 0 77  0  0  0  0  0]\n",
      " [10  4 63  0  0  0  0]\n",
      " [ 5 12  0 59  0  0  0]\n",
      " [ 1  1  0  0 65  8  0]\n",
      " [ 0  0  0  0  0 72  0]\n",
      " [ 4  5 10  1  0  6 54]]\n"
     ]
    },
    {
     "data": {
      "image/png": "[encoded data removed]",
      "text/plain": [
       "<matplotlib.figure.Figure at 0x11eed0990>"
      ]
     },
     "metadata": {},
     "output_type": "display_data"
    }
   ],
   "source": [
    "print_test_accuracy(show_example_errors=True,show_confusion_matrix=True)"
   ]
  },
  {
   "cell_type": "code",
   "execution_count": 626,
   "metadata": {
    "collapsed": false,
    "deletable": true,
    "editable": true
   },
   "outputs": [
    {
     "name": "stdout",
     "output_type": "stream",
     "text": [
      "Optimization Iteration: 2730001, Training Accuracy: 100.0%\n",
      "Optimization Iteration: 2730001, Training Accuracy:  97.7%\n",
      "Optimization Iteration: 2730001, Training Accuracy: 100.0%\n",
      "Optimization Iteration: 2730001, Training Accuracy:  97.7%\n",
      "Optimization Iteration: 2730001, Training Accuracy:  97.7%\n",
      "Optimization Iteration: 2730001, Training Accuracy:  97.7%\n",
      "Optimization Iteration: 2730001, Training Accuracy:  95.3%\n",
      "Optimization Iteration: 2730001, Training Accuracy: 100.0%\n",
      "Optimization Iteration: 2730001, Training Accuracy:  97.7%\n",
      "Optimization Iteration: 2730001, Training Accuracy: 100.0%\n",
      "Optimization Iteration: 2730001, Training Accuracy:  97.7%\n",
      "Optimization Iteration: 2730001, Training Accuracy:  86.0%\n",
      "Optimization Iteration: 2730001, Training Accuracy: 100.0%\n",
      "Optimization Iteration: 2730001, Training Accuracy:  90.7%\n",
      "Optimization Iteration: 2730001, Training Accuracy:  90.7%\n",
      "Optimization Iteration: 2730001, Training Accuracy:  81.4%\n",
      "Optimization Iteration: 2730001, Training Accuracy:  93.0%\n",
      "Optimization Iteration: 2730001, Training Accuracy:  97.7%\n",
      "Optimization Iteration: 2730001, Training Accuracy: 100.0%\n",
      "Optimization Iteration: 2730001, Training Accuracy:  93.0%\n",
      "Optimization Iteration: 2730001, Training Accuracy:  97.7%\n",
      "Optimization Iteration: 2730001, Training Accuracy:  95.3%\n",
      "Optimization Iteration: 2730001, Training Accuracy:  97.7%\n",
      "Optimization Iteration: 2730001, Training Accuracy: 100.0%\n",
      "Optimization Iteration: 2730001, Training Accuracy:  97.7%\n",
      "Optimization Iteration: 2730001, Training Accuracy:  97.7%\n",
      "Optimization Iteration: 2730001, Training Accuracy: 100.0%\n",
      "Optimization Iteration: 2730001, Training Accuracy:  97.7%\n",
      "Optimization Iteration: 2730001, Training Accuracy:  97.7%\n",
      "Optimization Iteration: 2730001, Training Accuracy:  95.3%\n",
      "Optimization Iteration: 2730001, Training Accuracy: 100.0%\n",
      "Optimization Iteration: 2730001, Training Accuracy: 100.0%\n",
      "Optimization Iteration: 2730001, Training Accuracy:  95.3%\n",
      "Optimization Iteration: 2730001, Training Accuracy: 100.0%\n",
      "Optimization Iteration: 2730001, Training Accuracy:  97.7%\n",
      "Optimization Iteration: 2730001, Training Accuracy: 100.0%\n",
      "Optimization Iteration: 2730001, Training Accuracy: 100.0%\n",
      "Optimization Iteration: 2730001, Training Accuracy: 100.0%\n",
      "Time usage: 0:03:13\n"
     ]
    }
   ],
   "source": [
    "optimize(num_iterations=50000)"
   ]
  },
  {
   "cell_type": "code",
   "execution_count": 627,
   "metadata": {
    "collapsed": false,
    "deletable": true,
    "editable": true
   },
   "outputs": [
    {
     "name": "stdout",
     "output_type": "stream",
     "text": [
      "Accuracy on Test-Set: 88.9% (473 / 532)\n",
      "Example errors:\n",
      "Confusion Matrix:\n",
      "[[72  2  1  0  0  0  0]\n",
      " [ 0 77  0  0  0  0  0]\n",
      " [ 8  5 64  0  0  0  0]\n",
      " [ 5  9  0 62  0  0  0]\n",
      " [ 1  0  0  0 68  6  0]\n",
      " [ 0  0  0  0  0 72  0]\n",
      " [ 1  4  9  2  0  6 58]]\n"
     ]
    },
    {
     "data": {
      "image/png": "[encoded data removed]",
      "text/plain": [
       "<matplotlib.figure.Figure at 0x11e96e450>"
      ]
     },
     "metadata": {},
     "output_type": "display_data"
    }
   ],
   "source": [
    "print_test_accuracy(show_example_errors=True,show_confusion_matrix=True)"
   ]
  },
  {
   "cell_type": "markdown",
   "metadata": {
    "deletable": true,
    "editable": true
   },
   "source": [
    "### Exercises\n",
    "These are a few suggestions for exercises that may help improve your skills with TensorFlow. It is important to get hands-on experience with TensorFlow in order to learn how to use it properly.\n",
    "\n",
    "You may want to backup this Notebook before making any changes.\n",
    "1. Do you get the exact same results if you run the Notebook multiple times without changing any parameters? What are the sources of randomness?\n",
    "2. Run another 10,000 optimization iterations. Are the results better?\n",
    "3. Change the learning-rate for the optimizer.\n",
    "4. Change the configuration of the layers, such as the number of convolutional filters, the size of those filters, the number of neurons in the fully-connected layer, etc.\n",
    "5. Add a so-called drop-out layer after the fully-connected layer. Note that the drop-out probability should be zero when calculating the classification accuracy, so you will need a placeholder variable for this probability.\n",
    "6. Change the order of ReLU and max-pooling in the convolutional layer. Does it calculate the same thing? What is the fastest way of computing it? How many calculations are saved? Does it also work for Sigmoid-functions and average-pooling?\n",
    "7. Add one or more convolutional and fully-connected layers. Does it help performance?\n",
    "8. What is the smallest possible configuration that still gives good results?\n",
    "9. Try using ReLU in the last fully-connected layer. Does the performance change? Why?\n",
    "10. Try not using pooling in the convolutional layers. Does it change the classification accuracy and training time?\n",
    "11. Try using a 2x2 stride in the convolution instead of max-pooling? What is the difference?\n",
    "12. Remake the program yourself without looking too much at this source-code.\n",
    "13. Explain to a friend how the program works."
   ]
  },
  {
   "cell_type": "code",
   "execution_count": null,
   "metadata": {
    "collapsed": true,
    "deletable": true,
    "editable": true
   },
   "outputs": [],
   "source": []
  },
  {
   "cell_type": "code",
   "execution_count": null,
   "metadata": {
    "collapsed": true,
    "deletable": true,
    "editable": true
   },
   "outputs": [],
   "source": []
  },
  {
   "cell_type": "code",
   "execution_count": null,
   "metadata": {
    "collapsed": true,
    "deletable": true,
    "editable": true
   },
   "outputs": [],
   "source": []
  },
  {
   "cell_type": "code",
   "execution_count": null,
   "metadata": {
    "collapsed": true,
    "deletable": true,
    "editable": true
   },
   "outputs": [],
   "source": []
  },
  {
   "cell_type": "code",
   "execution_count": null,
   "metadata": {
    "collapsed": true,
    "deletable": true,
    "editable": true
   },
   "outputs": [],
   "source": []
  }
 ],
 "metadata": {
  "kernelspec": {
   "display_name": "Python 2",
   "language": "python",
   "name": "python2"
  },
  "language_info": {
   "codemirror_mode": {
    "name": "ipython",
    "version": 2
   },
   "file_extension": ".py",
   "mimetype": "text/x-python",
   "name": "python",
   "nbconvert_exporter": "python",
   "pygments_lexer": "ipython2",
   "version": "2.7.10"
  }
 },
 "nbformat": 4,
 "nbformat_minor": 2
}
